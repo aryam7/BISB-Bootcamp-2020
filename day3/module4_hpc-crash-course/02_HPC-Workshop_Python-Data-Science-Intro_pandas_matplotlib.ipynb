{
 "cells": [
  {
   "cell_type": "markdown",
   "metadata": {},
   "source": [
    "# Python Data Science Bite-Sized Lesson:<br>Introduction to Pandas and Matplotlib\n",
    "\n",
    "**Author**: Michelle Franc Ragsac (mragsac@eng.ucsd.edu)\n",
    "\n",
    "---\n",
    "\n",
    "**Notebook Information:**\n",
    "\n",
    "This Jupyter Notebook contains information on the basic functionality of the `pandas` and `matplotlib` packages in Python for Module 4: Introduction to HPC. <br>It's running with a `Python 3` kernel! \n",
    "\n",
    "---\n",
    "\n",
    "## Import Necessary Packages for the Module\n",
    "\n",
    "Before we start coding, we want to import the `modules` that we'll be using in our notebook. This is the same as importing the modules at the beginning of a Python script. \n",
    "\n",
    "For the three packages we'll be going through for this series of notebooks, they have different conventions for how they're called in people's code. The shorthand for `numpy` is `np`, `pandas` is `pd`, and `matplotlib.pyplot` is `plt`. If you find any code online (e.g., through StackOverflow) and you see these terms, these are the packages they're usually referring to! "
   ]
  },
  {
   "cell_type": "code",
   "execution_count": 1,
   "metadata": {},
   "outputs": [],
   "source": [
    "import numpy as np                 # adds support for large, multi-dimensional arrays and optimized linear alg \n",
    "import pandas as pd                # adds support for Excel-like table operations (i.e. R Data Frames)\n",
    "import matplotlib.pyplot as plt    # adds support for plotting in Python"
   ]
  },
  {
   "cell_type": "markdown",
   "metadata": {},
   "source": [
    "In addition to importing these packages, there is a special line that we can add to view any plots generated with `matplotlib` within our notebook as part of the output of a code cell! \n",
    "\n",
    "This special line is called a \"magic function\"! \n",
    "\n",
    "**Documentation on Magic Functions in Jupyter Notebooks**: https://ipython.readthedocs.io/en/stable/interactive/magics.html"
   ]
  },
  {
   "cell_type": "code",
   "execution_count": 2,
   "metadata": {},
   "outputs": [],
   "source": [
    "%matplotlib inline"
   ]
  },
  {
   "cell_type": "markdown",
   "metadata": {},
   "source": [
    "---"
   ]
  },
  {
   "cell_type": "markdown",
   "metadata": {},
   "source": [
    "## Introduction to Pandas\n",
    "\n",
    "Pandas is an open-source data analysis package in Python that aids in data analysis and manipulation using `DataFrame` and `Series` objects. These `DataFrame` objects can be thought of as multidimensional arrays with attached row and column tables, similar to the tables found in Excel Spreadsheets or `data.frame` objects in the R Programming Language. The `Series` objects can be thought of as a single column with connected row and column labels. Pandas also has tools for reading and writing data between in-memory structures and different commonly-used formats, such as CSV, text files, Microsoft Excel sheets, SQL databases, and the HDF5 format. \n",
    "\n",
    "**Pandas Website**: https://pandas.pydata.org/\n",
    "<br>**Pandas Code Base on GitHub**: https://github.com/pandas-dev/pandas\n",
    "\n",
    "---"
   ]
  },
  {
   "cell_type": "markdown",
   "metadata": {},
   "source": [
    "## Creating a Pandas `DataFrame` from Scratch\n",
    "\n",
    "To start off, we'll learn how to create a `DataFrame` object from scratch. This is an important skill to learn as it helps you test new methods and functions you might find in the Pandas documentation. One of the easisest ways to create a `DataFrame` from scratch is to use a `dict` object. \n",
    "\n",
    "<div class=\"alert alert-block alert-info\">\n",
    "    <b>Note:</b> Dictionaries (<code>dict</code>) are a hash table sstructure that is built into Python. They're unordered collections of items where each item has an associated key-value pairing. Dictionaries are optimized to retrieve values when a key is provided. \n",
    "</div>"
   ]
  },
  {
   "cell_type": "code",
   "execution_count": 6,
   "metadata": {},
   "outputs": [
    {
     "data": {
      "text/html": [
       "<div>\n",
       "<style scoped>\n",
       "    .dataframe tbody tr th:only-of-type {\n",
       "        vertical-align: middle;\n",
       "    }\n",
       "\n",
       "    .dataframe tbody tr th {\n",
       "        vertical-align: top;\n",
       "    }\n",
       "\n",
       "    .dataframe thead th {\n",
       "        text-align: right;\n",
       "    }\n",
       "</style>\n",
       "<table border=\"1\" class=\"dataframe\">\n",
       "  <thead>\n",
       "    <tr style=\"text-align: right;\">\n",
       "      <th></th>\n",
       "      <th>tacos</th>\n",
       "      <th>burritos</th>\n",
       "    </tr>\n",
       "  </thead>\n",
       "  <tbody>\n",
       "    <tr>\n",
       "      <th>Michelle</th>\n",
       "      <td>1</td>\n",
       "      <td>1</td>\n",
       "    </tr>\n",
       "    <tr>\n",
       "      <th>Cameron</th>\n",
       "      <td>3</td>\n",
       "      <td>1</td>\n",
       "    </tr>\n",
       "    <tr>\n",
       "      <th>Owen</th>\n",
       "      <td>2</td>\n",
       "      <td>2</td>\n",
       "    </tr>\n",
       "  </tbody>\n",
       "</table>\n",
       "</div>"
      ],
      "text/plain": [
       "          tacos  burritos\n",
       "Michelle      1         1\n",
       "Cameron       3         1\n",
       "Owen          2         2"
      ]
     },
     "execution_count": 6,
     "metadata": {},
     "output_type": "execute_result"
    }
   ],
   "source": [
    "# Create a dictionary called data and populate each key with its values (key : value)\n",
    "data = {\n",
    "    'tacos': [1, 3, 2],\n",
    "    'burritos': [1, 1, 2]\n",
    "}\n",
    "\n",
    "# Create a list called names containing what we want to label our indices in our dataframe\n",
    "names = ['Michelle', 'Cameron', 'Owen']\n",
    "\n",
    "# Pass the dictionary to the DataFrame constructor to create a dataframe called purchases\n",
    "purchases = pd.DataFrame(data, index=names)\n",
    "purchases # preview the dataframe in the notebook"
   ]
  },
  {
   "cell_type": "markdown",
   "metadata": {},
   "source": [
    "Now, we have a `DataFrame` object called `puchases` containing a table of how many `burritos` and `tacos` each person purchased! "
   ]
  },
  {
   "cell_type": "markdown",
   "metadata": {},
   "source": [
    "## Selecting Rows in a `DataFrame` Based on its Index Value\n",
    "\n",
    "Say we wanted to know how many `tacos` and `burritos` Cameron purchased. We can select rows within the `DataFrame` object using the `loc()` method:"
   ]
  },
  {
   "cell_type": "code",
   "execution_count": 7,
   "metadata": {},
   "outputs": [
    {
     "data": {
      "text/plain": [
       "tacos       3\n",
       "burritos    1\n",
       "Name: Cameron, dtype: int64"
      ]
     },
     "execution_count": 7,
     "metadata": {},
     "output_type": "execute_result"
    }
   ],
   "source": [
    "purchases.loc['Cameron']"
   ]
  },
  {
   "cell_type": "markdown",
   "metadata": {},
   "source": [
    "From this command, we can see that Cameron purchased three `tacos` and one `burrito`! "
   ]
  },
  {
   "cell_type": "markdown",
   "metadata": {},
   "source": [
    "---"
   ]
  },
  {
   "cell_type": "markdown",
   "metadata": {},
   "source": [
    "## Reading in Data into a `DataFrame` Object"
   ]
  },
  {
   "cell_type": "code",
   "execution_count": null,
   "metadata": {},
   "outputs": [],
   "source": []
  }
 ],
 "metadata": {
  "kernelspec": {
   "display_name": "Python 3",
   "language": "python",
   "name": "python3"
  },
  "language_info": {
   "codemirror_mode": {
    "name": "ipython",
    "version": 3
   },
   "file_extension": ".py",
   "mimetype": "text/x-python",
   "name": "python",
   "nbconvert_exporter": "python",
   "pygments_lexer": "ipython3",
   "version": "3.8.3"
  }
 },
 "nbformat": 4,
 "nbformat_minor": 4
}
