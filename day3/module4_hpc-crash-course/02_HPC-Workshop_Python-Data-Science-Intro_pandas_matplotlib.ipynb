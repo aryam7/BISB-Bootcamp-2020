{
 "cells": [
  {
   "cell_type": "markdown",
   "metadata": {},
   "source": [
    "# Python Data Science Bite-Sized Lesson:<br>Introduction to Pandas and Matplotlib\n",
    "\n",
    "**Author**: Michelle Franc Ragsac (mragsac@eng.ucsd.edu)\n",
    "\n",
    "---\n",
    "\n",
    "**Notebook Information:**\n",
    "\n",
    "This Jupyter Notebook contains information on the basic functionality of the `pandas` and `matplotlib` packages in Python for Module 4: Introduction to HPC. <br>It's running with a `Python 3` kernel! \n",
    "\n",
    "---\n",
    "\n",
    "## Import Necessary Packages for the Module\n",
    "\n",
    "Before we start coding, we want to import the `modules` that we'll be using in our notebook. This is the same as importing the modules at the beginning of a Python script. \n",
    "\n",
    "For the three packages we'll be going through for this series of notebooks, they have different conventions for how they're called in people's code. The shorthand for `numpy` is `np`, `pandas` is `pd`, and `matplotlib.pyplot` is `plt`. If you find any code online (e.g., through StackOverflow) and you see these terms, these are the packages they're usually referring to! "
   ]
  },
  {
   "cell_type": "code",
   "execution_count": 1,
   "metadata": {},
   "outputs": [],
   "source": [
    "import numpy as np                 # adds support for large, multi-dimensional arrays and optimized linear alg \n",
    "import pandas as pd                # adds support for Excel-like table operations (i.e. R Data Frames)\n",
    "import matplotlib.pyplot as plt    # adds support for plotting in Python"
   ]
  },
  {
   "cell_type": "markdown",
   "metadata": {},
   "source": [
    "In addition to importing these packages, there is a special line that we can add to view any plots generated with `matplotlib` within our notebook as part of the output of a code cell! \n",
    "\n",
    "This special line is called a \"magic function\"! \n",
    "\n",
    "**Documentation on Magic Functions in Jupyter Notebooks**: https://ipython.readthedocs.io/en/stable/interactive/magics.html"
   ]
  },
  {
   "cell_type": "code",
   "execution_count": 2,
   "metadata": {},
   "outputs": [],
   "source": [
    "%matplotlib inline"
   ]
  },
  {
   "cell_type": "markdown",
   "metadata": {},
   "source": [
    "---"
   ]
  },
  {
   "cell_type": "markdown",
   "metadata": {},
   "source": [
    "## Introduction to Pandas\n",
    "\n",
    "Pandas is an open-source data analysis package in Python that aids in data analysis and manipulation using `DataFrame` and `Series` objects. These `DataFrame` objects can be thought of as multidimensional arrays with attached row and column tables, similar to the tables found in Excel Spreadsheets or `data.frame` objects in the R Programming Language. The `Series` objects can be thought of as a single column with connected row and column labels. Pandas also has tools for reading and writing data between in-memory structures and different commonly-used formats, such as CSV, text files, Microsoft Excel sheets, SQL databases, and the HDF5 format. \n",
    "\n",
    "<div class=\"alert alert-block alert-info\">\n",
    "    <b>Note:</b> This notebook contains a <strong>very brief</strong> introduction to the Pandas package in Python and is nowhere near comprehensive! I encourage you to look up other tutorials online if you want to delve in deeper and unlock Pandas' full potential for your analyses! \n",
    "</div>\n",
    "\n",
    "**Pandas Website**: https://pandas.pydata.org/\n",
    "<br>**Pandas Code Base on GitHub**: https://github.com/pandas-dev/pandas\n",
    "\n",
    "---"
   ]
  },
  {
   "cell_type": "markdown",
   "metadata": {},
   "source": [
    "## Creating a Pandas `DataFrame` from Scratch\n",
    "\n",
    "To start off, we'll learn how to create a `DataFrame` object from scratch. This is an important skill to learn as it helps you test new methods and functions you might find in the Pandas documentation. One of the easisest ways to create a `DataFrame` from scratch is to use a `dict` object. \n",
    "\n",
    "<div class=\"alert alert-block alert-info\">\n",
    "    <b>Note:</b> Dictionaries (<code>dict</code>) are a hash table sstructure that is built into Python. They're unordered collections of items where each item has an associated key-value pairing. Dictionaries are optimized to retrieve values when a key is provided. \n",
    "</div>"
   ]
  },
  {
   "cell_type": "code",
   "execution_count": 6,
   "metadata": {},
   "outputs": [
    {
     "data": {
      "text/html": [
       "<div>\n",
       "<style scoped>\n",
       "    .dataframe tbody tr th:only-of-type {\n",
       "        vertical-align: middle;\n",
       "    }\n",
       "\n",
       "    .dataframe tbody tr th {\n",
       "        vertical-align: top;\n",
       "    }\n",
       "\n",
       "    .dataframe thead th {\n",
       "        text-align: right;\n",
       "    }\n",
       "</style>\n",
       "<table border=\"1\" class=\"dataframe\">\n",
       "  <thead>\n",
       "    <tr style=\"text-align: right;\">\n",
       "      <th></th>\n",
       "      <th>tacos</th>\n",
       "      <th>burritos</th>\n",
       "    </tr>\n",
       "  </thead>\n",
       "  <tbody>\n",
       "    <tr>\n",
       "      <th>Michelle</th>\n",
       "      <td>1</td>\n",
       "      <td>1</td>\n",
       "    </tr>\n",
       "    <tr>\n",
       "      <th>Cameron</th>\n",
       "      <td>3</td>\n",
       "      <td>1</td>\n",
       "    </tr>\n",
       "    <tr>\n",
       "      <th>Owen</th>\n",
       "      <td>2</td>\n",
       "      <td>2</td>\n",
       "    </tr>\n",
       "  </tbody>\n",
       "</table>\n",
       "</div>"
      ],
      "text/plain": [
       "          tacos  burritos\n",
       "Michelle      1         1\n",
       "Cameron       3         1\n",
       "Owen          2         2"
      ]
     },
     "execution_count": 6,
     "metadata": {},
     "output_type": "execute_result"
    }
   ],
   "source": [
    "# Create a dictionary called data and populate each key with its values (key : value)\n",
    "data = {\n",
    "    'tacos': [1, 3, 2],\n",
    "    'burritos': [1, 1, 2]\n",
    "}\n",
    "\n",
    "# Create a list called names containing what we want to label our indices in our dataframe\n",
    "names = ['Michelle', 'Cameron', 'Owen']\n",
    "\n",
    "# Pass the dictionary to the DataFrame constructor to create a dataframe called purchases\n",
    "purchases = pd.DataFrame(data, index=names)\n",
    "purchases # preview the dataframe in the notebook"
   ]
  },
  {
   "cell_type": "markdown",
   "metadata": {},
   "source": [
    "Now, we have a `DataFrame` object called `puchases` containing a table of how many `burritos` and `tacos` each person purchased! "
   ]
  },
  {
   "cell_type": "markdown",
   "metadata": {},
   "source": [
    "## Selecting Rows in a `DataFrame` Based on its Index Value\n",
    "\n",
    "Say we wanted to know how many `tacos` and `burritos` Cameron purchased. We can select rows within the `DataFrame` object using the `loc()` method:"
   ]
  },
  {
   "cell_type": "code",
   "execution_count": 7,
   "metadata": {},
   "outputs": [
    {
     "data": {
      "text/plain": [
       "tacos       3\n",
       "burritos    1\n",
       "Name: Cameron, dtype: int64"
      ]
     },
     "execution_count": 7,
     "metadata": {},
     "output_type": "execute_result"
    }
   ],
   "source": [
    "purchases.loc['Cameron']"
   ]
  },
  {
   "cell_type": "markdown",
   "metadata": {},
   "source": [
    "From this command, we can see that Cameron purchased three `tacos` and one `burrito`! "
   ]
  },
  {
   "cell_type": "markdown",
   "metadata": {},
   "source": [
    "## Selecting Columns in a `DataFrame` Based on its Column Value\n",
    "\n",
    "Alternatively, say we wanted to know how many `tacos` were purchased amongst all of our customers. We can select columns within the `DataFrame` object with the following syntax: \n",
    "\n",
    "```python\n",
    "df[COLUMN_NAME]\n",
    "```\n",
    "\n",
    "Where `df` represents the name of the `DataFrame` we would like to interact with, and `COLUMN_NAME` represents the column that we want to index. \n",
    "\n",
    "Within our example, let's see how many tacos were purchased amongst all of our customers:"
   ]
  },
  {
   "cell_type": "code",
   "execution_count": 9,
   "metadata": {},
   "outputs": [
    {
     "data": {
      "text/plain": [
       "Michelle    1\n",
       "Cameron     3\n",
       "Owen        2\n",
       "Name: tacos, dtype: int64"
      ]
     },
     "execution_count": 9,
     "metadata": {},
     "output_type": "execute_result"
    }
   ],
   "source": [
    "purchases['tacos']"
   ]
  },
  {
   "cell_type": "markdown",
   "metadata": {},
   "source": [
    "This output shows us that Michelle purchased a single taco, Cameron purchased three tacos, and Owen purchased two tacos! \n",
    "\n",
    "Notice that the output also gives us the name of the column that we selected (`tacos`), as well as the type of the values within the column (`int64`)."
   ]
  },
  {
   "cell_type": "markdown",
   "metadata": {},
   "source": [
    "---\n",
    "\n",
    "## The First Steps: Reading in Data into a `DataFrame` Object\n",
    "\n",
    "Sometimes, the data that you want to look at with Pandas is stored as a CSV file, or a Microsoft Excel document, or even a SQL database! Regardless of the data storage format, to manipulate data with Pandas `DataFrame`s, the first step is to import the data into a data structure that is compatible with Pandas. \n",
    "\n",
    "Within this notebook, we'll be importing a CSV file containing nutritional data on 80 different breakfast cereals using the `read_csv()` method! This dataset was uploaded to the Kaggle website by user Chris Crawford, and the data was gathered and cleaned by Petra Isenberg, Pierre Dragicevic, and Yvonne Jansen. We'll be using this dataset as we learn about some of Pandas' basic functionality.\n",
    "\n",
    "<div class=\"alert alert-block alert-info\">\n",
    "    <b>Note:</b> Kaggle (<a href=\"https://www.kaggle.com/\">https://www.kaggle.com/</a>) is a large data science and machine learning community! It allows users to find and publish data sets, explore and build models in a web-based data science environment, and work with other data scientists and machine learning engineers. It's most well known for its online data science competitions where users can solve data science challenges that are provided by individuals or large companies.\n",
    "</div>\n",
    "\n",
    "**Input/Output Pandas Documentation**: https://pandas.pydata.org/pandas-docs/stable/reference/io.html\n",
    "\n",
    "**80 Cereals Kaggle Page**: https://www.kaggle.com/crawford/80-cereals/home\n",
    "<br>**80 Cereals Project Website**: https://perso.telecom-paristech.fr/eagan/class/igr204/datasets"
   ]
  },
  {
   "cell_type": "code",
   "execution_count": 10,
   "metadata": {},
   "outputs": [],
   "source": [
    "# First, we'll use the read_csv() method to read int the cereals dataset into a dataframe called df \n",
    "path_to_file = 'data/cereal.csv'\n",
    "df = pd.read_csv(path_to_file)"
   ]
  },
  {
   "cell_type": "markdown",
   "metadata": {},
   "source": [
    "### Previewing the Data with the `head()` and `tail()` Methods\n",
    "\n",
    "After reading in our data, one of the first things I like to do is to preview the raw data within the `DataFrame`. \n",
    "\n",
    "Personally, I like to do this to make sure that I read in the data properly and everything looks like how I would expect it to import (e.g., everything isn't all in one column, etc.). "
   ]
  },
  {
   "cell_type": "code",
   "execution_count": 11,
   "metadata": {},
   "outputs": [
    {
     "data": {
      "text/html": [
       "<div>\n",
       "<style scoped>\n",
       "    .dataframe tbody tr th:only-of-type {\n",
       "        vertical-align: middle;\n",
       "    }\n",
       "\n",
       "    .dataframe tbody tr th {\n",
       "        vertical-align: top;\n",
       "    }\n",
       "\n",
       "    .dataframe thead th {\n",
       "        text-align: right;\n",
       "    }\n",
       "</style>\n",
       "<table border=\"1\" class=\"dataframe\">\n",
       "  <thead>\n",
       "    <tr style=\"text-align: right;\">\n",
       "      <th></th>\n",
       "      <th>name</th>\n",
       "      <th>manufacturer</th>\n",
       "      <th>type</th>\n",
       "      <th>calories</th>\n",
       "      <th>protein</th>\n",
       "      <th>fat</th>\n",
       "      <th>sodium</th>\n",
       "      <th>fiber</th>\n",
       "      <th>carbo</th>\n",
       "      <th>sugars</th>\n",
       "      <th>potass</th>\n",
       "      <th>vitamins</th>\n",
       "      <th>weight</th>\n",
       "      <th>cups</th>\n",
       "      <th>rating</th>\n",
       "    </tr>\n",
       "  </thead>\n",
       "  <tbody>\n",
       "    <tr>\n",
       "      <th>0</th>\n",
       "      <td>100% Bran</td>\n",
       "      <td>Nabisco</td>\n",
       "      <td>Cold</td>\n",
       "      <td>70</td>\n",
       "      <td>4</td>\n",
       "      <td>1</td>\n",
       "      <td>130</td>\n",
       "      <td>10.0</td>\n",
       "      <td>5.0</td>\n",
       "      <td>6</td>\n",
       "      <td>280</td>\n",
       "      <td>25</td>\n",
       "      <td>1.0</td>\n",
       "      <td>0.33</td>\n",
       "      <td>68.402973</td>\n",
       "    </tr>\n",
       "    <tr>\n",
       "      <th>1</th>\n",
       "      <td>100% Natural Bran</td>\n",
       "      <td>Quaker Oats</td>\n",
       "      <td>Cold</td>\n",
       "      <td>120</td>\n",
       "      <td>3</td>\n",
       "      <td>5</td>\n",
       "      <td>15</td>\n",
       "      <td>2.0</td>\n",
       "      <td>8.0</td>\n",
       "      <td>8</td>\n",
       "      <td>135</td>\n",
       "      <td>0</td>\n",
       "      <td>1.0</td>\n",
       "      <td>1.00</td>\n",
       "      <td>33.983679</td>\n",
       "    </tr>\n",
       "    <tr>\n",
       "      <th>2</th>\n",
       "      <td>All-Bran</td>\n",
       "      <td>Kelloggs</td>\n",
       "      <td>Cold</td>\n",
       "      <td>70</td>\n",
       "      <td>4</td>\n",
       "      <td>1</td>\n",
       "      <td>260</td>\n",
       "      <td>9.0</td>\n",
       "      <td>7.0</td>\n",
       "      <td>5</td>\n",
       "      <td>320</td>\n",
       "      <td>25</td>\n",
       "      <td>1.0</td>\n",
       "      <td>0.33</td>\n",
       "      <td>59.425505</td>\n",
       "    </tr>\n",
       "    <tr>\n",
       "      <th>3</th>\n",
       "      <td>All-Bran with Extra Fiber</td>\n",
       "      <td>Kelloggs</td>\n",
       "      <td>Cold</td>\n",
       "      <td>50</td>\n",
       "      <td>4</td>\n",
       "      <td>0</td>\n",
       "      <td>140</td>\n",
       "      <td>14.0</td>\n",
       "      <td>8.0</td>\n",
       "      <td>0</td>\n",
       "      <td>330</td>\n",
       "      <td>25</td>\n",
       "      <td>1.0</td>\n",
       "      <td>0.50</td>\n",
       "      <td>93.704912</td>\n",
       "    </tr>\n",
       "    <tr>\n",
       "      <th>4</th>\n",
       "      <td>Almond Delight</td>\n",
       "      <td>Ralston Purina</td>\n",
       "      <td>Cold</td>\n",
       "      <td>110</td>\n",
       "      <td>2</td>\n",
       "      <td>2</td>\n",
       "      <td>200</td>\n",
       "      <td>1.0</td>\n",
       "      <td>14.0</td>\n",
       "      <td>8</td>\n",
       "      <td>-1</td>\n",
       "      <td>25</td>\n",
       "      <td>1.0</td>\n",
       "      <td>0.75</td>\n",
       "      <td>34.384843</td>\n",
       "    </tr>\n",
       "  </tbody>\n",
       "</table>\n",
       "</div>"
      ],
      "text/plain": [
       "                        name    manufacturer  type  calories  protein  fat  \\\n",
       "0                  100% Bran         Nabisco  Cold        70        4    1   \n",
       "1          100% Natural Bran     Quaker Oats  Cold       120        3    5   \n",
       "2                   All-Bran        Kelloggs  Cold        70        4    1   \n",
       "3  All-Bran with Extra Fiber        Kelloggs  Cold        50        4    0   \n",
       "4             Almond Delight  Ralston Purina  Cold       110        2    2   \n",
       "\n",
       "   sodium  fiber  carbo  sugars  potass  vitamins  weight  cups     rating  \n",
       "0     130   10.0    5.0       6     280        25     1.0  0.33  68.402973  \n",
       "1      15    2.0    8.0       8     135         0     1.0  1.00  33.983679  \n",
       "2     260    9.0    7.0       5     320        25     1.0  0.33  59.425505  \n",
       "3     140   14.0    8.0       0     330        25     1.0  0.50  93.704912  \n",
       "4     200    1.0   14.0       8      -1        25     1.0  0.75  34.384843  "
      ]
     },
     "execution_count": 11,
     "metadata": {},
     "output_type": "execute_result"
    }
   ],
   "source": [
    "# Next, we'll preview the first few rows of the data frame using the method head()\n",
    "df.head()"
   ]
  },
  {
   "cell_type": "markdown",
   "metadata": {},
   "source": [
    "As we can see from this preview from the `head()` method, this dataset contains several fields. I retrieved the field information from the Kaggle page for this dataset: \n",
    "\n",
    "| Field Name     | Description                          | Field Name | Description                                | Field Name | Description                                             |\n",
    "|----------------|--------------------------------------|------------|--------------------------------------------|------------|---------------------------------------------------------|\n",
    "| `name`         | Name of the cereal                   | `fat`      | Grams of fat per serving                   | `vitamins` | typical percentage of FDA-recommended vitamins/minerals |\n",
    "| `manufacturer` | Manufacturer of the cereal           | `sodium`   | Milligrams of sodium per serving           | `shelf`    | display shelf (`1`, `2`,  or `3` from the floor)        |\n",
    "| `type`         | Type of the cereal (`Cold` or `Hot`) | `fiber`    | Grams of dietary fiber per serving         | `weight`   | weight in ounces of one serving                         |\n",
    "| `calories`     | Calories per serving                 | `carbo`    | Grams of complex carbohydrates per serving | `cups`     | number of cups in one serving                           |\n",
    "| `protein`      | Grams of protein per serving         | `sugars`   | Grams of sugars per serving                | `rating`   | rating of the cereals                                   |\n",
    "\n",
    "Alternatively, we can also use the `tail()` method to preview the **end** of the `DataFrame` (versus the **beginning** of the `DataFrame`)."
   ]
  },
  {
   "cell_type": "code",
   "execution_count": 12,
   "metadata": {},
   "outputs": [
    {
     "data": {
      "text/html": [
       "<div>\n",
       "<style scoped>\n",
       "    .dataframe tbody tr th:only-of-type {\n",
       "        vertical-align: middle;\n",
       "    }\n",
       "\n",
       "    .dataframe tbody tr th {\n",
       "        vertical-align: top;\n",
       "    }\n",
       "\n",
       "    .dataframe thead th {\n",
       "        text-align: right;\n",
       "    }\n",
       "</style>\n",
       "<table border=\"1\" class=\"dataframe\">\n",
       "  <thead>\n",
       "    <tr style=\"text-align: right;\">\n",
       "      <th></th>\n",
       "      <th>name</th>\n",
       "      <th>manufacturer</th>\n",
       "      <th>type</th>\n",
       "      <th>calories</th>\n",
       "      <th>protein</th>\n",
       "      <th>fat</th>\n",
       "      <th>sodium</th>\n",
       "      <th>fiber</th>\n",
       "      <th>carbo</th>\n",
       "      <th>sugars</th>\n",
       "      <th>potass</th>\n",
       "      <th>vitamins</th>\n",
       "      <th>weight</th>\n",
       "      <th>cups</th>\n",
       "      <th>rating</th>\n",
       "    </tr>\n",
       "  </thead>\n",
       "  <tbody>\n",
       "    <tr>\n",
       "      <th>72</th>\n",
       "      <td>Triples</td>\n",
       "      <td>General Mills</td>\n",
       "      <td>Cold</td>\n",
       "      <td>110</td>\n",
       "      <td>2</td>\n",
       "      <td>1</td>\n",
       "      <td>250</td>\n",
       "      <td>0.0</td>\n",
       "      <td>21.0</td>\n",
       "      <td>3</td>\n",
       "      <td>60</td>\n",
       "      <td>25</td>\n",
       "      <td>1.0</td>\n",
       "      <td>0.75</td>\n",
       "      <td>39.106174</td>\n",
       "    </tr>\n",
       "    <tr>\n",
       "      <th>73</th>\n",
       "      <td>Trix</td>\n",
       "      <td>General Mills</td>\n",
       "      <td>Cold</td>\n",
       "      <td>110</td>\n",
       "      <td>1</td>\n",
       "      <td>1</td>\n",
       "      <td>140</td>\n",
       "      <td>0.0</td>\n",
       "      <td>13.0</td>\n",
       "      <td>12</td>\n",
       "      <td>25</td>\n",
       "      <td>25</td>\n",
       "      <td>1.0</td>\n",
       "      <td>1.00</td>\n",
       "      <td>27.753301</td>\n",
       "    </tr>\n",
       "    <tr>\n",
       "      <th>74</th>\n",
       "      <td>Wheat Chex</td>\n",
       "      <td>Ralston Purina</td>\n",
       "      <td>Cold</td>\n",
       "      <td>100</td>\n",
       "      <td>3</td>\n",
       "      <td>1</td>\n",
       "      <td>230</td>\n",
       "      <td>3.0</td>\n",
       "      <td>17.0</td>\n",
       "      <td>3</td>\n",
       "      <td>115</td>\n",
       "      <td>25</td>\n",
       "      <td>1.0</td>\n",
       "      <td>0.67</td>\n",
       "      <td>49.787445</td>\n",
       "    </tr>\n",
       "    <tr>\n",
       "      <th>75</th>\n",
       "      <td>Wheaties</td>\n",
       "      <td>General Mills</td>\n",
       "      <td>Cold</td>\n",
       "      <td>100</td>\n",
       "      <td>3</td>\n",
       "      <td>1</td>\n",
       "      <td>200</td>\n",
       "      <td>3.0</td>\n",
       "      <td>17.0</td>\n",
       "      <td>3</td>\n",
       "      <td>110</td>\n",
       "      <td>25</td>\n",
       "      <td>1.0</td>\n",
       "      <td>1.00</td>\n",
       "      <td>51.592193</td>\n",
       "    </tr>\n",
       "    <tr>\n",
       "      <th>76</th>\n",
       "      <td>Wheaties Honey Gold</td>\n",
       "      <td>General Mills</td>\n",
       "      <td>Cold</td>\n",
       "      <td>110</td>\n",
       "      <td>2</td>\n",
       "      <td>1</td>\n",
       "      <td>200</td>\n",
       "      <td>1.0</td>\n",
       "      <td>16.0</td>\n",
       "      <td>8</td>\n",
       "      <td>60</td>\n",
       "      <td>25</td>\n",
       "      <td>1.0</td>\n",
       "      <td>0.75</td>\n",
       "      <td>36.187559</td>\n",
       "    </tr>\n",
       "  </tbody>\n",
       "</table>\n",
       "</div>"
      ],
      "text/plain": [
       "                   name    manufacturer  type  calories  protein  fat  sodium  \\\n",
       "72              Triples   General Mills  Cold       110        2    1     250   \n",
       "73                 Trix   General Mills  Cold       110        1    1     140   \n",
       "74           Wheat Chex  Ralston Purina  Cold       100        3    1     230   \n",
       "75             Wheaties   General Mills  Cold       100        3    1     200   \n",
       "76  Wheaties Honey Gold   General Mills  Cold       110        2    1     200   \n",
       "\n",
       "    fiber  carbo  sugars  potass  vitamins  weight  cups     rating  \n",
       "72    0.0   21.0       3      60        25     1.0  0.75  39.106174  \n",
       "73    0.0   13.0      12      25        25     1.0  1.00  27.753301  \n",
       "74    3.0   17.0       3     115        25     1.0  0.67  49.787445  \n",
       "75    3.0   17.0       3     110        25     1.0  1.00  51.592193  \n",
       "76    1.0   16.0       8      60        25     1.0  0.75  36.187559  "
      ]
     },
     "execution_count": 12,
     "metadata": {},
     "output_type": "execute_result"
    }
   ],
   "source": [
    "# Preview the last few rows of the dataframe using the method tail()\n",
    "df.tail()"
   ]
  },
  {
   "cell_type": "markdown",
   "metadata": {},
   "source": [
    "<div class=\"alert alert-block alert-info\">\n",
    "    <b>Note:</b> For the <code>head()</code> and <code>tail()</code> methods, you can input the number of lines you would like to preview from the beginning or end of the <code>DataFrame</code>, respectively. As an example, the <code>df.head(17)</code> command would preview the first seventeen lines of the <code>DataFrame</code> called <code>df</code>; likewise, the command <code>df.tail(23)</code> would view the last twenty-three lines. \n",
    "</div>"
   ]
  },
  {
   "cell_type": "markdown",
   "metadata": {},
   "source": [
    "### Viewing the Shape of a `DataFrame` with the `shape` Attribute\n",
    "\n",
    "After reading in a dataset and making sure that everything was properly imported with the `head()` and/or `tail()` commands, I like to view the dimensions of the dataset using the `shape` attribute! "
   ]
  },
  {
   "cell_type": "code",
   "execution_count": 14,
   "metadata": {},
   "outputs": [
    {
     "data": {
      "text/plain": [
       "(77, 15)"
      ]
     },
     "execution_count": 14,
     "metadata": {},
     "output_type": "execute_result"
    }
   ],
   "source": [
    "# Show the shape of the dataframe using shape \n",
    "df.shape"
   ]
  },
  {
   "cell_type": "markdown",
   "metadata": {},
   "source": [
    "From this result, we can see that there are `77` rows and `15` columns within the 80 Cereals dataset! Or, I guess we should say 77 cereals? "
   ]
  },
  {
   "cell_type": "markdown",
   "metadata": {},
   "source": [
    "### Getting Info About the `DataFrame` with the `info()` Method \n",
    "\n",
    "Another method that I like to run when I first open a `DataFrame` is the `info()` method in order to get a quick summary about all of the entries within the `DataFrame`, along with their recognized data types. In particular, this method provides the number of rows and columns, the number of non-null values, what type of data is in each column, and how much memory the `DataFrame` uses. "
   ]
  },
  {
   "cell_type": "code",
   "execution_count": 13,
   "metadata": {},
   "outputs": [
    {
     "name": "stdout",
     "output_type": "stream",
     "text": [
      "<class 'pandas.core.frame.DataFrame'>\n",
      "RangeIndex: 77 entries, 0 to 76\n",
      "Data columns (total 15 columns):\n",
      " #   Column        Non-Null Count  Dtype  \n",
      "---  ------        --------------  -----  \n",
      " 0   name          77 non-null     object \n",
      " 1   manufacturer  77 non-null     object \n",
      " 2   type          77 non-null     object \n",
      " 3   calories      77 non-null     int64  \n",
      " 4   protein       77 non-null     int64  \n",
      " 5   fat           77 non-null     int64  \n",
      " 6   sodium        77 non-null     int64  \n",
      " 7   fiber         77 non-null     float64\n",
      " 8   carbo         77 non-null     float64\n",
      " 9   sugars        77 non-null     int64  \n",
      " 10  potass        77 non-null     int64  \n",
      " 11  vitamins      77 non-null     int64  \n",
      " 12  weight        77 non-null     float64\n",
      " 13  cups          77 non-null     float64\n",
      " 14  rating        77 non-null     float64\n",
      "dtypes: float64(5), int64(7), object(3)\n",
      "memory usage: 9.1+ KB\n"
     ]
    }
   ],
   "source": [
    "# Let's try running the info method on the 80 cereals dataset! \n",
    "df.info()"
   ]
  },
  {
   "cell_type": "markdown",
   "metadata": {},
   "source": [
    "After running the `info()` method on our dataset, we can see that we don't have any null values within the data frame! "
   ]
  },
  {
   "cell_type": "markdown",
   "metadata": {},
   "source": [
    "---"
   ]
  }
 ],
 "metadata": {
  "kernelspec": {
   "display_name": "Python 3",
   "language": "python",
   "name": "python3"
  },
  "language_info": {
   "codemirror_mode": {
    "name": "ipython",
    "version": 3
   },
   "file_extension": ".py",
   "mimetype": "text/x-python",
   "name": "python",
   "nbconvert_exporter": "python",
   "pygments_lexer": "ipython3",
   "version": "3.8.3"
  }
 },
 "nbformat": 4,
 "nbformat_minor": 4
}
