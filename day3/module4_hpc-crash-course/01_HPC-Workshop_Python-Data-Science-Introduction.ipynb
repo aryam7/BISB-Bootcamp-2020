{
 "cells": [
  {
   "cell_type": "markdown",
   "metadata": {},
   "source": [
    "# Python Data Science Introduction: `numpy`, `pandas`, `matplotlib`, oh my!\n",
    "\n",
    "**Author**: Michelle Franc Ragsac (mragsac@eng.ucsd.edu)\n",
    "\n",
    "---\n",
    "\n",
    "**Notebook Information:**\n",
    "\n",
    "This Jupyter Notebook contains information on the basic functionality of the `numpy`, `pandas`, and `matplotlib` packages in Python for Module 4: Introduction to HPC. <br>It's running with a `Python 3` kernel! \n",
    "\n",
    "---\n",
    "\n",
    "## Import Necessary Packages for the Module\n",
    "\n",
    "Before we start coding, we want to import the `modules` that we'll be using in our notebook. This is the same as importing the modules at the beginning of a Python script. \n",
    "\n",
    "For the three packages we'll be going through, they have different conventions for how they're called in people's code. The shorthand for `pandas` is `pd`, `numpy` is `np`, and `matplotlib.pyplot` is `plt`. If you find any code online (e.g., through StackOverflow) and you see these terms, these are the packages they're usually referring to! "
   ]
  },
  {
   "cell_type": "code",
   "execution_count": 1,
   "metadata": {},
   "outputs": [],
   "source": [
    "import pandas as pd                # adds support for Excel-like table operations (i.e. R Data Frames)\n",
    "import numpy as np                 # adds support for large, multi-dimensional arrays and optimized linear alg \n",
    "import matplotlib.pyplot as plt    # adds support for plotting in Python"
   ]
  },
  {
   "cell_type": "markdown",
   "metadata": {},
   "source": [
    "In addition to importing these packages, there is a special line that we can add to view any plots generated with `matplotlib` within our notebook as part of the output of a code cell! \n",
    "\n",
    "This special line is called a \"magic function\"! \n",
    "\n",
    "**Documentation on Magic Functions in Jupyter Notebooks**: https://ipython.readthedocs.io/en/stable/interactive/magics.html"
   ]
  },
  {
   "cell_type": "code",
   "execution_count": 2,
   "metadata": {},
   "outputs": [],
   "source": [
    "%matplotlib inline"
   ]
  },
  {
   "cell_type": "markdown",
   "metadata": {},
   "source": [
    "---"
   ]
  },
  {
   "cell_type": "markdown",
   "metadata": {},
   "source": [
    "## Introduction to `pandas` "
   ]
  },
  {
   "cell_type": "code",
   "execution_count": null,
   "metadata": {},
   "outputs": [],
   "source": []
  }
 ],
 "metadata": {
  "kernelspec": {
   "display_name": "Python 3",
   "language": "python",
   "name": "python3"
  },
  "language_info": {
   "codemirror_mode": {
    "name": "ipython",
    "version": 3
   },
   "file_extension": ".py",
   "mimetype": "text/x-python",
   "name": "python",
   "nbconvert_exporter": "python",
   "pygments_lexer": "ipython3",
   "version": "3.8.3"
  }
 },
 "nbformat": 4,
 "nbformat_minor": 4
}
