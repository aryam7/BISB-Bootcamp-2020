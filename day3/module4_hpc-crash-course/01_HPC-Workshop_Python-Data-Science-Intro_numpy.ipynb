{
 "cells": [
  {
   "cell_type": "markdown",
   "metadata": {},
   "source": [
    "# Python Data Science Bite-Sized Introduction: `numpy`\n",
    "\n",
    "**Author**: Michelle Franc Ragsac (mragsac@eng.ucsd.edu)\n",
    "\n",
    "---\n",
    "\n",
    "**Notebook Information:**\n",
    "\n",
    "This Jupyter Notebook contains information on the basic functionality of the `numpy` package in Python for Module 4: Introduction to HPC. <br>It's running with a `Python 3` kernel! \n",
    "\n",
    "---\n",
    "\n",
    "## Import Necessary Packages for the Module\n",
    "\n",
    "Before we start coding, we want to import the `modules` that we'll be using in our notebook. This is the same as importing the modules at the beginning of a Python script. \n",
    "\n",
    "For the three packages we'll be going through for this series of notebooks, they have different conventions for how they're called in people's code. The shorthand for `numpy` is `np`, `pandas` is `pd`, and `matplotlib.pyplot` is `plt`. If you find any code online (e.g., through StackOverflow) and you see these terms, these are the packages they're usually referring to! "
   ]
  },
  {
   "cell_type": "code",
   "execution_count": 15,
   "metadata": {},
   "outputs": [],
   "source": [
    "import numpy as np                 # adds support for large, multi-dimensional arrays and optimized linear alg \n",
    "import pandas as pd                # adds support for Excel-like table operations (i.e. R Data Frames)\n",
    "import matplotlib.pyplot as plt    # adds support for plotting in Python"
   ]
  },
  {
   "cell_type": "markdown",
   "metadata": {},
   "source": [
    "In addition to importing these packages, there is a special line that we can add to view any plots generated with `matplotlib` within our notebook as part of the output of a code cell! \n",
    "\n",
    "This special line is called a \"magic function\"! \n",
    "\n",
    "**Documentation on Magic Functions in Jupyter Notebooks**: https://ipython.readthedocs.io/en/stable/interactive/magics.html"
   ]
  },
  {
   "cell_type": "code",
   "execution_count": 16,
   "metadata": {},
   "outputs": [],
   "source": [
    "%matplotlib inline"
   ]
  },
  {
   "cell_type": "markdown",
   "metadata": {},
   "source": [
    "**Even though we imported all of these packages, we'll only be going through `numpy` in this introductory notebook.**"
   ]
  },
  {
   "cell_type": "markdown",
   "metadata": {},
   "source": [
    "---"
   ]
  },
  {
   "cell_type": "markdown",
   "metadata": {},
   "source": [
    "## Introduction to NumPy\n",
    "\n",
    "NumPy, which stands for \"**Num**erical **Py**thon\", is an open-source project that aims to enable numerical computing with Python. In Python, we have a data structure called `lists` that serve the purpose of arrays; however, they are slow to process. NumPy introduces a new type of array object within Python called the `ndarray` that is more efficient than the `list` structure. Additionally, NumPy also provides functions for working in the domain of linear algebra, matrices, and fourier transformations. \n",
    "\n",
    "<div class=\"alert alert-block alert-info\">\n",
    "    <b>Note:</b> This module adapts the content from <a href=\"https://www.w3schools.com/python/numpy_intro.asp\"><code>w3schools.com/python/numpy_intro.asp</code></a> into a Jupyter Notebook format to run through the code blocks.\n",
    "</div>\n",
    "\n",
    "\n",
    "**NumPy Website**: https://numpy.org/\n",
    "<br>**NumPy Code Base on GitHub**: https://github.com/numpy/numpy\n",
    "\n",
    "---"
   ]
  },
  {
   "cell_type": "markdown",
   "metadata": {},
   "source": [
    "## Creating a Simple NumPy Array Called `arr`"
   ]
  },
  {
   "cell_type": "code",
   "execution_count": 17,
   "metadata": {},
   "outputs": [
    {
     "name": "stdout",
     "output_type": "stream",
     "text": [
      "The type of the variable arr is: <class 'numpy.ndarray'>\n",
      "Contents of arr: [1 2 3 4 5]\n"
     ]
    }
   ],
   "source": [
    "arr = np.array([1, 2, 3, 4, 5])\n",
    "\n",
    "print(f\"The type of the variable arr is: {type(arr)}\") # the type() function tells us the type of the object passed to it\n",
    "print(f\"Contents of arr: {arr}\")"
   ]
  },
  {
   "cell_type": "markdown",
   "metadata": {},
   "source": [
    "## Creating NumPy Arrays with Varying Dimensions \n",
    "\n",
    "An array can have any number of dimensions. We can manually create arrays with a certain number of dimentions by specifying particular values, or we can define the number of dimensions using the `ndmin` (\"**N**umber of **D**i**M**ens**I**ons\") argument. "
   ]
  },
  {
   "cell_type": "code",
   "execution_count": 18,
   "metadata": {},
   "outputs": [
    {
     "name": "stdout",
     "output_type": "stream",
     "text": [
      "There are 0 dimensions in the Numpy Array called a\n",
      "There are 1 dimensions in the Numpy Array called b\n",
      "There are 2 dimensions in the Numpy Array called c\n",
      "There are 3 dimensions in the Numpy Array called d\n",
      "There are 4 dimensions in the Numpy Array called e\n"
     ]
    }
   ],
   "source": [
    "# Creating a 0-D array, or a scalar\n",
    "a = np.array(10)\n",
    "\n",
    "# Creating a 1-D array, or a uni-dimensional array\n",
    "# these arrays are the most common and basic arrays\n",
    "b = np.array([1, 2, 3, 4, 5])\n",
    "\n",
    "# Creating a 2-D array, or a matrix \n",
    "c = np.array([[1, 2, 3],\n",
    "              [4, 5, 6]])\n",
    "\n",
    "# Creating a 3-D array, or an array that has 2-D arrays as its elements\n",
    "d = np.array([[[1, 2, 3], [4, 5, 6]], \n",
    "              [[7, 8, 9], [10, 11, 12]]])\n",
    "\n",
    "# Creating an array with 4 dimensions using the ndmin argument\n",
    "e = np.array([1, 2, 3, 4, 5], ndmin=4)\n",
    "\n",
    "# Checking the number of dimensions in each of our Numpy array objects\n",
    "print(f\"There are {a.ndim} dimensions in the Numpy Array called a\")\n",
    "print(f\"There are {b.ndim} dimensions in the Numpy Array called b\")\n",
    "print(f\"There are {c.ndim} dimensions in the Numpy Array called c\")\n",
    "print(f\"There are {d.ndim} dimensions in the Numpy Array called d\")\n",
    "print(f\"There are {e.ndim} dimensions in the Numpy Array called e\")"
   ]
  },
  {
   "cell_type": "markdown",
   "metadata": {},
   "source": [
    "---\n",
    "\n",
    "## The Shape of a NumPy Array\n",
    "\n",
    "NumPy arrays have an attribute called `shape` that returns a tuple with each index having the number of corresponding elements at that dimension."
   ]
  },
  {
   "cell_type": "code",
   "execution_count": 42,
   "metadata": {},
   "outputs": [
    {
     "name": "stdout",
     "output_type": "stream",
     "text": [
      "The shape of the array d is: (2, 2, 3)\n"
     ]
    }
   ],
   "source": [
    "# Print the shape of the 3-D array we created earlier called d\n",
    "print(f\"The shape of the array d is: {d.shape}\")"
   ]
  },
  {
   "cell_type": "markdown",
   "metadata": {},
   "source": [
    "---\n",
    "\n",
    "## Accessing or Indexing NumPy Array Elements \n",
    "\n",
    "Array indexing is the same as accessing an array element by referring to its index number. \n",
    "\n",
    "<div class=\"alert alert-block alert-info\">\n",
    "    <b>Note:</b> Within NumPy, indexes start at <code>0</code> instead of <code>1</code>! \n",
    "</div>\n",
    "\n",
    "For elements in 1-D arrays, we can simply specify the index that we want to access."
   ]
  },
  {
   "cell_type": "code",
   "execution_count": 22,
   "metadata": {},
   "outputs": [
    {
     "name": "stdout",
     "output_type": "stream",
     "text": [
      "3\n"
     ]
    }
   ],
   "source": [
    "# Access the third element in the 1-D array we created earlier called b\n",
    "print(b[2]) "
   ]
  },
  {
   "cell_type": "markdown",
   "metadata": {},
   "source": [
    "To access elements from multidimensional arrays, we can use comma separated integers representing the dimensions and index of the element that we want to access. "
   ]
  },
  {
   "cell_type": "code",
   "execution_count": 23,
   "metadata": {},
   "outputs": [
    {
     "name": "stdout",
     "output_type": "stream",
     "text": [
      "6\n"
     ]
    }
   ],
   "source": [
    "# Access one of the elements within the 3-D array we created earlier called d:\n",
    "print(d[0,1,2])\n",
    "\n",
    "# Within this command, we start off by accessing the first dimension of the array with index 0\n",
    "# this gives us the two arrays: [[1, 2, 3], [4, 5, 6]]\n",
    "\n",
    "# Next, we access the first element of this array with index 1\n",
    "# this gives us the single array: [4, 5, 6]\n",
    "\n",
    "# Finally, we access the third element of this array with index 2\n",
    "# this gives us our final value: 6"
   ]
  },
  {
   "cell_type": "markdown",
   "metadata": {},
   "source": [
    "Alternatively, we can use negative indexing the access an array from the end."
   ]
  },
  {
   "cell_type": "code",
   "execution_count": 24,
   "metadata": {},
   "outputs": [
    {
     "name": "stdout",
     "output_type": "stream",
     "text": [
      "4\n"
     ]
    }
   ],
   "source": [
    "# Let's access the second to last element from the 1-D array we created earlier called b\n",
    "print(b[-2])"
   ]
  },
  {
   "cell_type": "markdown",
   "metadata": {},
   "source": [
    "## Slicing NumPy Arrays \n",
    "\n",
    "Within Python, slicing means taking the elements from a starting index to an ending index. For example, if we had the array `[1, 2, 3, 4, 5]`, we could **slice** this array to obtain the subarray, `[1, 2, 3]`. "
   ]
  },
  {
   "cell_type": "code",
   "execution_count": 33,
   "metadata": {},
   "outputs": [
    {
     "name": "stdout",
     "output_type": "stream",
     "text": [
      "Slicing through elements in the array called b: [1 2 3 4 5]\n",
      "Slicing elements 1 to 3: [1 2 3]\n",
      "Slicing elements 3 to the end: [4 5]\n",
      "Slicing elements from the start to 4: [1 2 3 4]\n"
     ]
    }
   ],
   "source": [
    "print(f\"Slicing through elements in the array called b: {b}\")\n",
    "\n",
    "# Slice elements 1 through 3 in the 1-D array we created earlier called b\n",
    "print(f\"Slicing elements 1 to 3: {b[0:3]}\")\n",
    "\n",
    "# Slice elements 3 through to the end of the 1-D array we created earlier called b\n",
    "print(f\"Slicing elements 3 to the end: {b[3:]}\")\n",
    "\n",
    "# Slice elements from the beginning to 4 of the 1-D array we created earlier called b\n",
    "print(f\"Slicing elements from the start to 4: {b[:4]}\")"
   ]
  },
  {
   "cell_type": "markdown",
   "metadata": {},
   "source": [
    "<div class=\"alert alert-block alert-info\">\n",
    "    <b>Note:</b> When we specify the end index when slicing, we include the start index, but not the end index!\n",
    "</div>\n",
    "\n",
    "In addition to positive slicing, we can also generate negative slices. "
   ]
  },
  {
   "cell_type": "code",
   "execution_count": 34,
   "metadata": {},
   "outputs": [
    {
     "name": "stdout",
     "output_type": "stream",
     "text": [
      "Slicing elements 1 to 3: [3 4]\n"
     ]
    }
   ],
   "source": [
    "# Slice through the element 3 from the end to the element 1 from the end\n",
    "print(f\"Slicing elements 1 to 3: {b[-3:-1]}\")"
   ]
  },
  {
   "cell_type": "markdown",
   "metadata": {},
   "source": [
    "Finally, we can also generate slices of multidimensional arrays! \n",
    "\n",
    "We can do this similar to indexing the multidimensional array: we have to specify the portions of each dimension we want to slice out, with each dimension separated by a comma. "
   ]
  },
  {
   "cell_type": "code",
   "execution_count": 38,
   "metadata": {},
   "outputs": [
    {
     "name": "stdout",
     "output_type": "stream",
     "text": [
      "The original contents of d:\n",
      "[[[ 1  2  3]\n",
      "  [ 4  5  6]]\n",
      "\n",
      " [[ 7  8  9]\n",
      "  [10 11 12]]]\n",
      "\n",
      "A slice taken from d:\n",
      "[[1]\n",
      " [4]]\n"
     ]
    }
   ],
   "source": [
    "# Slice through a portion of the multidimensional array we previously generated called d\n",
    "print(f\"The original contents of d:\\n{d}\\n\")\n",
    "print(f\"A slice taken from d:\\n{d[0, 0:2, 0:1]}\")"
   ]
  },
  {
   "cell_type": "markdown",
   "metadata": {},
   "source": [
    "---\n",
    "\n",
    "## Data Types in NumPy versus Default Types in Python\n",
    "\n",
    "Within Python, we have five standard types: `string`, `integer`, `float`, `boolean`, and `complex`. In contrast to this, we have 11 additional data types in NumPy that are each represented by a single letter. \n",
    "\n",
    "| Data Type in NumPy                   | Single-Letter Code | Data Type in NumPy | Single-Letter Code |\n",
    "|--------------------------------------|--------------------|--------------------|--------------------|\n",
    "| integer                              | `i`                | boolean            | `b`                |\n",
    "| unsigned integer                     | `u`                | float              | `f`                |\n",
    "| complex float                        | `c`                | timedelta          | `m`                |\n",
    "| datetime                             | `M`                | object             | `O`                |\n",
    "| string                               | `S`                | unicode string     | `U`                |\n",
    "| fixed chunk of memory for other type | `V`                |                    |                    |\n",
    "\n",
    "We can check the data type of an array by checking its `dtype` property. "
   ]
  },
  {
   "cell_type": "code",
   "execution_count": 39,
   "metadata": {},
   "outputs": [
    {
     "name": "stdout",
     "output_type": "stream",
     "text": [
      "The type of d is: int64\n"
     ]
    }
   ],
   "source": [
    "# Let's check the dtype property of the multidimensional array we previously generated called d\n",
    "print(f\"The type of d is: {d.dtype}\")"
   ]
  },
  {
   "cell_type": "markdown",
   "metadata": {},
   "source": [
    "When we create NumPy arrays, we can also specify the type of the array using the `dtype` parameter! "
   ]
  },
  {
   "cell_type": "code",
   "execution_count": 40,
   "metadata": {},
   "outputs": [
    {
     "name": "stdout",
     "output_type": "stream",
     "text": [
      "The contents of array arr are: [b'1' b'2' b'3' b'4' b'5']\n",
      "The dtype of array arr is: |S1\n"
     ]
    }
   ],
   "source": [
    "# Create a new array called arr and designate the data type as a string\n",
    "arr = np.array([1, 2, 3, 4, 5], dtype='S')\n",
    "\n",
    "print(f\"The contents of array arr are: {arr}\")\n",
    "print(f\"The dtype of array arr is: {arr.dtype}\")"
   ]
  },
  {
   "cell_type": "markdown",
   "metadata": {},
   "source": [
    "We can use the `astype()` method to convert the data type of an existing array. This method creates a copy of the array, and allows you to specify the data type as a paramter."
   ]
  },
  {
   "cell_type": "code",
   "execution_count": 41,
   "metadata": {},
   "outputs": [
    {
     "name": "stdout",
     "output_type": "stream",
     "text": [
      "The contents of array arr are: [1.1 2.2 3.3 4.4 5.5]\n",
      "The dtype of array arr is: float64\n",
      "\n",
      "The contents of array arr_copy are: [1 2 3 4 5]\n",
      "The dtype of array arr_copy is: int32\n"
     ]
    }
   ],
   "source": [
    "# Create a new array called arr \n",
    "arr = np.array([1.1, 2.2, 3.3, 4.4, 5.5])\n",
    "\n",
    "print(f\"The contents of array arr are: {arr}\")\n",
    "print(f\"The dtype of array arr is: {arr.dtype}\")\n",
    "\n",
    "# Create a new array called arr_copy that is based on arr but with a new type\n",
    "arr_copy = arr.astype('i')\n",
    "\n",
    "print(f\"\\nThe contents of array arr_copy are: {arr_copy}\")\n",
    "print(f\"The dtype of array arr_copy is: {arr_copy.dtype}\")"
   ]
  },
  {
   "cell_type": "markdown",
   "metadata": {},
   "source": [
    "--- \n",
    "\n",
    "## Joining NumPy Arrays with `concatenate()`\n",
    "\n",
    "We can join two or more NumPy arrays into a single array according to their axes. \n",
    "\n",
    "To do this, all we have to do is pass a sequence of arrays we want to join to the `concatenate()` function, along with the axis we would like to join the arrays by. By default, the axis is taken as `0`. "
   ]
  },
  {
   "cell_type": "code",
   "execution_count": 53,
   "metadata": {},
   "outputs": [
    {
     "name": "stdout",
     "output_type": "stream",
     "text": [
      "Created array #1:\n",
      "[[1 2 3]\n",
      " [4 5 6]]\n",
      "Created array #2:\n",
      "[[ 7  8  9]\n",
      " [10 11 12]]\n",
      "\n",
      "Joining the two arrays according to axis=0:\n",
      "[[ 1  2  3]\n",
      " [ 4  5  6]\n",
      " [ 7  8  9]\n",
      " [10 11 12]]\n",
      "\n",
      "Joining the two arrays according to axis=1:\n",
      "[[ 1  2  3  7  8  9]\n",
      " [ 4  5  6 10 11 12]]\n"
     ]
    }
   ],
   "source": [
    "# Create two arrays we would like to manipulate in this section called first_half and second_half\n",
    "first_half = np.array([[1, 2, 3],[4, 5, 6]])\n",
    "second_half = np.array([[7, 8, 9],[10, 11, 12]])\n",
    "\n",
    "print(f\"Created array #1:\\n{first_half}\")\n",
    "print(f\"Created array #2:\\n{second_half}\\n\")\n",
    "\n",
    "# Join the two arrays according to the default value, axis=0, then by the first axis, axis=1\n",
    "print(f\"Joining the two arrays according to axis=0:\\n{np.concatenate((first_half, second_half))}\")              # joins along the columns\n",
    "print(f\"\\nJoining the two arrays according to axis=1:\\n{np.concatenate((first_half, second_half), axis=1)}\")    # joins along the rows"
   ]
  },
  {
   "cell_type": "markdown",
   "metadata": {},
   "source": [
    "## Stacking NumPy Arrays as an Alternative to `concatenate()`\n",
    "\n",
    "Stacking is an alternative way to concatenate arrays, however with stacking, we join the arrays along a new axis."
   ]
  },
  {
   "cell_type": "code",
   "execution_count": 57,
   "metadata": {},
   "outputs": [
    {
     "name": "stdout",
     "output_type": "stream",
     "text": [
      "Created array #1: [1 2 3]\n",
      "Created array #2: [4 5 6]\n",
      "\n",
      "The result of stacking array #1 and array #2:\n",
      "[[1 4]\n",
      " [2 5]\n",
      " [3 6]]\n"
     ]
    }
   ],
   "source": [
    "# Create two arrays we would like to manipulate in this section called arr1 and arr2\n",
    "arr1 = np.array([1, 2, 3])\n",
    "arr2 = np.array([4, 5, 6])\n",
    "\n",
    "print(f\"Created array #1: {arr1}\")\n",
    "print(f\"Created array #2: {arr2}\\n\")\n",
    "\n",
    "# Concatenate the two 1-D arrays along the second axis (axis=1) which results in putting them one over the other\n",
    "# (again, like with concatenate, the default axis is 0)\n",
    "\n",
    "print(f\"The result of stacking array #1 and array #2:\\n{np.stack((arr1, arr2), axis=1)}\")"
   ]
  },
  {
   "cell_type": "markdown",
   "metadata": {},
   "source": [
    "### Specifying the Direction of Stacking with `hstack()`, `vstack()`, and `dstack()`"
   ]
  },
  {
   "cell_type": "markdown",
   "metadata": {},
   "source": [
    "To stack along the rows, we can use the method `hstack()`, or \"horizontal stack\"."
   ]
  },
  {
   "cell_type": "code",
   "execution_count": 58,
   "metadata": {},
   "outputs": [
    {
     "name": "stdout",
     "output_type": "stream",
     "text": [
      "The result of stacking array #1 and array #2 horizontally:\n",
      "[1 2 3 4 5 6]\n"
     ]
    }
   ],
   "source": [
    "print(f\"The result of stacking array #1 and array #2 horizontally:\\n{np.hstack((arr1, arr2))}\")"
   ]
  },
  {
   "cell_type": "markdown",
   "metadata": {},
   "source": [
    "To stack along the columns, we can use the method `vstack()` or \"vertical stack\"."
   ]
  },
  {
   "cell_type": "code",
   "execution_count": 59,
   "metadata": {},
   "outputs": [
    {
     "name": "stdout",
     "output_type": "stream",
     "text": [
      "The result of stacking array #1 and array #2 vertically:\n",
      "[[1 2 3]\n",
      " [4 5 6]]\n"
     ]
    }
   ],
   "source": [
    "print(f\"The result of stacking array #1 and array #2 vertically:\\n{np.vstack((arr1, arr2))}\")"
   ]
  },
  {
   "cell_type": "markdown",
   "metadata": {},
   "source": [
    "Finally, we can stack along the height of the arrays (or depth), using the method `dstack()`, or \"depth stack\"."
   ]
  },
  {
   "cell_type": "code",
   "execution_count": 60,
   "metadata": {},
   "outputs": [
    {
     "name": "stdout",
     "output_type": "stream",
     "text": [
      "The result of stacking array #1 and array #2 vertically:\n",
      "[[[1 4]\n",
      "  [2 5]\n",
      "  [3 6]]]\n"
     ]
    }
   ],
   "source": [
    "print(f\"The result of stacking array #1 and array #2 vertically:\\n{np.dstack((arr1, arr2))}\")"
   ]
  },
  {
   "cell_type": "markdown",
   "metadata": {},
   "source": [
    "---\n",
    "\n",
    "## Splitting NumPy Arrays with `array_split()`\n",
    "\n",
    "While joining NumPy arrays merges multiple arrays into one, splitting NumPy arrays breaks a single array into multiple.\n",
    "\n",
    "To do this, we can use the `array_split()` method to specify the array we wish to split, along with the number of splits we would like to see. The return of this method is an array containing each split as an array; we can also index the resulting array."
   ]
  },
  {
   "cell_type": "code",
   "execution_count": 61,
   "metadata": {},
   "outputs": [
    {
     "name": "stdout",
     "output_type": "stream",
     "text": [
      "The contents of array arr are: [1 2 3 4 5 6]\n",
      "The contents of array arr after splitting into 3 is: [array([1, 2]), array([3, 4]), array([5, 6])]\n"
     ]
    }
   ],
   "source": [
    "# Create a new array called arr \n",
    "arr = np.array([1, 2, 3, 4, 5, 6])\n",
    "\n",
    "print(f\"The contents of array arr are: {arr}\")\n",
    "print(f\"The contents of array arr after splitting into 3 is: {np.array_split(arr, 3)}\")"
   ]
  },
  {
   "cell_type": "markdown",
   "metadata": {},
   "source": [
    "<div class=\"alert alert-block alert-info\">\n",
    "    <b>Note:</b> If an array has less elements than required, then the method <code>array_split()</code> will adjust from the end accordingly. This is in contrast to the default method, <code>split()</code>, which is <strong>not able to</strong> adjust the elements when the elements are less in the source array. \n",
    "</div>"
   ]
  },
  {
   "cell_type": "code",
   "execution_count": null,
   "metadata": {},
   "outputs": [],
   "source": []
  }
 ],
 "metadata": {
  "kernelspec": {
   "display_name": "Python 3",
   "language": "python",
   "name": "python3"
  },
  "language_info": {
   "codemirror_mode": {
    "name": "ipython",
    "version": 3
   },
   "file_extension": ".py",
   "mimetype": "text/x-python",
   "name": "python",
   "nbconvert_exporter": "python",
   "pygments_lexer": "ipython3",
   "version": "3.8.3"
  }
 },
 "nbformat": 4,
 "nbformat_minor": 4
}
