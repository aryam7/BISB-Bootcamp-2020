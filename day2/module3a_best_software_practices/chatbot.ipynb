{
 "cells": [
  {
   "cell_type": "code",
   "execution_count": null,
   "metadata": {
    "ExecuteTime": {
     "end_time": "2020-09-17T18:09:08.501541Z",
     "start_time": "2020-09-17T18:09:08.497530Z"
    }
   },
   "outputs": [],
   "source": [
    "#! /usr/bin/python3\n",
    "# Owen Chapman\n",
    "# 9/14/2020\n",
    "# BISB Bootcamp 2020\n",
    "#   Module 3a: Best Software Practices\n",
    "\n",
    "def chatbot(input_message):\n",
    "    \n",
    "    if input_message == \"Hello!\":\n",
    "        reply = \"Hello!\"\n",
    "    elif input_message == \"Hello there!\":\n",
    "        reply = \"General Kenobi!\"\n",
    "    else:\n",
    "        reply = \"I'm sorry. I didn't understand that.\"\n",
    "    \n",
    "    print(reply)\n",
    "    return"
   ]
  },
  {
   "cell_type": "code",
   "execution_count": null,
   "metadata": {
    "ExecuteTime": {
     "start_time": "2020-09-17T18:09:17.512Z"
    }
   },
   "outputs": [],
   "source": [
    "print(\"Hello. I am a chatbot!\")\n",
    "while True:\n",
    "    user_input = input(\"Type a message here: \")\n",
    "    chatbot(user_input)"
   ]
  },
  {
   "cell_type": "code",
   "execution_count": null,
   "metadata": {},
   "outputs": [],
   "source": []
  }
 ],
 "metadata": {
  "kernelspec": {
   "display_name": "Python 3",
   "language": "python",
   "name": "python3"
  },
  "language_info": {
   "codemirror_mode": {
    "name": "ipython",
    "version": 3
   },
   "file_extension": ".py",
   "mimetype": "text/x-python",
   "name": "python",
   "nbconvert_exporter": "python",
   "pygments_lexer": "ipython3",
   "version": "3.7.3"
  }
 },
 "nbformat": 4,
 "nbformat_minor": 4
}
