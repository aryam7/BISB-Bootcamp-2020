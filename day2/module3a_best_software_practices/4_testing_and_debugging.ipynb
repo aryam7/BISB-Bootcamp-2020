{
 "metadata": {
  "language_info": {
   "codemirror_mode": {
    "name": "ipython",
    "version": 3
   },
   "file_extension": ".py",
   "mimetype": "text/x-python",
   "name": "python",
   "nbconvert_exporter": "python",
   "pygments_lexer": "ipython3",
   "version": "3.7.8-final"
  },
  "orig_nbformat": 2,
  "kernelspec": {
   "name": "python3",
   "display_name": "Python 3"
  }
 },
 "nbformat": 4,
 "nbformat_minor": 2,
 "cells": [
  {
   "cell_type": "code",
   "execution_count": null,
   "metadata": {
    "tags": []
   },
   "outputs": [],
   "source": [
    "################\n",
    "# Code execution is sequential*\n",
    "################\n",
    "\n",
    "def some_function(string):\n",
    "    return string+string\n",
    "def some_other_function(string):\n",
    "    s=nested_function(string)\n",
    "    return s+s\n",
    "def nested_function(string):\n",
    "    return \"asdf\"+string\n",
    "\n",
    "foo = \"foo\"\n",
    "bar = \"bar\"\n",
    "foobar = foo+bar\n",
    "foobar = some_function(foobar)\n",
    "foo = some_other_function(bar)\n",
    "foo = 11\n",
    "\n",
    "# What are foo, bar and foobar now?\n",
    "# Solution:\n",
    "print(foo)\n",
    "print(bar)\n",
    "print(foobar)"
   ]
  },
  {
   "cell_type": "code",
   "execution_count": null,
   "metadata": {
    "tags": []
   },
   "outputs": [],
   "source": [
    "######################\n",
    "# Bug-finding exercise\n",
    "######################\n",
    "# From rosalind.info http://rosalind.info/problems/ba3a/\n",
    "# kmer composition\n",
    "def kmer_composition(string,k):\n",
    "    '''\n",
    "    Given a string and an integer k, return all k-mers in the string.\n",
    "    Inputs:\n",
    "        string (str)\n",
    "        k (int): length of the k-mer\n",
    "        NOTE: THIS IS A BUGFIXING EXERCISE, THIS FUNCTION IS INCORRECT AS WRITTEN.\n",
    "    '''\n",
    "    for i in range(len(string)-k):\n",
    "        print(string[i:i+k])\n",
    "\n",
    "kmer_composition(\"CAATCCAAC\",5)"
   ]
  },
  {
   "cell_type": "code",
   "execution_count": null,
   "metadata": {},
   "outputs": [],
   "source": [
    "######################\n",
    "# Bug-finding exercise\n",
    "######################\n",
    "# From rosalind.info http://rosalind.info/problems/ba5a/\n",
    "# Change problem\n",
    "def change(money,coins):\n",
    "    '''\n",
    "    Given an integer money and a set of coin denominations change, find the minimum number of coins \n",
    "    which sum to money.\n",
    "    Inputs:\n",
    "        money (int): Value to make change for.\n",
    "        coins (array of positive int): Coin denominations\n",
    "    Returns (int): minimum number of coins. -1 if change can't be made.\n",
    "    NOTE: THIS IS A BUGFIXING EXERCISE, THIS FUNCTION IS INCORRECT AS WRITTEN.\n",
    "    '''\n",
    "    # sort the coins\n",
    "    coins.sort(reverse=True)\n",
    "    # Use as many of the biggest coin as possible\n",
    "    answer = 0\n",
    "    for c in coins:\n",
    "        # if we can use the biggest coin, use it\n",
    "        while c < money:\n",
    "            answer+=1\n",
    "            money-=c\n",
    "        # check if we're done\n",
    "        if money == 0:\n",
    "            break\n",
    "    # check if we successfully made change.\n",
    "    if money != 0:\n",
    "        return -1\n",
    "    return answer\n",
    "\n",
    "change(40, [1,2,5,10,25])"
   ]
  },
  {
   "cell_type": "code",
   "execution_count": null,
   "metadata": {},
   "outputs": [],
   "source": [
    "######################\n",
    "# Reading the stacktrace\n",
    "######################\n",
    "import math\n",
    "def sqrt(value):\n",
    "    return math.sqrt(value)\n",
    "sqrt(\"sixteen\")"
   ]
  },
  {
   "cell_type": "code",
   "execution_count": null,
   "metadata": {
    "tags": []
   },
   "outputs": [],
   "source": [
    "# Raise a warning\n",
    "import warnings\n",
    "warnings.simplefilter(action=\"default\") # Required for VS Code, idk why.\n",
    "# Raise a warning\n",
    "def double(value):\n",
    "    if isinstance(value, str):\n",
    "        warnings.warn(\"Input was a string. Result may be unexpected.\") \n",
    "    return value+value\n",
    "print(double(4))\n",
    "print(double(\"four\"))"
   ]
  },
  {
   "cell_type": "code",
   "execution_count": null,
   "metadata": {
    "tags": []
   },
   "outputs": [],
   "source": [
    "#############\n",
    "# Raising warnings and errors \n",
    "#############\n",
    "# Raise an error\n",
    "def only_accepts_strings(value):\n",
    "    if not isinstance(value,str):\n",
    "        raise(TypeError(\"This function requires string input.\"))\n",
    "\n",
    "only_accepts_strings(5)"
   ]
  },
  {
   "cell_type": "code",
   "execution_count": null,
   "metadata": {},
   "outputs": [],
   "source": []
  }
 ]
}