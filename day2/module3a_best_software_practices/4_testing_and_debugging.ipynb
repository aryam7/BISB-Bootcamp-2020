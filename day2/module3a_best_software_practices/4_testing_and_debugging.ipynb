{
 "metadata": {
  "language_info": {
   "codemirror_mode": {
    "name": "ipython",
    "version": 3
   },
   "file_extension": ".py",
   "mimetype": "text/x-python",
   "name": "python",
   "nbconvert_exporter": "python",
   "pygments_lexer": "ipython3",
   "version": "3.7.3-final"
  },
  "orig_nbformat": 2,
  "kernelspec": {
   "name": "python_defaultSpec_1600371838947",
   "display_name": "Python 3.7.3 64-bit ('base': conda)"
  }
 },
 "nbformat": 4,
 "nbformat_minor": 2,
 "cells": [
  {
   "cell_type": "code",
   "execution_count": null,
   "metadata": {
    "tags": []
   },
   "outputs": [],
   "source": [
    "################\n",
    "# Code execution is sequential*\n",
    "################\n",
    "\n",
    "def some_function(string):\n",
    "    return string+string\n",
    "def some_other_function(string):\n",
    "    s=nested_function(string)\n",
    "    return s+s\n",
    "def nested_function(string):\n",
    "    return \"asdf\"+string\n",
    "\n",
    "foo = \"foo\"\n",
    "bar = \"bar\"\n",
    "foobar = foo+bar\n",
    "foobar = some_function(foobar)\n",
    "foo = some_other_function(bar)\n",
    "foo = 11\n",
    "\n",
    "# What are foo, bar and foobar now?\n",
    "# Solution:\n",
    "print(foo)\n",
    "print(bar)\n",
    "print(foobar)"
   ]
  },
  {
   "cell_type": "code",
   "execution_count": null,
   "metadata": {},
   "outputs": [],
   "source": []
  }
 ]
}