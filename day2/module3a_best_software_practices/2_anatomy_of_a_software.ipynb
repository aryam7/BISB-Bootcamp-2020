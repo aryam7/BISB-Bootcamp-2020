{
 "metadata": {
  "language_info": {
   "codemirror_mode": {
    "name": "ipython",
    "version": 3
   },
   "file_extension": ".py",
   "mimetype": "text/x-python",
   "name": "python",
   "nbconvert_exporter": "python",
   "pygments_lexer": "ipython3",
   "version": "3.7.8-final"
  },
  "orig_nbformat": 2,
  "kernelspec": {
   "name": "python_defaultSpec_1600740606138",
   "display_name": "Python 3.7.3 64-bit ('base': conda)"
  }
 },
 "nbformat": 4,
 "nbformat_minor": 2,
 "cells": [
  {
   "cell_type": "code",
   "execution_count": null,
   "metadata": {
    "tags": []
   },
   "outputs": [],
   "source": [
    "###############\n",
    "# Lists\n",
    "###############\n",
    "my_list=[1,2,\"three\",4.0] # lists can contain any type of object.\n",
    "print(my_list[0]) # access an item using the index.\n",
    "\n",
    "# can use my_list[start:stop] syntax to access a sub-list\n",
    "print(my_list[:2])\n",
    "\n",
    "# add to the end of a list using append\n",
    "my_list.append(\"cinco\")\n",
    "print(my_list)\n",
    "\n",
    "# apply a function to every element in a list using map.\n",
    "def my_function(arg):\n",
    "    if isinstance(arg,str):\n",
    "        return arg+\" plus one\"\n",
    "    else:\n",
    "        return arg+1\n",
    "print(list(map(my_function,my_list)))"
   ]
  },
  {
   "cell_type": "code",
   "execution_count": null,
   "metadata": {
    "tags": []
   },
   "outputs": [],
   "source": [
    "##########\n",
    "# Dicts\n",
    "##########\n",
    "# create a dict using {}\n",
    "my_dict = {\"key1\": 1, \"key2\": \"three\"}\n",
    "\n",
    "# access an element using dict[key]\n",
    "print(my_dict[\"key2\"]) #returns \"three\"\n",
    "\n",
    "# get all keys\n",
    "print(my_dict.keys())\n",
    "\n",
    "# get all key:value pairs\n",
    "print(my_dict.items())\n",
    "\n",
    "# Add to a dictionary\n",
    "my_dict[\"key3\"] = 12\n",
    "print(my_dict)\n"
   ]
  },
  {
   "cell_type": "code",
   "execution_count": null,
   "metadata": {
    "tags": []
   },
   "outputs": [],
   "source": [
    "###########\n",
    "# Functions\n",
    "###########\n",
    "def format_genomic_region(chr,start,end):\n",
    "    region = str(chr) + ':' + str(start) + '-' + str(end)\n",
    "    return region\n",
    "\n",
    "# call the function:\n",
    "r = format_genomic_region(1,100,150)\n",
    "print(r)\n",
    "# r is now '1:100-150'\n",
    "\n",
    "# Functions have scope\n",
    "s = region\n",
    "# Error: no variable called 'region'\n"
   ]
  },
  {
   "cell_type": "code",
   "execution_count": null,
   "metadata": {
    "tags": []
   },
   "outputs": [],
   "source": [
    "#####################\n",
    "# Classes and objects\n",
    "#####################\n",
    "class Variant:\n",
    "    chrom=None; pos=None; ref=None; alt=None; note=None\n",
    "    def __init__(self,chrom,pos,ref,alt,note=None):\n",
    "        self.chrom=chrom\n",
    "        self.pos=pos\n",
    "        self.ref=ref\n",
    "        self.alt=alt\n",
    "    \n",
    "    def add_note(self,string):\n",
    "        self.note=string\n",
    "\n",
    "    # The __repr__ function defines behavior when \"print\" is called on this object\n",
    "    def __repr__(self):\n",
    "        return str(self.chrom)+\":\"+str(self.pos)+\" ref=\"+self.ref+\" alt=\"+self.alt+\" note=\"+str(self.note)\n",
    "\n",
    "# an object\n",
    "v1 = Variant(5,1289903,'A','T')\n",
    "\n",
    "# Can call functions in classes and objects:\n",
    "v1.add_note('TERT promoter mutation!')\n",
    "\n",
    "# different object, same class\n",
    "v2 = Variant(8,128747126,'T','ATTGGCGTGGCTGAACGCGTTGGAGT')\n",
    "\n",
    "print(v1)\n",
    "print(v2)"
   ]
  },
  {
   "cell_type": "code",
   "execution_count": null,
   "metadata": {
    "tags": []
   },
   "outputs": [],
   "source": [
    "###############\n",
    "# Editing primitives vs objects\n",
    "###############\n",
    "# Primitive points\n",
    "x1,y1 = 3,4 \t# create a point\n",
    "x2,y2 = x1,y1 \t# create another point at the same place\n",
    "x1 = 13 \t\t# move point 1\n",
    "print(x1,y1) \t# 13 4\n",
    "print(x2,y2) \t# 3 4\n",
    "\n",
    "# Object points\n",
    "class Point:\n",
    "    def __init__(self,x,y):\n",
    "        self.x=x\n",
    "        self.y=y\n",
    "    def __repr__(self):\n",
    "        return '('+str(self.x)+','+str(self.y)+')'\n",
    "pt1 = Point(3,4)# create a point\n",
    "pt2 = pt1 \t\t# create(?) another point at the same place\n",
    "pt2.x = 13 \t\t# move pt2\n",
    "print(pt1) \t\t# (13,4)\n",
    "print(pt2) \t\t# (13,4)"
   ]
  },
  {
   "cell_type": "code",
   "execution_count": null,
   "metadata": {
    "tags": []
   },
   "outputs": [],
   "source": [
    "####################\n",
    "# CHATBOT\n",
    "# if, elif, and else\n",
    "# while\n",
    "#####################\n",
    "def chatbot(input_message):\n",
    "    \n",
    "    if input_message == \"Hello!\":\n",
    "        reply = \"Hello!\"\n",
    "    elif input_message == \"Hello there!\":\n",
    "        reply = \"General Kenobi!\"\n",
    "    else:\n",
    "        reply = \"I'm sorry. I didn't understand that.\"\n",
    "    \n",
    "    print(reply)\n",
    "    return\n",
    "\n",
    "print(\"Hello. I am a chatbot!\")\n",
    "while True:\n",
    "    user_input = input(\"Type a message here: \")\n",
    "    chatbot(user_input)"
   ]
  },
  {
   "cell_type": "code",
   "execution_count": null,
   "metadata": {
    "tags": []
   },
   "outputs": [],
   "source": [
    "####################\n",
    "# iterating with for\n",
    "####################\n",
    "string = \"Hello!\"\n",
    "for character in string:\n",
    "    print(character)\n"
   ]
  },
  {
   "cell_type": "code",
   "execution_count": null,
   "metadata": {
    "tags": []
   },
   "outputs": [],
   "source": [
    "for i in range(len(string)):\n",
    "    print(string[i])"
   ]
  },
  {
   "cell_type": "code",
   "execution_count": null,
   "metadata": {},
   "outputs": [],
   "source": [
    "#################\n",
    "# O-notation\n",
    "# SelectionSort\n",
    "#################\n",
    "def SelectionSort(array):\n",
    "    # for each index i in the list...\n",
    "    for i in range(len(array)):\n",
    "        # find the minimum in the rest of the list\n",
    "        minimum = array[i]\n",
    "        mindex = i\n",
    "        for j in range(i, len(array)):\n",
    "            if array[j] < minimum:\n",
    "                mindex = j\n",
    "                minimum = array[j]\n",
    "        # and swap with position i\n",
    "        temp = array[i]\n",
    "        array[i] = array[mindex]\n",
    "        array[mindex] = temp\n",
    "    return array\n",
    "\n",
    "a = [5,3,7,3,5,6,3,8,34,84,66,0]\n",
    "SelectionSort(a)"
   ]
  },
  {
   "cell_type": "code",
   "execution_count": null,
   "metadata": {},
   "outputs": [],
   "source": []
  }
 ]
}