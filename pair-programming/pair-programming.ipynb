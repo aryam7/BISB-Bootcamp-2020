{
 "cells": [
  {
   "cell_type": "markdown",
   "metadata": {},
   "source": [
    "# Pair Programming\n",
    "BISB Bootcamp 2020\n",
    "\n",
    "Author: Owen Chapman ochapman@ucsd.edu\n",
    "\n",
    "24 September 2020\n",
    "\n",
    "## Workshop Goals\n",
    "- What is pair programming and why is it useful?\n",
    "- Programming and algorithms practice!\n",
    "\n",
    "## What is pair programming?\n",
    "\n",
    "**Pair programming is more or less what it says on the tin - two people, working on the same programming problem with on a shared workstation (one keyboard, one mouse).**  The intuition behind this practice is that the two programmers collaborate closely on the same programming problem, producing higher-quality code while simultaneously learning from each other. Pair programming is used most often in the software industry by so-called \"agile\" development teams, as one of a number of development practices designed to produce high-quality, user-friendly software.\n",
    "\n",
    "When pair programming, the two developers adopt two slightly different roles: **driver** and **navigator**. **The driver uses the keyboard and mouse, while the navigator does not.** This distinction allows them to practice different modes of thinking - the driver constructs the lines of code, leaving the navigator more free to focus on direction and architecture. Generally, developers switch roles every few minutes or so. Fluid communication is important! The driver is still interested in code architecture, and the navigator should be reading the code as it is written.\n",
    "\n",
    "## How to use this notebook\n",
    "This module presents a number of bioinformatics algorithms problems of varying difficulty. They are intended to be solved as a pair, but of course you can solve them on your own as well!\n",
    "You can find these problems, and a solution checker, at [rosalind.info](rosalind.info).\n",
    "\n",
    "Some notebook cells will contain markdown text, describing the problem and linking to the corresponding rosalind page. **The rosalind page contains detailed problem descriptions, biological motivation, and test cases!** This notebook is just to help you organize your code solutions. Following the description, a code cell is provided as a sandbox for code development. Sometimes the code cell will have starter code or comments to get you started.\n",
    "\n",
    "Feel free to skip around to find problems of your skill level. Solutions can be found in the pair-programming-solutions notebook.\n",
    "\n",
    "(NB: Rosalind.info was developed in the Python 2 language. This notebook is written in Python 3. You may see some minor syntax differences between this notebook and snippets from the rosalind site. "
   ]
  },
  {
   "cell_type": "markdown",
   "metadata": {},
   "source": [
    "# Python Village\n",
    "Basic python syntax for new programmers ([rosalind link](http://rosalind.info/problems/list-view/?location=python-village))"
   ]
  },
  {
   "cell_type": "markdown",
   "metadata": {},
   "source": [
    "## [Variables and some arithmetic](http://rosalind.info/problems/ini2/)\n",
    "Goals: \n",
    "- store values in variables\n",
    "- value *types*: integer, float, and string\n",
    "\n",
    "*Primitive types* are the basic building blocks of a programming language. Examples in python include\n",
    "- **int** (integer), for integers between -2 billion and 2 billion;\n",
    "- **float**, for numbers with a decimal\n",
    "- **bool** (boolean), can be True or False\n",
    "- **string**, for sequences of alphanumeric characters\n",
    "- **None**\n",
    "\n",
    "**Problem:** \n",
    "\n",
    "Given: Two positive integers a and b, each less than 1000.\n",
    "\n",
    "Return: The integer corresponding to the square of the hypotenuse of the right triangle whose legs have lengths a and b."
   ]
  },
  {
   "cell_type": "code",
   "execution_count": null,
   "metadata": {
    "ExecuteTime": {
     "end_time": "2020-08-25T21:08:02.331852Z",
     "start_time": "2020-08-25T21:08:02.325033Z"
    }
   },
   "outputs": [],
   "source": [
    "################################################\n",
    "## Examples\n",
    "# Assigning values to variables\n",
    "a_Variable = 4 # integer\n",
    "b = 5.2 # float\n",
    "c4_you_cant_start_a_variable_with_a_number = \"Hello\"\n",
    "\n",
    "# Some arithmetic\n",
    "a_Variable = a_Variable + 7 # Can reassign a variable to a new value\n",
    "b = a_Variable**2 # The exponential operator is '**'. Here we assign b the value of a squared.\n",
    "print(c4_you_cant_start_a_variable_with_a_number + \" World!\") # Can do operations on strings too\n",
    "\n",
    "#################################################\n",
    "# Your code here:\n"
   ]
  },
  {
   "cell_type": "markdown",
   "metadata": {},
   "source": [
    "## [Strings and Lists](http://rosalind.info/problems/ini3/)\n",
    "\n",
    "Goals:\n",
    "- Familiarity with lists, your first data structure!\n",
    "    \n",
    "Data structures are ways of organizing, collecting, and manipulating the primitive types. Some common and useful ones in Python are:\n",
    "- **Lists** [] for ordered sequences\n",
    "- **Strings** \"\" for ordered sequences of alphanumeric characters (can often do list operations on strings)\n",
    "- **Dictionaries** {key: value} for indexed pairs of {lookup index, value}\n",
    "\n",
    "**Problem**\n",
    "\n",
    "Given: A string s of length at most 200 letters and four integers a, b, c and d.\n",
    "\n",
    "Return: The slice of this string from indices a through b and c through d (with space in between), inclusively. In other words, we should include elements s[b] and s[d] in our slice."
   ]
  },
  {
   "cell_type": "code",
   "execution_count": null,
   "metadata": {
    "ExecuteTime": {
     "end_time": "2020-08-25T21:08:34.521537Z",
     "start_time": "2020-08-25T21:08:34.516017Z"
    }
   },
   "outputs": [],
   "source": [
    "############################################################\n",
    "## Examples\n",
    "# Define a string\n",
    "a = \"Here is a string.\"\n",
    "\n",
    "# Define a list\n",
    "b = [a, \"here is another string\", \"one more string\"]\n",
    "\n",
    "# Get a character at an index of a string\n",
    "ex1 = a[0]\n",
    "print(ex1)\n",
    "\n",
    "# Get a range of characters:\n",
    "ex2 = a[0:4] # can also be a[:4]\n",
    "print(ex2)\n",
    "############################################################\n",
    "# Your code here:\n"
   ]
  },
  {
   "cell_type": "markdown",
   "metadata": {},
   "source": [
    "## [Conditions and Loops](http://rosalind.info/problems/ini4/)\n",
    "Sometimes, you need to do things more than once. You could write the code lots of times, but that would be terrible. Instead, we use *control flow* to dictate whether, and how many times, a piece of code runs.\n",
    "\n",
    "**Problem**\n",
    "\n",
    "Given: Two positive integers a and b (a<b<10000).\n",
    "\n",
    "Return: The sum of all odd integers from a through b, inclusively."
   ]
  },
  {
   "cell_type": "code",
   "execution_count": null,
   "metadata": {
    "ExecuteTime": {
     "end_time": "2020-08-25T21:09:02.228521Z",
     "start_time": "2020-08-25T21:09:02.219095Z"
    }
   },
   "outputs": [],
   "source": [
    "############################################################\n",
    "## Examples\n",
    "# A bit of fun: let's generate a random number [0,2) and print depending on the result\n",
    "import random # Only do this once per program\n",
    "rv = random.randint(0,2)\n",
    "print(rv)\n",
    "if rv == 0:\n",
    "    print(\"Here we do thing zero!\")\n",
    "elif rv == 1:\n",
    "    print(\"Wow we do a different thing\")\n",
    "else:\n",
    "    print(\"Very program much wow\")\n",
    "    \n",
    "# Let's count to six\n",
    "six=[1,2,3,4,5,6]\n",
    "for number in six:\n",
    "    print(number)\n",
    "\n",
    "# Cool lets do it again\n",
    "for i in range(len(six)):\n",
    "    print(six[i])\n",
    "############################################################\n",
    "# Your code here:\n"
   ]
  },
  {
   "cell_type": "markdown",
   "metadata": {
    "ExecuteTime": {
     "end_time": "2020-08-21T02:38:37.987911Z",
     "start_time": "2020-08-21T02:38:37.985701Z"
    }
   },
   "source": [
    "## [Working with Files](http://rosalind.info/problems/ini5/)\n",
    "\n",
    "You'll very frequently need to bring data from other files. There are many common ways to do this; we could read it line-by-line in Python, we could use the pandas library, etc. Here we read a file using Python's default libraries.\n",
    "\n",
    "### Pandas\n",
    "\n",
    "A common data storage method is the **Relational database or table**. A table consists of multiple rows or observations, each with a unique index, and the properties of each observation are stored in the columns:\n",
    "\n",
    "| Gene | Sample1 | Sample2 | Sample3 | Sample4 |\n",
    "| --- | --- | --- | --- | --- |\n",
    "| CDK6 | 742 | 100 | 46 | 10294 |\n",
    "| MYC | 343 | 54365 | 2345 | 867 |\n",
    "| BRAF | 445 | 6783 | 483 | 8890 |\n",
    "\n",
    "You've encountered tables like these as excel, .tsv, or .csv files. **Pandas** is a Python library for manipulating tabular data. The syntax is kind of clunky, but it's worth learning if Python is your programming language of choice. (There are similar libraries in other languages; see data.table and data.frame in R.)\n",
    "\n",
    "**Problem**\n",
    "\n",
    "Given: A file containing at most 1000 lines.\n",
    "\n",
    "Return: A file containing all the even-numbered lines from the original file. Assume 1-based numbering of lines."
   ]
  },
  {
   "cell_type": "code",
   "execution_count": null,
   "metadata": {
    "ExecuteTime": {
     "end_time": "2020-08-24T21:31:31.361009Z",
     "start_time": "2020-08-24T21:31:31.338715Z"
    }
   },
   "outputs": [],
   "source": [
    "############################################################\n",
    "## Examples\n",
    "# Read a file\n",
    "file = open('example.bed','r') # 'r' is 'read' mode\n",
    "for line in file.readlines():\n",
    "    print(line)\n",
    "file.close() # remember to close your file afterward, otherwise you'll be wasting memory!\n",
    "\n",
    "# Write a file\n",
    "haiku='''Star Wars names such as\n",
    "Twi'lek stress me out because\n",
    "Can you close that string\n",
    "'''\n",
    "with open('haiku.txt','w') as f:\n",
    "    f.write(haiku)\n",
    "# Don't need to close the file if you use the 'with open() as f' syntax.\n",
    "\n",
    "# Read example.bed into a Pandas DataFrame.\n",
    "import pandas as pd\n",
    "df = pd.read_csv('example.bed',sep='\\t',header=None,names=['chrom','start','end'])\n",
    "print(df)\n",
    "############################################################\n",
    "# Your code here:\n"
   ]
  },
  {
   "cell_type": "markdown",
   "metadata": {
    "ExecuteTime": {
     "end_time": "2020-08-21T02:38:37.987911Z",
     "start_time": "2020-08-21T02:38:37.985701Z"
    }
   },
   "source": [
    "## [Dictionaries](http://rosalind.info/problems/ini6/)\n",
    "\n",
    "**Dictionaries** are another basic data structure common to many languages. A dictionary allows you to take any *value*, and assign it a unique lookup index, or *key*. You can then look up this value, using the key, very efficiently using the dict. You can store anything in the value: a string, a list, even another dictionary.\n",
    "\n",
    "**Problem**\n",
    "\n",
    "Given: A string s of length at most 10000 letters.\n",
    "\n",
    "Return: The number of occurrences of each word in s, where words are separated by spaces. Words are case-sensitive, and the lines in the output can be in any order."
   ]
  },
  {
   "cell_type": "code",
   "execution_count": null,
   "metadata": {
    "ExecuteTime": {
     "end_time": "2020-08-25T21:10:10.758778Z",
     "start_time": "2020-08-25T21:10:10.751038Z"
    }
   },
   "outputs": [],
   "source": [
    "############################################################\n",
    "## Examples\n",
    "# Make a dict of phone numbers\n",
    "phones = {'Zoe':'232-43-58', 'Alice':'165-88-56'}\n",
    "print(phones)\n",
    "# Update Zoe's phone\n",
    "phones['Zoe'] = '658-99-55'\n",
    "# Add Bill's phone\n",
    "phones['Bill'] = '342-18-25'\n",
    "print(phones)\n",
    "\n",
    "# get the keys in a dictionary using d.keys()\n",
    "print(phones.keys())\n",
    "############################################################\n",
    "s = 'We tried list and we tried dicts also we tried Zen'\n",
    "def word_count(s):\n",
    "    d = {} # Create a dict\n",
    "    words = s.split() # split() is a string function that takes a string \"Here a string\" and splits it by a character: ['Here','a','string']\n",
    "    for word in words:\n",
    "        pass # Your code here"
   ]
  },
  {
   "cell_type": "markdown",
   "metadata": {
    "ExecuteTime": {
     "end_time": "2020-08-21T02:38:37.987911Z",
     "start_time": "2020-08-21T02:38:37.985701Z"
    }
   },
   "source": [
    "# [Bioinformatics Stronghold](http://rosalind.info/problems/list-view/)\n",
    "\n",
    "Bioinformatics algorithms problems in rough ascending order of difficulty. The linked problems often have relevant biological or computational explanations, so check them out!\n"
   ]
  },
  {
   "cell_type": "markdown",
   "metadata": {
    "ExecuteTime": {
     "end_time": "2020-08-21T02:38:37.987911Z",
     "start_time": "2020-08-21T02:38:37.985701Z"
    }
   },
   "source": [
    "## [Counting DNA Nucleotides](http://rosalind.info/problems/dna/)\n",
    "**Problem**\n",
    "\n",
    "A string is simply an ordered collection of symbols selected from some alphabet and formed into a word; the length of a string is the number of symbols that it contains.\n",
    "\n",
    "An example of a length 21 DNA string (whose alphabet contains the symbols 'A', 'C', 'G', and 'T') is \"ATGCTTCAGAAAGGTCTTACG.\"\n",
    "\n",
    "Given: A DNA string s of length at most 1000 nt.\n",
    "\n",
    "Return: Four integers (separated by spaces) counting the respective number of times that the symbols 'A', 'C', 'G', and 'T' occur in s."
   ]
  },
  {
   "cell_type": "code",
   "execution_count": null,
   "metadata": {
    "ExecuteTime": {
     "end_time": "2020-08-25T17:39:08.410064Z",
     "start_time": "2020-08-25T17:39:08.408077Z"
    },
    "code_folding": []
   },
   "outputs": [],
   "source": [
    "# Your code here:\n",
    "def count_nucleotides(s):\n",
    "    pass"
   ]
  },
  {
   "cell_type": "markdown",
   "metadata": {},
   "source": [
    "## [Complementing a Strand of DNA ](http://rosalind.info/problems/revc/)\n",
    "**Problem**\n",
    "\n",
    "In DNA strings, symbols 'A' and 'T' are complements of each other, as are 'C' and 'G'.\n",
    "\n",
    "The reverse complement of a DNA string s is the string sc formed by reversing the symbols of s, then taking the complement of each symbol (e.g., the reverse complement of \"GTCA\" is \"TGAC\").\n",
    "\n",
    "Given: A DNA string s of length at most 1000 bp.\n",
    "\n",
    "Return: The reverse complement sc of s."
   ]
  },
  {
   "cell_type": "code",
   "execution_count": null,
   "metadata": {},
   "outputs": [],
   "source": []
  },
  {
   "cell_type": "markdown",
   "metadata": {},
   "source": [
    "## [Rabbits and Recurrence Relations](http://rosalind.info/problems/fib/)\n",
    "\n",
    "A sequence is an ordered collection of objects (usually numbers), which are allowed to repeat. Sequences can be finite or infinite. Two examples are the finite sequence (π,−2–√,0,π) and the infinite sequence of odd numbers (1,3,5,7,9,…). We use the notation an to represent the n-th term of a sequence.\n",
    "\n",
    "A recurrence relation is a way of defining the terms of a sequence with respect to the values of previous terms. In the case of Fibonacci's rabbits from the introduction, any given month will contain the rabbits that were alive the previous month, plus any new offspring. A key observation is that the number of offspring in any month is equal to the number of rabbits that were alive two months prior. As a result, if Fn represents the number of rabbit pairs alive after the n-th month, then we obtain the Fibonacci sequence having terms Fn that are defined by the recurrence relation Fn=Fn−1+Fn−2 (with F1=F2=1 to initiate the sequence). Although the sequence bears Fibonacci's name, it was known to Indian mathematicians over two millennia ago.\n",
    "\n",
    "**Problem**\n",
    "\n",
    "Given: Positive integers n≤40 and k≤5.\n",
    "\n",
    "Return: The total number of rabbit pairs that will be present after n months, if we begin with 1 pair and in each generation, every pair of reproduction-age rabbits produces a litter of k rabbit pairs (instead of only 1 pair)."
   ]
  },
  {
   "cell_type": "code",
   "execution_count": null,
   "metadata": {},
   "outputs": [],
   "source": []
  },
  {
   "cell_type": "markdown",
   "metadata": {},
   "source": [
    "## Find the Most Frequent Words in a String\n",
    "\n",
    "We say that Pattern is a most frequent k-mer in Text if it maximizes Count(Text, Pattern) among all k-mers. For example, \"ACTAT\" is a most frequent 5-mer in \"ACAACTATGCATCACTATCGGGAACTATCCT\", and \"ATA\" is a most frequent 3-mer of \"CGATATATCCATAG\".\n",
    "\n",
    "**Frequent Words Problem**\n",
    "\n",
    "Find the most frequent k-mers in a string.\n",
    "\n",
    "Given: A DNA string Text and an integer k.\n",
    "\n",
    "Return: All most frequent k-mers in Text (in any order)."
   ]
  },
  {
   "cell_type": "code",
   "execution_count": null,
   "metadata": {},
   "outputs": [],
   "source": []
  },
  {
   "cell_type": "markdown",
   "metadata": {},
   "source": [
    "## [Finding a Shared Motif](http://rosalind.info/problems/lcsm/)\n",
    "\n",
    "A common substring of a collection of strings is a substring of every member of the collection. We say that a common substring is a longest common substring if there does not exist a longer common substring. For example, \"CG\" is a common substring of \"ACGTACGT\" and \"AACCGTATA\", but it is not as long as possible; in this case, \"CGTA\" is a longest common substring of \"ACGTACGT\" and \"AACCGTATA\".\n",
    "\n",
    "Note that the longest common substring is not necessarily unique; for a simple example, \"AA\" and \"CC\" are both longest common substrings of \"AACC\" and \"CCAA\".\n",
    "\n",
    "**Problem**\n",
    "\n",
    "Given: A collection of k (k≤100) DNA strings of length at most 1 kbp each in FASTA format.\n",
    "\n",
    "Return: A longest common substring of the collection. (If multiple solutions exist, you may return any single solution.)"
   ]
  },
  {
   "cell_type": "code",
   "execution_count": null,
   "metadata": {},
   "outputs": [],
   "source": []
  },
  {
   "cell_type": "markdown",
   "metadata": {},
   "source": [
    "## [Inferring mRNA from Protein](http://rosalind.info/problems/mrna/)\n",
    "\n",
    "\n",
    "For positive integers a and n, a modulo n (written a mod n in shorthand) is the remainder when a is divided by n. For example, 29 mod 11=7 because 29=11×2+7.\n",
    "\n",
    "For this problem, you may also find this codon table helpful:\n",
    "<img src=\"images/codon_table.png\" width=\"480\">\n",
    "\n",
    "**Problem**\n",
    "\n",
    "Given: A protein string of length at most 1000 aa.\n",
    "\n",
    "Return: The total number of different RNA strings from which the protein could have been translated, modulo 1,000,000. (Don't neglect the importance of the stop codon in protein translation.)"
   ]
  },
  {
   "cell_type": "code",
   "execution_count": null,
   "metadata": {},
   "outputs": [],
   "source": []
  }
 ],
 "metadata": {
  "kernelspec": {
   "display_name": "Python 3",
   "language": "python",
   "name": "python3"
  },
  "language_info": {
   "codemirror_mode": {
    "name": "ipython",
    "version": 3
   },
   "file_extension": ".py",
   "mimetype": "text/x-python",
   "name": "python",
   "nbconvert_exporter": "python",
   "pygments_lexer": "ipython3",
   "version": "3.7.3"
  }
 },
 "nbformat": 4,
 "nbformat_minor": 2
}
