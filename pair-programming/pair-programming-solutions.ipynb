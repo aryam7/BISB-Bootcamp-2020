{
 "cells": [
  {
   "cell_type": "markdown",
   "metadata": {
    "ExecuteTime": {
     "end_time": "2020-08-25T17:37:23.537898Z",
     "start_time": "2020-08-25T17:37:23.533115Z"
    }
   },
   "source": [
    "# Python Village\n",
    "Basic python syntax for new programmers ([rosalind link](http://rosalind.info/problems/list-view/?location=python-village))"
   ]
  },
  {
   "cell_type": "markdown",
   "metadata": {},
   "source": [
    "## [Variables and some arithmetic](http://rosalind.info/problems/ini2/)\n",
    "**Problem:** \n",
    "\n",
    "Given: Two positive integers a and b, each less than 1000.\n",
    "\n",
    "Return: The integer corresponding to the square of the hypotenuse of the right triangle whose legs have lengths a and b."
   ]
  },
  {
   "cell_type": "code",
   "execution_count": null,
   "metadata": {
    "ExecuteTime": {
     "end_time": "2020-08-25T17:06:07.875715Z",
     "start_time": "2020-08-25T17:06:07.872394Z"
    }
   },
   "outputs": [],
   "source": [
    "def squared_hypotenuse(a,b):\n",
    "    return a**2 + b**2"
   ]
  },
  {
   "cell_type": "markdown",
   "metadata": {},
   "source": [
    "## [Strings and Lists](http://rosalind.info/problems/ini3/)\n",
    "\n",
    "**Problem**\n",
    "\n",
    "Given: A string s of length at most 200 letters and four integers a, b, c and d.\n",
    "\n",
    "Return: The slice of this string from indices a through b and c through d (with space in between), inclusively. In other words, we should include elements s[b] and s[d] in our slice."
   ]
  },
  {
   "cell_type": "code",
   "execution_count": null,
   "metadata": {
    "ExecuteTime": {
     "end_time": "2020-08-25T17:10:12.010255Z",
     "start_time": "2020-08-25T17:10:12.007338Z"
    },
    "code_folding": []
   },
   "outputs": [],
   "source": [
    "def slice_twice(s,a,b,c,d):\n",
    "    return s[a:b+1] + ' ' + s[c:d+1]"
   ]
  },
  {
   "cell_type": "markdown",
   "metadata": {},
   "source": [
    "## [Conditions and Loops](http://rosalind.info/problems/ini4/)\n",
    "\n",
    "**Problem**\n",
    "\n",
    "Given: Two positive integers a and b (a<b<10000).\n",
    "\n",
    "Return: The sum of all odd integers from a through b, inclusively."
   ]
  },
  {
   "cell_type": "code",
   "execution_count": null,
   "metadata": {
    "ExecuteTime": {
     "end_time": "2020-08-25T17:16:21.462291Z",
     "start_time": "2020-08-25T17:16:21.458404Z"
    }
   },
   "outputs": [],
   "source": [
    "def sum_odds(a,b):\n",
    "    s=0\n",
    "    for i in range(a,b+1):\n",
    "        if i % 2 == 1:\n",
    "            s += i\n",
    "    return s"
   ]
  },
  {
   "cell_type": "markdown",
   "metadata": {},
   "source": [
    "## [Working with Files](http://rosalind.info/problems/ini5/)\n",
    "\n",
    "**Problem**\n",
    "\n",
    "Given: A file containing at most 1000 lines.\n",
    "\n",
    "Return: A file containing all the even-numbered lines from the original file. Assume 1-based numbering of lines."
   ]
  },
  {
   "cell_type": "code",
   "execution_count": null,
   "metadata": {
    "ExecuteTime": {
     "end_time": "2020-08-25T17:25:18.153097Z",
     "start_time": "2020-08-25T17:25:18.149516Z"
    }
   },
   "outputs": [],
   "source": [
    "def even_lines(file,outfile=None):\n",
    "    s = ''\n",
    "    flag = False # we will invert this flag every line to get even numbers\n",
    "    with open (file, 'r') as f:\n",
    "        for line in f:\n",
    "            if flag:\n",
    "                s += line\n",
    "            flag = not flag\n",
    "    # Now we write to output\n",
    "    if outfile == None:\n",
    "        print(s)\n",
    "    else:\n",
    "        with open(outfile,'w') as g:\n",
    "            g.write(s)"
   ]
  },
  {
   "cell_type": "markdown",
   "metadata": {},
   "source": [
    "## [Dictionaries](http://rosalind.info/problems/ini6/)\n",
    "\n",
    "**Problem**\n",
    "\n",
    "Given: A string s of length at most 10000 letters.\n",
    "\n",
    "Return: The number of occurrences of each word in s, where words are separated by spaces. Words are case-sensitive, and the lines in the output can be in any order."
   ]
  },
  {
   "cell_type": "code",
   "execution_count": null,
   "metadata": {
    "ExecuteTime": {
     "end_time": "2020-08-25T17:34:31.171749Z",
     "start_time": "2020-08-25T17:34:31.167853Z"
    }
   },
   "outputs": [],
   "source": [
    "def word_count(s):\n",
    "    d = {}\n",
    "    for word in s.split():\n",
    "        if word in d:\n",
    "            d[word]+=1\n",
    "        else:\n",
    "            d[word]=1\n",
    "    return d\n",
    "# We pretty-print output for rosalind in a separate function, so that we can use the dict from word_count\n",
    "# in other programs if we need to.\n",
    "def pretty_print_wc(s):\n",
    "    d = word_count(s)\n",
    "    for key,value in d.items():\n",
    "        print(key,value)"
   ]
  },
  {
   "cell_type": "markdown",
   "metadata": {},
   "source": [
    "# [Bioinformatics Stronghold](http://rosalind.info/problems/list-view/)\n",
    "\n",
    "Bioinformatics algorithms problems in rough ascending order of difficulty. The linked problems often have relevant biological or computational explanations, so check them out!\n"
   ]
  },
  {
   "cell_type": "markdown",
   "metadata": {
    "ExecuteTime": {
     "end_time": "2020-08-25T17:39:46.287787Z",
     "start_time": "2020-08-25T17:39:46.281209Z"
    }
   },
   "source": [
    "## [Counting DNA Nucleotides](http://rosalind.info/problems/dna/)\n",
    "**Problem**\n",
    "\n",
    "A string is simply an ordered collection of symbols selected from some alphabet and formed into a word; the length of a string is the number of symbols that it contains.\n",
    "\n",
    "An example of a length 21 DNA string (whose alphabet contains the symbols 'A', 'C', 'G', and 'T') is \"ATGCTTCAGAAAGGTCTTACG.\"\n",
    "\n",
    "Given: A DNA string s of length at most 1000 nt.\n",
    "\n",
    "Return: Four integers (separated by spaces) counting the respective number of times that the symbols 'A', 'C', 'G', and 'T' occur in s."
   ]
  },
  {
   "cell_type": "code",
   "execution_count": null,
   "metadata": {},
   "outputs": [],
   "source": [
    "# We can do this with a list [a,b,c,d], where a,b,c,d correspond to the counts for A,C,G,T respectively.\n",
    "# We could also do this with a dict, where d['A'] = count(A).\n",
    "# Which version is more readable code, in your opinion?\n",
    "\n",
    "def count_nucs_list(s):\n",
    "    counts = [0,0,0,0]\n",
    "    \n"
   ]
  },
  {
   "cell_type": "code",
   "execution_count": null,
   "metadata": {
    "ExecuteTime": {
     "end_time": "2020-08-25T17:36:33.622501Z",
     "start_time": "2020-08-25T17:36:33.604406Z"
    }
   },
   "outputs": [],
   "source": [
    "s='When I find myself in times of trouble Mother Mary comes to me Speaking words of wisdom let it be And in my hour of darkness she is standing right in front of me Speaking words of wisdom let it be Let it be let it be let it be let it be Whisper words of wisdom let it be And when the broken hearted people living in the world agree There will be an answer let it be For though they may be parted there is still a chance that they will see There will be an answer let it be Let it be let it be let it be let it be There will be an answer let it be Let it be let it be let it be let it be Whisper words of wisdom let it be Let it be let it be let it be let it be Whisper words of wisdom let it be And when the night is cloudy there is still a light that shines on me Shine until tomorrow let it be I wake up to the sound of music Mother Mary comes to me Speaking words of wisdom let it be Let it be let it be let it be yeah let it be There will be an answer let it be Let it be let it be let it be yeah let it be Whisper words of wisdom let it be'\n",
    "pretty_print_wc(s)"
   ]
  },
  {
   "cell_type": "code",
   "execution_count": null,
   "metadata": {
    "ExecuteTime": {
     "end_time": "2020-08-25T17:31:00.435900Z",
     "start_time": "2020-08-25T17:31:00.432238Z"
    }
   },
   "outputs": [],
   "source": [
    "d = {'a':4}\n",
    "'b' in d"
   ]
  },
  {
   "cell_type": "code",
   "execution_count": null,
   "metadata": {},
   "outputs": [],
   "source": []
  }
 ],
 "metadata": {
  "kernelspec": {
   "display_name": "Python 3",
   "language": "python",
   "name": "python3"
  },
  "language_info": {
   "codemirror_mode": {
    "name": "ipython",
    "version": 3
   },
   "file_extension": ".py",
   "mimetype": "text/x-python",
   "name": "python",
   "nbconvert_exporter": "python",
   "pygments_lexer": "ipython3",
   "version": "3.7.3"
  }
 },
 "nbformat": 4,
 "nbformat_minor": 2
}
