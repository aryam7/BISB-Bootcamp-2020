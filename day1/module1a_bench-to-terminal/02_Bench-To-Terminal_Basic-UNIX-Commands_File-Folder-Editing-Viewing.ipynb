{
 "cells": [
  {
   "cell_type": "markdown",
   "metadata": {},
   "source": [
    "# Basic Commands in the Terminal: File & Folder Editing and Viewing\n",
    "\n",
    "**Author**: Michelle Franc Ragsac (mragsac@eng.ucsd.edu)\n",
    "\n",
    "---\n",
    "\n",
    "**Notebook Information:**\n",
    "\n",
    "This Jupyter Notebook contains the `UNIX` commands that were used in Module 1a: Bench to Terminal. <br>It's running with a `Bash` kernel so that all of the code blocks will have the output from running a command directly below them."
   ]
  },
  {
   "cell_type": "markdown",
   "metadata": {},
   "source": [
    "---\n",
    "\n",
    "## How can we create new files with `vim`?\n",
    "\n",
    "Let's change into one of the new directories we created in the previous notebook and create a blank text file. To do so, we will use `vim`, one of many terminal-based text editor applications. Other terminal-based text editors include `emacs` and `nano` (you can see `nano` in action in this other [UNIX tutorial](http://korflab.ucdavis.edu/bootcamp.html) offered by UC Davis). Each of these applications has their own unique feel to them, but for this module, we'll be sticking with `vim`. \n",
    "\n",
    "<div class=\"alert alert-block alert-warning\">\n",
    "    <b>Note:</b> I'll be running the code for this section (\"Creating New Files with <code>vim</code>\") and the next section (\"Editing New Files with <code>vim</code>\") on my own terminal application instead of within this Jupyter Notebook. \n",
    "    <br>These two sections will contain screenshots of what you should see when following the commands in the terminal.\n",
    "</div>\n",
    "\n",
    "### Changing into the `/home/mragsac/Dropbox/School/BISB-Bootcamp-2020/day1/module1a_bench-to-terminal/new_directory_1/` Directory\n",
    "\n",
    "First, let's start off by changing into one of the new directories we've generated from the last Jupyter Notebook, `new_directory_1`.\n",
    "\n",
    "```bash\n",
    "#####################################\n",
    "# Commands used within this section #\n",
    "#####################################\n",
    "\n",
    "pwd              # prints the current working directory\n",
    "cd               # changes the directory to the one listed\n",
    "```\n",
    "\n",
    "![Screenshot of Changing into the new_directory_1 Directory](media/vim_test_file_pt1.png)\n",
    "\n",
    "### Result of Running the Command `vim test_file.txt` in this Directory\n",
    "\n",
    "Next, we'll create a new file called `test_file.txt` in the `vim` terminal-based text editor.\n",
    "\n",
    "```bash\n",
    "#####################################\n",
    "# Commands used within this section #\n",
    "#####################################\n",
    "\n",
    "vim FILENAME    # creates a new file called FILENAME (variable) in the vim text editor\n",
    "```\n",
    "\n",
    "![Screenshot of opening a new file called test_file.txt in vim](media/vim_test_file_pt2.png)\n",
    "\n",
    "This blank screen contains the text file that you just created, `test_file.txt`. The file name is displayed in the bottom left-hand corner with a `[New file]` label.\n",
    "\n",
    "<div class=\"alert alert-block alert-info\">\n",
    "    <b>Note:</b> You can use the arrow keys to move the cursor around the file!\n",
    "</div>"
   ]
  },
  {
   "cell_type": "markdown",
   "metadata": {},
   "source": [
    "---\n",
    "\n",
    "## How can we edit new files created with `vim`?\n",
    "\n",
    "You can edit the contents of the new `test_file.txt` file you're viewing in `vim` by pressing the `i` key on your keyboard. This will change the mode for `vim` to \"INSERT mode\". Afterwards, you can type in whatever you would like. \n",
    "\n",
    "### Editing the Contents of `test_file.txt` in `vim`'s `INSERT` Mode\n",
    "\n",
    "![Screenshot of adding the line \"Hello World\" to the test_file.txt file in vim](media/vim_test_file_pt3.png)\n",
    "\n",
    "### Saving the Contents of `test_file.txt` in `vim` then Exiting the Program with the `:wq` Command\n",
    "\n",
    "To leave \"INSERT mode\" and prevent further editing of your file, you can press the `ESC` key. \n",
    "\n",
    "Finally, to save and quit from the file, you can type in `:wq` (where `:` indicates a command for `vim` to follow, and `w` indicates you want to \"write\" or save the file, and then `q` indicates you want to \"quit\" right afterwards) then press the `ENTER` key.\n",
    "\n",
    "![Screenshot of exiting INSERT mode and then saving the test_file.txt file in vim](media/vim_test_file_pt4.png)\n",
    "\n",
    "After pressing the `ENTER` key, you should return back to the terminal.\n",
    "\n",
    "---"
   ]
  },
  {
   "cell_type": "markdown",
   "metadata": {},
   "source": [
    "## How can we preview the contents of a file? \n",
    "\n",
    "Say we want to preview the contents of the `test_file.txt`. We can preview the beginning, or \"head\", of the file with the command `head`:"
   ]
  },
  {
   "cell_type": "code",
   "execution_count": 1,
   "metadata": {},
   "outputs": [
    {
     "name": "stdout",
     "output_type": "stream",
     "text": [
      "/Users/mragsac/Dropbox/School/BISB-Bootcamp-2020/day1/module1a_bench-to-terminal\n",
      "/Users/mragsac/Dropbox/School/BISB-Bootcamp-2020/day1/module1a_bench-to-terminal/new_directory_1\n",
      "\n",
      "Listing all of the files available in the folder:\n",
      "test_file.txt\n",
      "\n",
      "Previewing the contents of the file test_file.txt:\n",
      "Hello world!\n"
     ]
    }
   ],
   "source": [
    "# Change into the module directory, print the current directory (should be the same), then change into the new directory with the file we created\n",
    "cd /Users/mragsac/Dropbox/School/BISB-Bootcamp-2020/day1/module1a_bench-to-terminal\n",
    "pwd\n",
    "cd new_directory_1\n",
    "pwd\n",
    "\n",
    "# List all of the files available in the folder\n",
    "echo \"\"\n",
    "echo \"Listing all of the files available in the folder:\"\n",
    "ls\n",
    "\n",
    "# Preview the beginning of the file with the head command\n",
    "echo \"\"\n",
    "echo \"Previewing the contents of the file test_file.txt:\"\n",
    "head test_file.txt"
   ]
  },
  {
   "cell_type": "markdown",
   "metadata": {},
   "source": [
    "<div class=\"alert alert-block alert-info\">\n",
    "    <b>Note:</b> Here, I've used the command <code>echo</code> to introduce some print statements to our <code>UNIX</code> commands and make the output a little bit more clear!\n",
    "</div>"
   ]
  },
  {
   "cell_type": "markdown",
   "metadata": {},
   "source": [
    "There are actually a couple of ways to view a file on the terminal! So far, we've used `head` to preview the \"head\" or beginning of the file. Here are some other commands we can use:\n",
    "\n",
    "```bash\n",
    "###############################\n",
    "# Additional Command Examples #\n",
    "###############################\n",
    "\n",
    "cat FILENAME     # displays the entire contents of the file onto your screen\n",
    "less FILENAME    # displays the entire contents of the file onto your screen in a way that can be scrolled through with the ENTRE key\n",
    "tail FILENAME    # looks at the last few lines of a file (versus head)\n",
    "```\n",
    "\n",
    "I encourage you to look at the \"manual\" for each of the commands listed above with the command `man` to learn more about them. \n",
    "\n",
    "<div class=\"alert alert-block alert-info\">\n",
    "    <b>Note:</b> For the <code>less</code> command, you enter a separate \"window\" within the terminal to view the contents of a file. In order to quit the window and stop viewing the file, you can press the <code>q</code> key.\n",
    "</div>"
   ]
  },
  {
   "cell_type": "markdown",
   "metadata": {},
   "source": [
    "---\n",
    "\n",
    "## How can we copy files?\n",
    "\n",
    "We can copy things in the terminal using the `cp` command. \n",
    "\n",
    "Say we wanted to copy our test file we made, `test_file.txt`, to another file called `another_test_file.txt`. We can do that with the command:"
   ]
  },
  {
   "cell_type": "code",
   "execution_count": 2,
   "metadata": {},
   "outputs": [
    {
     "name": "stdout",
     "output_type": "stream",
     "text": [
      "All of the files available before making a copy of test_file.txt:\n",
      "test_file.txt\n",
      "\n",
      "All of the files available after making a copy of test_file.txt:\n",
      "another_test_file.txt test_file.txt\n",
      "\n",
      "Contents of another_test_file.txt:\n",
      "Hello world!\n"
     ]
    }
   ],
   "source": [
    "# List all of the files available in the current directory\n",
    "echo \"All of the files available before making a copy of test_file.txt:\"\n",
    "ls\n",
    "\n",
    "# Copy the contents of test_file.txt to a new file called another_test_file.txt\n",
    "cp test_file.txt another_test_file.txt\n",
    "\n",
    "# List all of the files available in the current directory\n",
    "echo \"\"\n",
    "echo \"All of the files available after making a copy of test_file.txt:\"\n",
    "ls\n",
    "\n",
    "# Show the contents of the new file we made\n",
    "echo \"\"\n",
    "echo \"Contents of another_test_file.txt:\"\n",
    "head another_test_file.txt"
   ]
  },
  {
   "cell_type": "markdown",
   "metadata": {},
   "source": [
    "We now have two identical copies of the same file in the same directory! "
   ]
  },
  {
   "cell_type": "markdown",
   "metadata": {},
   "source": [
    "---"
   ]
  },
  {
   "cell_type": "markdown",
   "metadata": {},
   "source": [
    "## How can we move a file?\n",
    "\n",
    "If we want to move a file, we can \"move it\" with the `mv` command. \n",
    "\n",
    "Let's make a new folder called `new_location` then move our `another_test_file.txt` into that folder:"
   ]
  },
  {
   "cell_type": "code",
   "execution_count": 3,
   "metadata": {},
   "outputs": [
    {
     "name": "stdout",
     "output_type": "stream",
     "text": [
      "View the contents of the new_location/ folder:\n",
      "another_test_file.txt\n",
      "\n",
      "View the contents of the current folder we're in:\n",
      "\u001b[1m\u001b[34mnew_location\u001b[39;49m\u001b[0m  test_file.txt\n"
     ]
    }
   ],
   "source": [
    "# Create a new folder called new_location\n",
    "mkdir new_location\n",
    "\n",
    "# Move our file to that folder\n",
    "mv another_test_file.txt new_location/\n",
    "\n",
    "# View the contents of the new folder and the original location\n",
    "echo \"View the contents of the new_location/ folder:\"\n",
    "ls new_location/\n",
    "\n",
    "echo \"\"\n",
    "echo \"View the contents of the current folder we're in:\"\n",
    "ls "
   ]
  },
  {
   "cell_type": "markdown",
   "metadata": {},
   "source": [
    "From this, we can see that we were able to successfully move the file, `another_test_file.txt`, to the new folder we created within `new_directory_1` called `new_location`. \n",
    "\n",
    "<div class=\"alert alert-block alert-info\">\n",
    "    <b>Note:</b> We can also use the <code>mv</code> command to move folders to new locations.\n",
    "</div>\n",
    "\n",
    "<div class=\"alert alert-block alert-info\">\n",
    "    <b>Note:</b> The <code>mv</code> command also works for renaming files and folders. For instance, if we wanted to rename <code>test_file.txt</code> to <code>revised_test_file.txt</code>, we would use the command: <code>mv test_file.txt revised_test_file.txt</code>. The contents of the file would be the same, but its name would now be different.\n",
    "</div>"
   ]
  },
  {
   "cell_type": "markdown",
   "metadata": {},
   "source": [
    "---\n",
    "\n",
    "## How can we delete files?\n",
    "\n",
    "We can use the command `rm` to \"remove\" files from our computer. \n",
    "\n",
    "<div class=\"alert alert-block alert-danger\">\n",
    "    <b>Warning:</b> Unlike deleting files on your desktop, <strong>there is no trash folder for files and folders that you delete</strong>! \n",
    "    <br>You need to be absolutely sure that you are prepared to lose the file or directory that you delete with the <code>rm</code> command as it will be impossible to recover after deletion! \n",
    "    <br><br>Here's more information on this topic: <a href=https://unix.stackexchange.com/questions/10883/where-do-files-go-when-the-rm-command-is-issued>\"Where do files go when the rm command is issued?\" post on StackOverflow</a>.\n",
    "</div>\n",
    "\n",
    "All you need to do is make sure you are in the directory that houses the file you wish to delete then perform the following: "
   ]
  },
  {
   "cell_type": "code",
   "execution_count": 4,
   "metadata": {},
   "outputs": [
    {
     "name": "stdout",
     "output_type": "stream",
     "text": [
      "/Users/mragsac/Dropbox/School/BISB-Bootcamp-2020/day1/module1a_bench-to-terminal/new_directory_1\n",
      "Contents of the directory before removing test_file.txt:\n",
      "\u001b[1m\u001b[34mnew_location\u001b[39;49m\u001b[0m  test_file.txt\n",
      "\n",
      "Contents of the directory after removing test_file.txt:\n",
      "\u001b[1m\u001b[34mnew_location\u001b[39;49m\u001b[0m\n"
     ]
    }
   ],
   "source": [
    "# Say we want to delete the file test_file.txt, we can delete it with the rm command\n",
    "\n",
    "# View the current directory we're in, as well as the contents\n",
    "pwd\n",
    "echo \"Contents of the directory before removing test_file.txt:\"\n",
    "ls \n",
    "\n",
    "# Afterwards, delete the test_file.txt file\n",
    "rm test_file.txt\n",
    "\n",
    "# Look at the contents of the directory again after removing the file\n",
    "echo \"\"\n",
    "echo \"Contents of the directory after removing test_file.txt:\"\n",
    "ls"
   ]
  },
  {
   "cell_type": "markdown",
   "metadata": {},
   "source": [
    "With this command, we were able to successfully remove the `test_file.txt`! \n",
    "\n",
    "### Removing a Directory\n",
    "\n",
    "To remove a directory, we can still use the `rm` command, but we need to include the `-r` flag to \"recusively\" remove the directory and all subdirectories within it. \n",
    "\n",
    "Let's remove the `new_location` folder and all of its contents: "
   ]
  },
  {
   "cell_type": "code",
   "execution_count": 5,
   "metadata": {},
   "outputs": [],
   "source": [
    "# Remove the new_location folder\n",
    "rm -r new_location/\n",
    "\n",
    "# Look at the contents of the directory after removing the new_location folder\n",
    "ls"
   ]
  },
  {
   "cell_type": "markdown",
   "metadata": {},
   "source": [
    "This folder is now empty! \n",
    "\n",
    "### Removing an Empty Directory\n",
    "\n",
    "If a directory is completely empty, we can remove it using the `rmdir` command instead of `rm -r`! Let's remove the current folder that we're in because it's empty:"
   ]
  },
  {
   "cell_type": "code",
   "execution_count": 6,
   "metadata": {},
   "outputs": [
    {
     "name": "stdout",
     "output_type": "stream",
     "text": [
      "/Users/mragsac/Dropbox/School/BISB-Bootcamp-2020/day1/module1a_bench-to-terminal/new_directory_1\n",
      "/Users/mragsac/Dropbox/School/BISB-Bootcamp-2020/day1/module1a_bench-to-terminal\n",
      "Contents of the directory before removing new_directory_1:\n",
      "00_Bench-To-Terminal_Presentation.pdf\n",
      "01_Bench-To-Terminal_Basic-UNIX-Commands_Traversing-Creating-New-Directories.ipynb\n",
      "02_Bench-To-Terminal_Basic-UNIX-Commands_File-Folder-Editing-Viewing.ipynb\n",
      "README.md\n",
      "\u001b[1m\u001b[34mmedia\u001b[39;49m\u001b[0m\n",
      "\u001b[1m\u001b[34mnew_directory_1\u001b[39;49m\u001b[0m\n",
      "\u001b[1m\u001b[34mnew_directory_2\u001b[39;49m\u001b[0m\n",
      "\n",
      "Contents of the directory after removing new_directory_1:\n",
      "00_Bench-To-Terminal_Presentation.pdf\n",
      "01_Bench-To-Terminal_Basic-UNIX-Commands_Traversing-Creating-New-Directories.ipynb\n",
      "02_Bench-To-Terminal_Basic-UNIX-Commands_File-Folder-Editing-Viewing.ipynb\n",
      "README.md\n",
      "\u001b[1m\u001b[34mmedia\u001b[39;49m\u001b[0m\n",
      "\u001b[1m\u001b[34mnew_directory_2\u001b[39;49m\u001b[0m\n"
     ]
    }
   ],
   "source": [
    "# View the current working directory before changing into one level above it using the .. notation\n",
    "pwd\n",
    "cd ..\n",
    "pwd \n",
    "\n",
    "# List all of the directories present before deleting,\n",
    "# remove the new_directory_1 folder,\n",
    "# then list all of the directories present after deleting this folder\n",
    "echo \"Contents of the directory before removing new_directory_1:\"\n",
    "ls \n",
    "\n",
    "# Afterwards, delete the test_file.txt file\n",
    "rmdir new_directory_1\n",
    "\n",
    "# Look at the contents of the directory again after removing the folder\n",
    "echo \"\"\n",
    "echo \"Contents of the directory after removing new_directory_1:\"\n",
    "ls"
   ]
  }
 ],
 "metadata": {
  "kernelspec": {
   "display_name": "Bash",
   "language": "bash",
   "name": "bash"
  },
  "language_info": {
   "codemirror_mode": "shell",
   "file_extension": ".sh",
   "mimetype": "text/x-sh",
   "name": "bash"
  }
 },
 "nbformat": 4,
 "nbformat_minor": 4
}
