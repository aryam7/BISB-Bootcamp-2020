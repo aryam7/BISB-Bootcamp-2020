{
 "cells": [
  {
   "cell_type": "markdown",
   "metadata": {},
   "source": [
    "# Basic Commands in the Terminal: Traversing and Creating New Directories\n",
    "\n",
    "**Author**: Michelle Franc Ragsac (mragsac@eng.ucsd.edu)\n",
    "\n",
    "---\n",
    "\n",
    "**Notebook Information:**\n",
    "\n",
    "This Jupyter Notebook contains the `UNIX` commands that were used in Module 1a: Bench to Terminal. <br>It's running with a `Bash` kernel so that all of the code blocks will have the output from running a command directly below them."
   ]
  },
  {
   "cell_type": "markdown",
   "metadata": {},
   "source": [
    "---\n",
    "\n",
    "## Where are you currently?\n",
    "\n",
    "When using a `terminal`, you will always be inside a folder or directory. But at any given time, you may lose track of what directory you are currently in. \n",
    "\n",
    "To figure out where you are currently located, you can use the `pwd` command to \"print working directory\":"
   ]
  },
  {
   "cell_type": "code",
   "execution_count": 1,
   "metadata": {},
   "outputs": [
    {
     "name": "stdout",
     "output_type": "stream",
     "text": [
      "/Users/mragsac/Dropbox/School/BISB-Bootcamp-2020/day1/module1a_bench-to-terminal\n"
     ]
    }
   ],
   "source": [
    "pwd"
   ]
  },
  {
   "cell_type": "markdown",
   "metadata": {},
   "source": [
    "When I run the `pwd` command, my current—or \"working\"—directory is `/Users/mragsac/Dropbox/School/BISB-Bootcamp-2020/day1/module1a_bench-to-terminal`. \n",
    "\n",
    "This is also the location of where this notebook is located on my computer! \n",
    "\n",
    "<div class=\"alert alert-block alert-info\">\n",
    "    <b>Note:</b> The location that is output by the <code>pwd</code> command will reflect your own location, so it should have a different output from this notebook.\n",
    "</div>\n",
    "\n",
    "The structure of the `pwd` command's result is what we call our **absolute path**, or your absolute location on your computer. An absolute path is a way of navigating to a specific location regardless of your starting point. "
   ]
  },
  {
   "cell_type": "markdown",
   "metadata": {},
   "source": [
    "## Where can we go?\n",
    "\n",
    "Now that we know where we are, we can try and see (or \"list\") what folders are in my working directory with the command `ls`."
   ]
  },
  {
   "cell_type": "code",
   "execution_count": 2,
   "metadata": {},
   "outputs": [
    {
     "name": "stdout",
     "output_type": "stream",
     "text": [
      "00_Bench-To-Terminal_Presentation.pdf\n",
      "01_Bench-To-Terminal_Basic-UNIX-Commands.ipynb\n",
      "README.md\n",
      "\u001b[1m\u001b[34mmedia\u001b[39;49m\u001b[0m\n"
     ]
    }
   ],
   "source": [
    "ls"
   ]
  },
  {
   "cell_type": "markdown",
   "metadata": {},
   "source": [
    "From this command, we can see the files and folders that are located in my current location. \n",
    "\n",
    "This command should also reflect what is present when you look at the folder in a graphic user interface or \"GUI\", such as the macOS `Finder` application: \n",
    "\n",
    "![Screenshot of the Finder at the loccation /Users/mragsac/Dropbox/School/BISB-Bootcamp-2020/day1/module1a_bench-to-terminal](media/ls_result.png)"
   ]
  },
  {
   "cell_type": "markdown",
   "metadata": {},
   "source": [
    "---\n",
    "\n",
    "## How can we make a new directory?\n",
    "\n",
    "Say we wanted to create a new folder called \"`new_directory_1`\". We can use the command `mkdir` to \"make directories\":"
   ]
  },
  {
   "cell_type": "code",
   "execution_count": 3,
   "metadata": {},
   "outputs": [
    {
     "name": "stdout",
     "output_type": "stream",
     "text": [
      "00_Bench-To-Terminal_Presentation.pdf\n",
      "01_Bench-To-Terminal_Basic-UNIX-Commands.ipynb\n",
      "README.md\n",
      "\u001b[1m\u001b[34mmedia\u001b[39;49m\u001b[0m\n",
      "\u001b[1m\u001b[34mnew_directory_1\u001b[39;49m\u001b[0m\n"
     ]
    }
   ],
   "source": [
    "# First, make a new directory\n",
    "mkdir new_directory_1\n",
    "\n",
    "# After, immediately list out the contents of our current location to check if the new directory was made\n",
    "ls"
   ]
  },
  {
   "cell_type": "markdown",
   "metadata": {},
   "source": [
    "Huzzah! I was able to make a new directory called `new_directory_1` within my current location.\n",
    "\n",
    "<div class=\"alert alert-block alert-danger\">\n",
    "    <b>Warning:</b> When naming a directory, it is always a good idea to separate words with an underscore character (<code>_</code>) to prevent unusual notation that you wouldn't expect. \n",
    "    <br><br>For example, if you ran the <code>mkdir</code> command to create the <code>new_directory_1</code> folder with spaces instead of underscores (e.g., <code>mkdir new directory 1</code>), it would create <strong>three</strong> separate directories named \"<code>new</code>\", \"<code>directory</code>\", and \"<code>1</code>\" instead of the single directory we wanted called \"<code>new_directory_1</code>\".\n",
    "</div>"
   ]
  },
  {
   "cell_type": "markdown",
   "metadata": {},
   "source": [
    "## How can we make nested directories?\n",
    "\n",
    "You can also make many levels of subdirectories simultaneously using the `mkdir` command, but you need to add an additional note, or **flag**, to do it in one command. This is the `-p` flag, which adds additional \"parents\" to the directories you want to create.\n",
    "\n",
    "Say we wanted to create the following nested folder structure, \"`new_directory_2/this/is/nested`\". We can use the command `mkdir` with the `-p` flag to create this nested structure:"
   ]
  },
  {
   "cell_type": "code",
   "execution_count": 4,
   "metadata": {},
   "outputs": [
    {
     "name": "stdout",
     "output_type": "stream",
     "text": [
      "00_Bench-To-Terminal_Presentation.pdf\n",
      "01_Bench-To-Terminal_Basic-UNIX-Commands.ipynb\n",
      "README.md\n",
      "\u001b[1m\u001b[34mmedia\u001b[39;49m\u001b[0m\n",
      "\u001b[1m\u001b[34mnew_directory_1\u001b[39;49m\u001b[0m\n",
      "\u001b[1m\u001b[34mnew_directory_2\u001b[39;49m\u001b[0m\n"
     ]
    }
   ],
   "source": [
    "# First, make the directories with the -p flag\n",
    "mkdir -p new_directory_2/this/is/nested\n",
    "\n",
    "# After, immediately list out the contents of our current location to check if the new directory was made\n",
    "ls"
   ]
  },
  {
   "cell_type": "markdown",
   "metadata": {},
   "source": [
    "From this, we can see that we made our second directory, `new_directory_2`. Let's check to see if the nested directories were made: "
   ]
  },
  {
   "cell_type": "code",
   "execution_count": 5,
   "metadata": {},
   "outputs": [
    {
     "name": "stdout",
     "output_type": "stream",
     "text": [
      "\u001b[1m\u001b[34mthis\u001b[39;49m\u001b[0m\n"
     ]
    }
   ],
   "source": [
    "# Check if the \"this\" folder is present within new_directory_2/\n",
    "ls new_directory_2"
   ]
  },
  {
   "cell_type": "code",
   "execution_count": 6,
   "metadata": {},
   "outputs": [
    {
     "name": "stdout",
     "output_type": "stream",
     "text": [
      "\u001b[1m\u001b[34mis\u001b[39;49m\u001b[0m\n"
     ]
    }
   ],
   "source": [
    "# Check if the \"is\" folder is present within new_directory_2/this/\n",
    "ls new_directory_2/this"
   ]
  },
  {
   "cell_type": "code",
   "execution_count": 7,
   "metadata": {},
   "outputs": [
    {
     "name": "stdout",
     "output_type": "stream",
     "text": [
      "\u001b[1m\u001b[34mnested\u001b[39;49m\u001b[0m\n"
     ]
    }
   ],
   "source": [
    "# Check if the \"nested\" folder is present within new_directory_2/this/is/\n",
    "ls new_directory_2/this/is"
   ]
  },
  {
   "cell_type": "markdown",
   "metadata": {},
   "source": [
    "We were able to generate all of the directories with the `-p` flag of the `mkdir` command! \n",
    "\n",
    "From this portion, we were also able to demonstrate how `ls` can be used to list out the directories within a particular folder that we're interested in.\n",
    "\n",
    "---\n",
    "\n",
    "## Learning More about Commands with the `man` Command\n",
    "\n",
    "Any command you use on the terminal will probably have multiple flags associated with it; for example, the `mkdir` command has more flags than just the `-p` flag! To learn more about a command and see what available flags there are, you can use the `man` function in front of the command name (e.g., `man mkdir`) to access that command's \"manual\"."
   ]
  },
  {
   "cell_type": "code",
   "execution_count": 8,
   "metadata": {},
   "outputs": [
    {
     "name": "stdout",
     "output_type": "stream",
     "text": [
      "\n",
      "MKDIR(1)                  BSD General Commands Manual                 MKDIR(1)\n",
      "\n",
      "NAME\n",
      "     mkdir -- make directories\n",
      "\n",
      "SYNOPSIS\n",
      "     mkdir [-pv] [-m mode] directory_name ...\n",
      "\n",
      "DESCRIPTION\n",
      "     The mkdir utility creates the directories named as operands, in the order\n",
      "     specified, using mode rwxrwxrwx (0777) as modified by the current\n",
      "     umask(2).\n",
      "\n",
      "     The options are as follows:\n",
      "\n",
      "     -m mode\n",
      "             Set the file permission bits of the final created directory to\n",
      "             the specified mode.  The mode argument can be in any of the for-\n",
      "             mats specified to the chmod(1) command.  If a symbolic mode is\n",
      "             specified, the operation characters ``+'' and ``-'' are inter-\n",
      "             preted relative to an initial mode of ``a=rwx''.\n",
      "\n",
      "     -p      Create intermediate directories as required.  If this option is\n",
      "             not specified, the full path prefix of each operand must already\n",
      "             exist.  On the other hand, with this option specified, no error\n",
      "             will be reported if a directory given as an operand already\n",
      "             exists.  Intermediate directories are created with permission\n",
      "             bits of rwxrwxrwx (0777) as modified by the current umask, plus\n",
      "             write and search permission for the owner.\n",
      "\n",
      "     -v      Be verbose when creating directories, listing them as they are\n",
      "             created.\n",
      "\n",
      "     The user must have write permission in the parent directory.\n",
      "\n",
      "DIAGNOSTICS\n",
      "     The mkdir utility exits 0 on success, and >0 if an error occurs.\n",
      "\n",
      "SEE ALSO\n",
      "     rmdir(1)\n",
      "\n",
      "COMPATIBILITY\n",
      "     The -v option is non-standard and its use in scripts is not recommended.\n",
      "\n",
      "STANDARDS\n",
      "     The mkdir utility is expected to be IEEE Std 1003.2 (``POSIX.2'') compat-\n",
      "     ible.\n",
      "\n",
      "HISTORY\n",
      "     A mkdir command appeared in Version 1 AT&T UNIX.\n",
      "\n",
      "BSD                            January 25, 1994                            BSD\n"
     ]
    }
   ],
   "source": [
    "# Learn more about the mkdir command with the man command\n",
    "man mkdir"
   ]
  },
  {
   "cell_type": "markdown",
   "metadata": {},
   "source": [
    "---\n",
    "\n",
    "## How can we change our working directory?\n",
    "\n",
    "We don't want to always stay in the same folder, so let's use the `cd` command to \"change directories\" to another one on the command line:"
   ]
  },
  {
   "cell_type": "code",
   "execution_count": 9,
   "metadata": {},
   "outputs": [
    {
     "name": "stdout",
     "output_type": "stream",
     "text": [
      "/Users/mragsac/Dropbox/School/BISB-Bootcamp-2020/day1/module1a_bench-to-terminal/new_directory_1\n"
     ]
    }
   ],
   "source": [
    "# Change our current directory\n",
    "cd new_directory_1\n",
    "\n",
    "# List the directory that we're located in to see what happened\n",
    "pwd"
   ]
  },
  {
   "cell_type": "markdown",
   "metadata": {},
   "source": [
    "And just like that, I'm now in the directory that I created in the previous section, `new_directory_1`! "
   ]
  },
  {
   "cell_type": "markdown",
   "metadata": {},
   "source": [
    "---\n",
    "\n",
    "## Navigating through Directories with the `..` Notation\n",
    "\n",
    "With the previous command, we moved forward through a directory by selecting a folder that was present at our current location. \n",
    "\n",
    "We can move back up a level in our directory hierarchy using two periods (\"`..`\") with the `cd` command:"
   ]
  },
  {
   "cell_type": "code",
   "execution_count": 10,
   "metadata": {},
   "outputs": [
    {
     "name": "stdout",
     "output_type": "stream",
     "text": [
      "/Users/mragsac/Dropbox/School/BISB-Bootcamp-2020/day1/module1a_bench-to-terminal/new_directory_1\n",
      "/Users/mragsac/Dropbox/School/BISB-Bootcamp-2020/day1/module1a_bench-to-terminal\n"
     ]
    }
   ],
   "source": [
    "# List the directory that we're currently located in\n",
    "pwd\n",
    "\n",
    "# Move up a directory with the .. notation\n",
    "cd ..\n",
    "\n",
    "# List the directory that we're in now\n",
    "pwd"
   ]
  },
  {
   "cell_type": "markdown",
   "metadata": {},
   "source": [
    "Previously, I was located in the directory `/Users/mragsac/Dropbox/School/BISB-Bootcamp-2020/day1/module1a_bench-to-terminal/new_directory_1`, then after running the `cd` command, I moved up in the directory hierarchy to the directory `/Users/mragsac/Dropbox/School/BISB-Bootcamp-2020/day1/module1a_bench-to-terminal`!\n",
    "\n",
    "We can also move up multiple levels by separating the two periods with a forward slash (\"`/`\"):"
   ]
  },
  {
   "cell_type": "code",
   "execution_count": 11,
   "metadata": {},
   "outputs": [
    {
     "name": "stdout",
     "output_type": "stream",
     "text": [
      "/Users/mragsac/Dropbox/School/BISB-Bootcamp-2020/day1/module1a_bench-to-terminal\n",
      "/Users/mragsac/Dropbox/School/BISB-Bootcamp-2020\n"
     ]
    }
   ],
   "source": [
    "# List the directory that we're currently located in\n",
    "pwd\n",
    "\n",
    "# Move up two directories using the .. notation\n",
    "cd ../..\n",
    "\n",
    "# List the directory that we're in now\n",
    "pwd"
   ]
  },
  {
   "cell_type": "markdown",
   "metadata": {},
   "source": [
    "<div class=\"alert alert-block alert-info\">\n",
    "    <b>Note:</b> The <code>..</code> notation allows us to change our relative path, or location relative to where we are now. Compare this to our <strong>absolute path</strong>, where the entire path is defined in identifying our absolute location. We can also change location to any other directory, such as the <code>module1a_bench-to-terminal</code> directory from our current location, so as long as we provide an absolute path.\n",
    "</div>"
   ]
  },
  {
   "cell_type": "code",
   "execution_count": 12,
   "metadata": {},
   "outputs": [
    {
     "name": "stdout",
     "output_type": "stream",
     "text": [
      "/Users/mragsac/Dropbox/School/BISB-Bootcamp-2020\n",
      "/Users/mragsac/Dropbox/School/BISB-Bootcamp-2020/day1/module1a_bench-to-terminal\n"
     ]
    }
   ],
   "source": [
    "# List the directory that we're currently located in\n",
    "pwd\n",
    "\n",
    "# Move to the specific directory that we're interested in changing to \n",
    "cd /Users/mragsac/Dropbox/School/BISB-Bootcamp-2020/day1/module1a_bench-to-terminal\n",
    "\n",
    "# List the directory we're in now\n",
    "pwd"
   ]
  },
  {
   "cell_type": "markdown",
   "metadata": {},
   "source": [
    "<div class=\"alert alert-block alert-danger\">\n",
    "    <b>Warning:</b> If you're ever typing out an absolute path, you might introduce mistakes due to typos. Computers need to follow a set of instructions precisely, so typos aren't tolerated!\n",
    "    <br>Thus, we can use something called <strong>tab-completion</strong> to fill in what is already known by the computer—such as existing folder names in a directory.\n",
    "</div>"
   ]
  },
  {
   "cell_type": "markdown",
   "metadata": {},
   "source": [
    "---\n",
    "\n",
    "## The Tilde (`~`) Notation\n",
    "\n",
    "The tilde (\"`~`\") is a `UNIX` shortcut to denote your \"home directory\", or the directory that you're automatically redirected to whenever you open up a terminal window. \n",
    "\n",
    "<div class=\"alert alert-block alert-info\">\n",
    "    <b>Note:</b> On your keyboard, the key with the tilde (<code>~</code>) is shared with the back quote key (<code>\"`\"</code>). This key should be located to the <strong>left</strong> of the <code>1/!</code> key on the number row. To type it, press <code>SHIFT + `</code>.\n",
    "</div>"
   ]
  },
  {
   "cell_type": "code",
   "execution_count": 13,
   "metadata": {},
   "outputs": [
    {
     "name": "stdout",
     "output_type": "stream",
     "text": [
      "/Users/mragsac/Dropbox/School/BISB-Bootcamp-2020/day1/module1a_bench-to-terminal\n",
      "/Users/mragsac\n",
      "\u001b[1m\u001b[34mApplications\u001b[39;49m\u001b[0m             \u001b[1m\u001b[35mGoogle Drive File Stream\u001b[39;49m\u001b[0m \u001b[1m\u001b[35mSchool\u001b[39;49m\u001b[0m\n",
      "\u001b[1m\u001b[34mDesktop\u001b[39;49m\u001b[0m                  \u001b[1m\u001b[34mLibrary\u001b[39;49m\u001b[0m                  \u001b[1m\u001b[34mZotero\u001b[39;49m\u001b[0m\n",
      "\u001b[1m\u001b[34mDocuments\u001b[39;49m\u001b[0m                \u001b[1m\u001b[34mMovies\u001b[39;49m\u001b[0m                   \u001b[1m\u001b[34mbin\u001b[39;49m\u001b[0m\n",
      "\u001b[1m\u001b[34mDownloads\u001b[39;49m\u001b[0m                \u001b[1m\u001b[34mMusic\u001b[39;49m\u001b[0m                    \u001b[1m\u001b[34mminiconda3\u001b[39;49m\u001b[0m\n",
      "\u001b[1m\u001b[35mDrive\u001b[39;49m\u001b[0m                    \u001b[1m\u001b[34mPictures\u001b[39;49m\u001b[0m\n",
      "\u001b[1m\u001b[34mDropbox\u001b[39;49m\u001b[0m                  \u001b[1m\u001b[34mPublic\u001b[39;49m\u001b[0m\n"
     ]
    }
   ],
   "source": [
    "# List the directory we're curently located in\n",
    "pwd\n",
    "\n",
    "# Move to the home directory using the ~ notation\n",
    "cd ~\n",
    "\n",
    "# List the directory we're in now\n",
    "pwd\n",
    "\n",
    "# List the contents of this directory\n",
    "ls"
   ]
  },
  {
   "cell_type": "markdown",
   "metadata": {},
   "source": [
    "From this code cell, I started out in the `/Users/mragsac/Dropbox/School/BISB-Bootcamp-2020/day1/module1a_bench-to-terminal` directory, and then ended up in the `/Users/mragsac` directory after using the tilde in my `cd` command. When I list out the contents of this directory, we can see that it reflects the same directory that appears when I open a new `Finder` window or open a new terminal! \n",
    "\n",
    "![Screenshot of the Finder at the loccation /Users/mragsac/](media/tilde_ls_result.png)"
   ]
  }
 ],
 "metadata": {
  "kernelspec": {
   "display_name": "Bash",
   "language": "bash",
   "name": "bash"
  },
  "language_info": {
   "codemirror_mode": "shell",
   "file_extension": ".sh",
   "mimetype": "text/x-sh",
   "name": "bash"
  }
 },
 "nbformat": 4,
 "nbformat_minor": 4
}
