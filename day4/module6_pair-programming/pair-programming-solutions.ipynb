{
 "cells": [
  {
   "cell_type": "markdown",
   "metadata": {
    "ExecuteTime": {
     "end_time": "2020-08-25T17:37:23.537898Z",
     "start_time": "2020-08-25T17:37:23.533115Z"
    }
   },
   "source": [
    "# Python Village\n",
    "Basic python syntax for new programmers ([rosalind link](http://rosalind.info/problems/list-view/?location=python-village))"
   ]
  },
  {
   "cell_type": "markdown",
   "metadata": {},
   "source": [
    "## [Variables and some arithmetic](http://rosalind.info/problems/ini2/)\n",
    "**Problem: (CR 1)** \n",
    "\n",
    "Given: Two positive integers $a$ and $b$, each less than 1000.\n",
    "\n",
    "Return: The integer corresponding to the square of the hypotenuse of the right triangle whose legs have lengths $a$ and $b$."
   ]
  },
  {
   "cell_type": "code",
   "execution_count": null,
   "metadata": {
    "ExecuteTime": {
     "end_time": "2020-08-25T17:06:07.875715Z",
     "start_time": "2020-08-25T17:06:07.872394Z"
    }
   },
   "outputs": [],
   "source": [
    "def squared_hypotenuse(a,b):\n",
    "    return a**2 + b**2"
   ]
  },
  {
   "cell_type": "markdown",
   "metadata": {},
   "source": [
    "## [Strings and Lists](http://rosalind.info/problems/ini3/)\n",
    "\n",
    "**Problem: (CR 1)**\n",
    "\n",
    "Given: A string $s$ of length at most 200 letters and four integers $a$, $b$, $c$ and $d$.\n",
    "\n",
    "Return: The slice of this string from indices $a$ through $b$ and $c$ through $d$ (with space in between), inclusively. In other words, we should include elements s[b] and s[d] in our slice."
   ]
  },
  {
   "cell_type": "code",
   "execution_count": null,
   "metadata": {
    "ExecuteTime": {
     "end_time": "2020-08-25T17:10:12.010255Z",
     "start_time": "2020-08-25T17:10:12.007338Z"
    },
    "code_folding": []
   },
   "outputs": [],
   "source": [
    "def slice_twice(s,a,b,c,d):\n",
    "    return s[a:b+1] + ' ' + s[c:d+1]"
   ]
  },
  {
   "cell_type": "markdown",
   "metadata": {},
   "source": [
    "## [Conditions and Loops](http://rosalind.info/problems/ini4/)\n",
    "\n",
    "**Problem: (CR 1)**\n",
    "\n",
    "Given: Two positive integers $a$ and $b$ ($a$<$b$<10000).\n",
    "\n",
    "Return: The sum of all odd integers from $a$ through $b$, inclusively."
   ]
  },
  {
   "cell_type": "code",
   "execution_count": null,
   "metadata": {
    "ExecuteTime": {
     "end_time": "2020-08-25T17:16:21.462291Z",
     "start_time": "2020-08-25T17:16:21.458404Z"
    }
   },
   "outputs": [],
   "source": [
    "def sum_odds(a,b):\n",
    "    s=0\n",
    "    for i in range(a,b+1):\n",
    "        if i % 2 == 1:\n",
    "            s += i\n",
    "    return s"
   ]
  },
  {
   "cell_type": "markdown",
   "metadata": {},
   "source": [
    "## [Working with Files](http://rosalind.info/problems/ini5/)\n",
    "\n",
    "**Problem: (CR 2)**\n",
    "\n",
    "Given: A file containing at most 1000 lines.\n",
    "\n",
    "Return: A file containing all the even-numbered lines from the original file. Assume 1-based numbering of lines."
   ]
  },
  {
   "cell_type": "code",
   "execution_count": null,
   "metadata": {
    "ExecuteTime": {
     "end_time": "2020-08-25T17:25:18.153097Z",
     "start_time": "2020-08-25T17:25:18.149516Z"
    }
   },
   "outputs": [],
   "source": [
    "def even_lines(file,outfile=None):\n",
    "    s = ''\n",
    "    flag = False # we will invert this flag every line to get even numbers\n",
    "    with open (file, 'r') as f:\n",
    "        for line in f:\n",
    "            if flag:\n",
    "                s += line\n",
    "            flag = not flag\n",
    "    # Now we write to output\n",
    "    if outfile == None:\n",
    "        print(s)\n",
    "    else:\n",
    "        with open(outfile,'w') as g:\n",
    "            g.write(s)"
   ]
  },
  {
   "cell_type": "markdown",
   "metadata": {},
   "source": [
    "## [Dictionaries](http://rosalind.info/problems/ini6/)\n",
    "\n",
    "**Problem: (CR 2)**\n",
    "\n",
    "Given: A string $s$ of length at most 10000 letters.\n",
    "\n",
    "Return: The number of occurrences of each word in $s$, where words are separated by spaces. Words are case-sensitive, and the lines in the output can be in any order."
   ]
  },
  {
   "cell_type": "code",
   "execution_count": null,
   "metadata": {
    "ExecuteTime": {
     "end_time": "2020-08-25T17:34:31.171749Z",
     "start_time": "2020-08-25T17:34:31.167853Z"
    }
   },
   "outputs": [],
   "source": [
    "def word_count(s):\n",
    "    d = {}\n",
    "    for word in s.split():\n",
    "        if word in d:\n",
    "            d[word]+=1\n",
    "        else:\n",
    "            d[word]=1\n",
    "    return d\n",
    "# We pretty-print output for rosalind in a separate function, so that we can use the dict from word_count\n",
    "# in other programs if we need to.\n",
    "def pretty_print_wc(s):\n",
    "    d = word_count(s)\n",
    "    for key,value in d.items():\n",
    "        print(key,value)"
   ]
  },
  {
   "cell_type": "markdown",
   "metadata": {},
   "source": [
    "# [Bioinformatics Stronghold](http://rosalind.info/problems/list-view/)\n",
    "\n",
    "Bioinformatics algorithms problems in rough ascending order of difficulty. The linked problems often have relevant biological or computational explanations, so check them out!\n"
   ]
  },
  {
   "cell_type": "markdown",
   "metadata": {
    "ExecuteTime": {
     "end_time": "2020-08-25T17:39:46.287787Z",
     "start_time": "2020-08-25T17:39:46.281209Z"
    }
   },
   "source": [
    "## [Counting DNA Nucleotides](http://rosalind.info/problems/dna/)\n",
    "**Problem: (CR 2)**\n",
    "\n",
    "Given: A DNA string $s$ of length at most 1000 nt.\n",
    "\n",
    "Return: Four integers (separated by spaces) counting the respective number of times that the symbols 'A', 'C', 'G', and 'T' occur in $s$."
   ]
  },
  {
   "cell_type": "code",
   "execution_count": null,
   "metadata": {
    "ExecuteTime": {
     "end_time": "2020-08-27T21:31:52.475498Z",
     "start_time": "2020-08-27T21:31:52.471623Z"
    }
   },
   "outputs": [],
   "source": [
    "# We can do this with a list [a,b,c,d], where a,b,c,d correspond to the counts for A,C,G,T respectively.\n",
    "# We could also do this with a dict, where d['A'] = count(A).\n",
    "# Which version is more readable code, in your opinion?\n",
    "\n",
    "def count_nucs_list(s):\n",
    "    counts = [0,0,0,0]\n",
    "    for char in s:\n",
    "        if char == 'A':\n",
    "            counts[0]+=1\n",
    "        elif char == 'C':\n",
    "            counts[1]+=1\n",
    "        elif char == 'G':\n",
    "            counts[2]+=1\n",
    "        elif char == 'T':\n",
    "            counts[3]+=1\n",
    "        else:\n",
    "            raise ValueError(\"Input is not a DNA string (alphabet ACGT)\")\n",
    "    return counts\n",
    "\n",
    "def count_nucs_dict(s):\n",
    "    counts = {'A':0,'C':0,'G':0,'T':0}\n",
    "    for char in s:\n",
    "        counts[char]+=1\n",
    "    return counts"
   ]
  },
  {
   "cell_type": "markdown",
   "metadata": {},
   "source": [
    "## [Compute the Hamming Distance Between Two Strings](http://rosalind.info/problems/ba1g/)\n",
    "\n",
    "**Hamming Distance Problem: (CR 2)**\n",
    "\n",
    "Compute the Hamming distance between two DNA strings.\n",
    "\n",
    "Given: Two DNA strings.\n",
    "\n",
    "Return: An integer value representing the Hamming distance."
   ]
  },
  {
   "cell_type": "code",
   "execution_count": null,
   "metadata": {
    "ExecuteTime": {
     "end_time": "2020-08-28T00:45:36.913638Z",
     "start_time": "2020-08-28T00:45:36.910386Z"
    }
   },
   "outputs": [],
   "source": [
    "def hamming(p,q):\n",
    "    assert(len(p)==len(q))\n",
    "    distance=0\n",
    "    for i in range(len(p)):\n",
    "        if p[i]!=q[i]:\n",
    "            distance+=1\n",
    "    return distance"
   ]
  },
  {
   "cell_type": "markdown",
   "metadata": {},
   "source": [
    "## [Translating RNA into Protein](http://rosalind.info/problems/prot/)\n",
    "**Problem: (CR 3)**\n",
    "\n",
    "Given: An RNA string $s$ corresponding to a strand of mRNA (of length at most 10 kbp).\n",
    "\n",
    "Return: The protein string encoded by $s$."
   ]
  },
  {
   "cell_type": "code",
   "execution_count": null,
   "metadata": {
    "ExecuteTime": {
     "end_time": "2020-08-28T01:44:04.647410Z",
     "start_time": "2020-08-28T01:44:04.643335Z"
    }
   },
   "outputs": [],
   "source": [
    "def codon_to_aa():\n",
    "    '''\n",
    "    Returns:\n",
    "        the codon table in {'AUG':M} form.\n",
    "    '''\n",
    "    AA='FFLLLLLLIIIMVVVVSSSSPPPPTTTTAAAAYYXXHHQQNNKKDDEECCXWRRRRSSRRGGGG'\n",
    "    nucleotides='UCAG'\n",
    "    d={}\n",
    "    for i in range(64):\n",
    "        first = nucleotides[(i//4)%4]\n",
    "        second = nucleotides[(i//16)%4]\n",
    "        third = nucleotides[i%4]\n",
    "        d[first+second+third]=AA[i]\n",
    "    return d\n",
    "\n",
    "def translate(string):\n",
    "    codon_table = codon_to_aa()\n",
    "    protein=''\n",
    "    for i in range(0,len(string),3):\n",
    "        codon = string[i:i+3]\n",
    "        aa = codon_table[codon]\n",
    "        if aa != 'X':\n",
    "            protein += codon_table[codon]\n",
    "        else:\n",
    "            return protein\n",
    "    return protein"
   ]
  },
  {
   "cell_type": "markdown",
   "metadata": {},
   "source": [
    "## [Complementing a Strand of DNA ](http://rosalind.info/problems/revc/)\n",
    "**Problem: (CR 3)**\n",
    "\n",
    "Given: A DNA string $s$ of length at most 1000 bp.\n",
    "\n",
    "Return: The reverse complement $s_c$ of $s$."
   ]
  },
  {
   "cell_type": "code",
   "execution_count": 1,
   "metadata": {
    "ExecuteTime": {
     "end_time": "2020-08-31T23:41:07.730333Z",
     "start_time": "2020-08-31T23:41:07.721051Z"
    }
   },
   "outputs": [
    {
     "data": {
      "text/plain": [
       "'TTTTAACTTGCTATTTCTAGCTCTAAAACTCACGTTTGAATGTGGTACTCGGTGTTTCGTCCTTTCCACAAGATATAT'"
      ]
     },
     "execution_count": 1,
     "metadata": {},
     "output_type": "execute_result"
    }
   ],
   "source": [
    "def reverse_complement(s):\n",
    "    output=''\n",
    "    complements = {'A':'T','T':'A','G':'C','C':'G'}\n",
    "    for i in range(len(s)):\n",
    "        pos = len(s)-i-1 # reverse\n",
    "        char = complements[s[pos]] # complement\n",
    "        output+=char\n",
    "    return output\n",
    "reverse_complement('ATATATCTTGTGGAAAGGACGAAACACCGAGTACCACATTCAAACGTGAGTTTTAGAGCTAGAAATAGCAAGTTAAAA')"
   ]
  },
  {
   "cell_type": "markdown",
   "metadata": {},
   "source": [
    "## [Rabbits and Recurrence Relations](http://rosalind.info/problems/fib/)\n",
    "\n",
    "**Problem: (CR 3)**\n",
    "\n",
    "Given: Positive integers $n≤40$ and $k≤5$.\n",
    "\n",
    "Return: The total number of rabbit pairs that will be present after $n$ months, if we begin with 1 pair and in each generation, every pair of reproduction-age rabbits produces a litter of $k$ rabbit pairs (instead of only 1 pair)."
   ]
  },
  {
   "cell_type": "code",
   "execution_count": null,
   "metadata": {
    "ExecuteTime": {
     "end_time": "2020-08-27T23:58:17.046486Z",
     "start_time": "2020-08-27T23:58:17.042565Z"
    }
   },
   "outputs": [],
   "source": [
    "# Recursive function calls itself\n",
    "def recursive_count_rabbits(n,k):\n",
    "    # base case\n",
    "    if n < 3:\n",
    "        return 1\n",
    "    # recursive case\n",
    "    else:\n",
    "        return recursive_count_rabbits(n-1,k) + k*recursive_count_rabbits(n-2,k)"
   ]
  },
  {
   "cell_type": "markdown",
   "metadata": {},
   "source": [
    "## Find the Most Frequent Words in a String\n",
    "\n",
    "We say that Pattern is a most frequent k-mer in Text if it maximizes Count(Text, Pattern) among all k-mers. For example, \"ACTAT\" is a most frequent 5-mer in \"ACAACTATGCATCACTATCGGGAACTATCCT\", and \"ATA\" is a most frequent 3-mer of \"CGATATATCCATAG\".\n",
    "\n",
    "**Frequent Words Problem (CR 4)**\n",
    "\n",
    "Find the most frequent k-mers in a string.\n",
    "\n",
    "Given: A DNA string Text and an integer k.\n",
    "\n",
    "Return: All most frequent k-mers in Text (in any order)."
   ]
  },
  {
   "cell_type": "code",
   "execution_count": null,
   "metadata": {
    "ExecuteTime": {
     "end_time": "2020-08-28T00:10:58.142576Z",
     "start_time": "2020-08-28T00:10:58.138358Z"
    }
   },
   "outputs": [],
   "source": [
    "# We make a helper function to count words.\n",
    "def count_words(s,k):\n",
    "    '''\n",
    "    Counts all substrings of length k.\n",
    "    Inputs:\n",
    "        s: string\n",
    "        k: int < len(s)\n",
    "    Return:\n",
    "        dict {substring:count}\n",
    "    '''\n",
    "    d={}\n",
    "    for i in range(len(s)-k+1):\n",
    "        substring=s[i:i+k]\n",
    "        if substring in d:\n",
    "            d[substring]+=1\n",
    "        else:\n",
    "            d[substring]=1\n",
    "    return d\n",
    "    \n",
    "def most_frequent_words(s,k):\n",
    "    d=count_words(s,k)\n",
    "    max_count = 0\n",
    "    for key,value in d.items():\n",
    "        if value > max_count:\n",
    "            # new set of most frequent words\n",
    "            words = [key]\n",
    "            max_count = value\n",
    "        elif value == max_count:\n",
    "            words.append(key)\n",
    "    return words"
   ]
  },
  {
   "cell_type": "code",
   "execution_count": null,
   "metadata": {
    "ExecuteTime": {
     "end_time": "2020-08-28T00:15:44.824029Z",
     "start_time": "2020-08-28T00:15:44.819826Z"
    }
   },
   "outputs": [],
   "source": [
    "# An example test for most_frequent_words\n",
    "def test_most_frequent_words(function):\n",
    "    s='ACGTTGCATGTCGCATGATGCATGAGAGCT'\n",
    "    k=4\n",
    "    result = function(s,k)\n",
    "    assert(len(result)==2)\n",
    "    assert('GCAT' in result)\n",
    "    assert('CATG' in result)\n",
    "    print('Test passed!')\n",
    "test_most_frequent_words(most_frequent_words)"
   ]
  },
  {
   "cell_type": "markdown",
   "metadata": {},
   "source": [
    "## [Inferring mRNA from Protein](http://rosalind.info/problems/mrna/)\n",
    "\n",
    "**Problem: (CR 4)**\n",
    "\n",
    "Given: A protein string of length at most 1000 aa.\n",
    "\n",
    "Return: The total number of different RNA strings from which the protein could have been translated, modulo 1,000,000. (Don't neglect the importance of the stop codon in protein translation.)"
   ]
  },
  {
   "cell_type": "code",
   "execution_count": null,
   "metadata": {
    "ExecuteTime": {
     "end_time": "2020-08-28T01:47:40.481445Z",
     "start_time": "2020-08-28T01:47:40.478185Z"
    },
    "code_folding": [
     1
    ]
   },
   "outputs": [],
   "source": [
    "# dict containing the number of possible codons for each amino acid\n",
    "reverse_translation_dict = {\n",
    "    'F':2,\n",
    "    'L':6,\n",
    "    'I':3,\n",
    "    'M':1,\n",
    "    'V':4,\n",
    "    'S':6,\n",
    "    'P':4,\n",
    "    'T':4,\n",
    "    'A':4,\n",
    "    'Y':2,\n",
    "    'X':3,\n",
    "    'H':2,\n",
    "    'Q':2,\n",
    "    'N':2,\n",
    "    'K':2,\n",
    "    'D':2,\n",
    "    'E':2,\n",
    "    'C':2,\n",
    "    'W':1,\n",
    "    'R':6,\n",
    "    'G':4\n",
    "}\n",
    "\n",
    "def enumerate_reverse_translations_mod1M(string):\n",
    "    s=1\n",
    "    string+='X'\n",
    "    for aa in string:\n",
    "        s=s*reverse_translation_dict[aa]%1000000\n",
    "    return s\n",
    "    "
   ]
  }
 ],
 "metadata": {
  "kernelspec": {
   "display_name": "Python 3",
   "language": "python",
   "name": "python3"
  },
  "language_info": {
   "codemirror_mode": {
    "name": "ipython",
    "version": 3
   },
   "file_extension": ".py",
   "mimetype": "text/x-python",
   "name": "python",
   "nbconvert_exporter": "python",
   "pygments_lexer": "ipython3",
   "version": "3.7.3"
  }
 },
 "nbformat": 4,
 "nbformat_minor": 2
}
