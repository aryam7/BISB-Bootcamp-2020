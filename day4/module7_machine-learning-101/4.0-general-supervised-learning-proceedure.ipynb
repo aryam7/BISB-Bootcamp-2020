{
 "cells": [
  {
   "attachments": {},
   "cell_type": "markdown",
   "metadata": {},
   "source": [
    "In this section we will introduce some basics to supervised learning. As opposed to the last section on unsupervised learning where we did not know exactly what we were looking for or know what was the correct answer. In supervised learning we have a clear objective with a measurable outcome. \n",
    "\n",
    "In supervised learning the goal is often to use our biological data to predict some additional property about the sample such as a phenotype (e.g. healthy v. sick) based on genotype data (e.g. gene abundance). When the additional property is categorical (e.g. health v. sick) supervised learning is called `classification`. When the additional property is continuous such as (e.g. blood pressure)  supervised learning is called `regression`.\n",
    "\n",
    "\n",
    "Supervised learning learns the `rules` in a training data to predict the additional property of the data. These `rules` can be used to predict the unknown or better understand biology. \n",
    "\n",
    "There are almost countless different methods in supervised learning and each modeling method has different strengths and weaknesses. However, the basic components of training a model to learn the `rules` is shared between the different methods:\n",
    "\n",
    "\n",
    "1.\tData type exploration (often unsupervised learning)\n",
    "2.\tChoose model class decision \n",
    "3.\tChoose preset model parameters (hyperparameters)\n",
    "4.\tFit the model to the training data\n",
    "5.\tUse the model to predict labels for new or holdout data\n",
    "\n",
    "\n",
    "Rather than focus on the many different classes of model we will focus on the recipe for modeling above. Note that the optimal model class is often a well explored subject in different sub-disciplines within biology but also a constantly evolving topic. It always recommended to do a deep dive on prior literature in your sub discipline before approaching the training of a certain model. There also great free resources online for exploring different model classes and the method behind them. \n",
    "\n",
    "In order to explore this protocol for model training and evaluation we will continue our example from the unsupervised learning section. First we will import the data.\n",
    "\n",
    "\n"
   ]
  },
  {
   "cell_type": "code",
   "execution_count": 1,
   "metadata": {},
   "outputs": [],
   "source": [
    "import numpy as np\n",
    "import pandas as pd\n",
    "from biom import Table, load_table"
   ]
  },
  {
   "cell_type": "code",
   "execution_count": 2,
   "metadata": {},
   "outputs": [
    {
     "data": {
      "text/html": [
       "<div>\n",
       "<style scoped>\n",
       "    .dataframe tbody tr th:only-of-type {\n",
       "        vertical-align: middle;\n",
       "    }\n",
       "\n",
       "    .dataframe tbody tr th {\n",
       "        vertical-align: top;\n",
       "    }\n",
       "\n",
       "    .dataframe thead th {\n",
       "        text-align: right;\n",
       "    }\n",
       "</style>\n",
       "<table border=\"1\" class=\"dataframe\">\n",
       "  <thead>\n",
       "    <tr style=\"text-align: right;\">\n",
       "      <th></th>\n",
       "      <th>232.M3Rinl217</th>\n",
       "      <th>232.M2Fkey217</th>\n",
       "      <th>232.M2Pkey217</th>\n",
       "      <th>232.M2Dkey217</th>\n",
       "      <th>232.M2Akey217</th>\n",
       "      <th>232.M2Bkey217</th>\n",
       "      <th>232.M2Ekey217</th>\n",
       "      <th>232.M2Enter217</th>\n",
       "      <th>232.M2Gkey217</th>\n",
       "      <th>232.M2Hkey217</th>\n",
       "      <th>...</th>\n",
       "      <th>232.M3Thml217</th>\n",
       "      <th>232.M2Ckey217</th>\n",
       "      <th>232.M2Zkey217</th>\n",
       "      <th>232.M2Midl217</th>\n",
       "      <th>232.M2Rinr217</th>\n",
       "      <th>232.M2Thml217</th>\n",
       "      <th>232.M2Wkey217</th>\n",
       "      <th>232.M3Xkey217</th>\n",
       "      <th>232.M3Ekey217</th>\n",
       "      <th>232.M3Kkey217</th>\n",
       "    </tr>\n",
       "  </thead>\n",
       "  <tbody>\n",
       "    <tr>\n",
       "      <th>410908</th>\n",
       "      <td>0.0</td>\n",
       "      <td>7.0</td>\n",
       "      <td>7.0</td>\n",
       "      <td>0.0</td>\n",
       "      <td>1.0</td>\n",
       "      <td>3.0</td>\n",
       "      <td>1.0</td>\n",
       "      <td>26.0</td>\n",
       "      <td>8.0</td>\n",
       "      <td>6.0</td>\n",
       "      <td>...</td>\n",
       "      <td>0.0</td>\n",
       "      <td>0.0</td>\n",
       "      <td>0.0</td>\n",
       "      <td>0.0</td>\n",
       "      <td>0.0</td>\n",
       "      <td>0.0</td>\n",
       "      <td>0.0</td>\n",
       "      <td>0.0</td>\n",
       "      <td>0.0</td>\n",
       "      <td>0.0</td>\n",
       "    </tr>\n",
       "    <tr>\n",
       "      <th>389067</th>\n",
       "      <td>0.0</td>\n",
       "      <td>0.0</td>\n",
       "      <td>1.0</td>\n",
       "      <td>0.0</td>\n",
       "      <td>0.0</td>\n",
       "      <td>0.0</td>\n",
       "      <td>0.0</td>\n",
       "      <td>0.0</td>\n",
       "      <td>0.0</td>\n",
       "      <td>0.0</td>\n",
       "      <td>...</td>\n",
       "      <td>0.0</td>\n",
       "      <td>0.0</td>\n",
       "      <td>0.0</td>\n",
       "      <td>0.0</td>\n",
       "      <td>0.0</td>\n",
       "      <td>0.0</td>\n",
       "      <td>0.0</td>\n",
       "      <td>0.0</td>\n",
       "      <td>0.0</td>\n",
       "      <td>0.0</td>\n",
       "    </tr>\n",
       "    <tr>\n",
       "      <th>981783</th>\n",
       "      <td>0.0</td>\n",
       "      <td>0.0</td>\n",
       "      <td>0.0</td>\n",
       "      <td>0.0</td>\n",
       "      <td>0.0</td>\n",
       "      <td>2.0</td>\n",
       "      <td>0.0</td>\n",
       "      <td>1.0</td>\n",
       "      <td>0.0</td>\n",
       "      <td>0.0</td>\n",
       "      <td>...</td>\n",
       "      <td>1.0</td>\n",
       "      <td>0.0</td>\n",
       "      <td>0.0</td>\n",
       "      <td>0.0</td>\n",
       "      <td>0.0</td>\n",
       "      <td>0.0</td>\n",
       "      <td>0.0</td>\n",
       "      <td>0.0</td>\n",
       "      <td>0.0</td>\n",
       "      <td>0.0</td>\n",
       "    </tr>\n",
       "    <tr>\n",
       "      <th>196271</th>\n",
       "      <td>0.0</td>\n",
       "      <td>1.0</td>\n",
       "      <td>1.0</td>\n",
       "      <td>0.0</td>\n",
       "      <td>0.0</td>\n",
       "      <td>0.0</td>\n",
       "      <td>0.0</td>\n",
       "      <td>2.0</td>\n",
       "      <td>0.0</td>\n",
       "      <td>0.0</td>\n",
       "      <td>...</td>\n",
       "      <td>0.0</td>\n",
       "      <td>1.0</td>\n",
       "      <td>5.0</td>\n",
       "      <td>0.0</td>\n",
       "      <td>0.0</td>\n",
       "      <td>0.0</td>\n",
       "      <td>0.0</td>\n",
       "      <td>0.0</td>\n",
       "      <td>0.0</td>\n",
       "      <td>0.0</td>\n",
       "    </tr>\n",
       "    <tr>\n",
       "      <th>4465746</th>\n",
       "      <td>0.0</td>\n",
       "      <td>10.0</td>\n",
       "      <td>11.0</td>\n",
       "      <td>22.0</td>\n",
       "      <td>19.0</td>\n",
       "      <td>24.0</td>\n",
       "      <td>16.0</td>\n",
       "      <td>26.0</td>\n",
       "      <td>17.0</td>\n",
       "      <td>9.0</td>\n",
       "      <td>...</td>\n",
       "      <td>0.0</td>\n",
       "      <td>21.0</td>\n",
       "      <td>6.0</td>\n",
       "      <td>11.0</td>\n",
       "      <td>6.0</td>\n",
       "      <td>9.0</td>\n",
       "      <td>12.0</td>\n",
       "      <td>0.0</td>\n",
       "      <td>0.0</td>\n",
       "      <td>0.0</td>\n",
       "    </tr>\n",
       "  </tbody>\n",
       "</table>\n",
       "<p>5 rows × 104 columns</p>\n",
       "</div>"
      ],
      "text/plain": [
       "         232.M3Rinl217  232.M2Fkey217  232.M2Pkey217  232.M2Dkey217  \\\n",
       "410908             0.0            7.0            7.0            0.0   \n",
       "389067             0.0            0.0            1.0            0.0   \n",
       "981783             0.0            0.0            0.0            0.0   \n",
       "196271             0.0            1.0            1.0            0.0   \n",
       "4465746            0.0           10.0           11.0           22.0   \n",
       "\n",
       "         232.M2Akey217  232.M2Bkey217  232.M2Ekey217  232.M2Enter217  \\\n",
       "410908             1.0            3.0            1.0            26.0   \n",
       "389067             0.0            0.0            0.0             0.0   \n",
       "981783             0.0            2.0            0.0             1.0   \n",
       "196271             0.0            0.0            0.0             2.0   \n",
       "4465746           19.0           24.0           16.0            26.0   \n",
       "\n",
       "         232.M2Gkey217  232.M2Hkey217  ...  232.M3Thml217  232.M2Ckey217  \\\n",
       "410908             8.0            6.0  ...            0.0            0.0   \n",
       "389067             0.0            0.0  ...            0.0            0.0   \n",
       "981783             0.0            0.0  ...            1.0            0.0   \n",
       "196271             0.0            0.0  ...            0.0            1.0   \n",
       "4465746           17.0            9.0  ...            0.0           21.0   \n",
       "\n",
       "         232.M2Zkey217  232.M2Midl217  232.M2Rinr217  232.M2Thml217  \\\n",
       "410908             0.0            0.0            0.0            0.0   \n",
       "389067             0.0            0.0            0.0            0.0   \n",
       "981783             0.0            0.0            0.0            0.0   \n",
       "196271             5.0            0.0            0.0            0.0   \n",
       "4465746            6.0           11.0            6.0            9.0   \n",
       "\n",
       "         232.M2Wkey217  232.M3Xkey217  232.M3Ekey217  232.M3Kkey217  \n",
       "410908             0.0            0.0            0.0            0.0  \n",
       "389067             0.0            0.0            0.0            0.0  \n",
       "981783             0.0            0.0            0.0            0.0  \n",
       "196271             0.0            0.0            0.0            0.0  \n",
       "4465746           12.0            0.0            0.0            0.0  \n",
       "\n",
       "[5 rows x 104 columns]"
      ]
     },
     "execution_count": 2,
     "metadata": {},
     "output_type": "execute_result"
    }
   ],
   "source": [
    "# import sample metadata\n",
    "mf = pd.read_csv('data/general-unsupervised-learning/232_20170409-171325.txt',\n",
    "                 sep='\\t', index_col=0)\n",
    "# keep only the three subjects (for example)\n",
    "mf = mf[mf.host_subject_id.isin(['M2','M3','M9'])]\n",
    "mf['body_habitat'] = mf.body_habitat.replace({'Not applicable':'keyboard',\n",
    "                                              'UBERON:skin':'human skin'})\n",
    "# import table and filter\n",
    "bt = load_table('data/general-unsupervised-learning/46811_otu_table.biom')\n",
    "bt = bt.filter(mf.index)\n",
    "bt = bt.filter(bt.ids('observation')[bt.sum('observation') > 10],\n",
    "               'observation')\n",
    "# convert to dataframe (for tutorial)\n",
    "table = pd.DataFrame(bt.matrix_data.toarray(),\n",
    "                     bt.ids('observation'), bt.ids())\n",
    "table.head(5)"
   ]
  },
  {
   "cell_type": "code",
   "execution_count": 3,
   "metadata": {},
   "outputs": [
    {
     "data": {
      "text/html": [
       "<div>\n",
       "<style scoped>\n",
       "    .dataframe tbody tr th:only-of-type {\n",
       "        vertical-align: middle;\n",
       "    }\n",
       "\n",
       "    .dataframe tbody tr th {\n",
       "        vertical-align: top;\n",
       "    }\n",
       "\n",
       "    .dataframe thead th {\n",
       "        text-align: right;\n",
       "    }\n",
       "</style>\n",
       "<table border=\"1\" class=\"dataframe\">\n",
       "  <thead>\n",
       "    <tr style=\"text-align: right;\">\n",
       "      <th></th>\n",
       "      <th>host_subject_id</th>\n",
       "      <th>body_habitat</th>\n",
       "    </tr>\n",
       "    <tr>\n",
       "      <th>sample_name</th>\n",
       "      <th></th>\n",
       "      <th></th>\n",
       "    </tr>\n",
       "  </thead>\n",
       "  <tbody>\n",
       "    <tr>\n",
       "      <th>232.M2Akey217</th>\n",
       "      <td>M2</td>\n",
       "      <td>keyboard</td>\n",
       "    </tr>\n",
       "    <tr>\n",
       "      <th>232.M2Bkey217</th>\n",
       "      <td>M2</td>\n",
       "      <td>keyboard</td>\n",
       "    </tr>\n",
       "    <tr>\n",
       "      <th>232.M2Ckey217</th>\n",
       "      <td>M2</td>\n",
       "      <td>keyboard</td>\n",
       "    </tr>\n",
       "    <tr>\n",
       "      <th>232.M2Dkey217</th>\n",
       "      <td>M2</td>\n",
       "      <td>keyboard</td>\n",
       "    </tr>\n",
       "    <tr>\n",
       "      <th>232.M2Ekey217</th>\n",
       "      <td>M2</td>\n",
       "      <td>keyboard</td>\n",
       "    </tr>\n",
       "  </tbody>\n",
       "</table>\n",
       "</div>"
      ],
      "text/plain": [
       "              host_subject_id body_habitat\n",
       "sample_name                               \n",
       "232.M2Akey217              M2     keyboard\n",
       "232.M2Bkey217              M2     keyboard\n",
       "232.M2Ckey217              M2     keyboard\n",
       "232.M2Dkey217              M2     keyboard\n",
       "232.M2Ekey217              M2     keyboard"
      ]
     },
     "execution_count": 3,
     "metadata": {},
     "output_type": "execute_result"
    }
   ],
   "source": [
    "mf[['host_subject_id','body_habitat']].head(5)"
   ]
  },
  {
   "cell_type": "markdown",
   "metadata": {},
   "source": [
    "The *table* contains microbes in the rows and samples in the columns where entries are the number of sequences counted for the microbes in each sample. Additionally, the *mf* dataframe contains information for each sample in the *table* columns such as which subject the keys are known to be matched to. From the unsupervised analysis we know that the samples separate by which person they came from (\"host_subject_id\") and if the sample originated from a keyboard or the persons skin (\"body_habitat\"). For our supervised analysis we will try to predict from the keyboard samples which person the transferred microbiome on the keys originated. \n",
    "\n",
    "Using pandas we can see we have 3 subjects with 10 skin samples (10 digits) and between 21-30 keyboard samples.  \n"
   ]
  },
  {
   "cell_type": "code",
   "execution_count": 4,
   "metadata": {},
   "outputs": [
    {
     "data": {
      "text/plain": [
       "{'M2': keyboard      30\n",
       " human skin    10\n",
       " Name: body_habitat, dtype: int64, 'M3': keyboard      23\n",
       " human skin    10\n",
       " Name: body_habitat, dtype: int64, 'M9': keyboard      21\n",
       " human skin    10\n",
       " Name: body_habitat, dtype: int64}"
      ]
     },
     "execution_count": 4,
     "metadata": {},
     "output_type": "execute_result"
    }
   ],
   "source": [
    "count_subjects_samples = {k:df.body_habitat.value_counts()\n",
    "                          for k, df in mf.groupby('host_subject_id')}\n",
    "count_subjects_samples\n"
   ]
  },
  {
   "cell_type": "markdown",
   "metadata": {},
   "source": [
    "Now we will talk about model validation, where after choosing a model and hyperparameters for our data, we verify our model is fit well (i.e. can predict accurately). Two core issues inherent to this validation are `overfitting` and `generalizability`. To explore these topics, we will take a naive first approach and learn on all of our data. To do this we will use k nearest neighbors (KNN) classifier with n_neighbors=1. This simple model just assumes the label of an “unknown” data point as the same as the closest trained data. "
   ]
  },
  {
   "cell_type": "code",
   "execution_count": 5,
   "metadata": {},
   "outputs": [],
   "source": [
    "from sklearn.neighbors import KNeighborsClassifier\n",
    "model = KNeighborsClassifier(n_neighbors=1)"
   ]
  },
  {
   "cell_type": "markdown",
   "metadata": {},
   "source": [
    "Now we will train the model on all of the data to predict the subject (which we already know).  "
   ]
  },
  {
   "cell_type": "code",
   "execution_count": 6,
   "metadata": {},
   "outputs": [],
   "source": [
    "X = table.values.T\n",
    "y = mf['host_subject_id'].values\n",
    "model.fit(X, y)\n",
    "y_model = model.predict(X)"
   ]
  },
  {
   "cell_type": "markdown",
   "metadata": {},
   "source": [
    "Next we will look at the fraction of correctly classified points."
   ]
  },
  {
   "cell_type": "code",
   "execution_count": 7,
   "metadata": {},
   "outputs": [
    {
     "data": {
      "text/plain": [
       "1.0"
      ]
     },
     "execution_count": 7,
     "metadata": {},
     "output_type": "execute_result"
    }
   ],
   "source": [
    "from sklearn.metrics import accuracy_score\n",
    "accuracy_score(y, y_model)"
   ]
  },
  {
   "cell_type": "markdown",
   "metadata": {},
   "source": [
    "We can see now that we have a 100% accuracy classifier! Now we can publish a paper saying we can now identify if someone touched a computer by their microbiome, a likely useful application for forensics. But are we really measuring the expected accuracy? and are we confident that we would identify the right person 100% of the time?\n",
    "\n",
    "No!! This approach has many flaws including the model is trained and evaluated on the same data (and not answering our original question) and the model class and parameters we chose will simply store our data and predict 100% in every case. \n",
    "\n",
    "In order to combat this problem, we will use a holdout set. This means we will take part of our data to train the model and hide another part of our data to test the model. \n"
   ]
  },
  {
   "cell_type": "code",
   "execution_count": 8,
   "metadata": {},
   "outputs": [
    {
     "data": {
      "text/plain": [
       "0.7115384615384616"
      ]
     },
     "execution_count": 8,
     "metadata": {},
     "output_type": "execute_result"
    }
   ],
   "source": [
    "from sklearn.model_selection import train_test_split\n",
    "\n",
    "# specify the model (default)\n",
    "model = KNeighborsClassifier()\n",
    "\n",
    "# split data 50% train and 50% test\n",
    "X1, X2, y1, y2 = train_test_split(X, y, random_state=0,\n",
    "                                  train_size=0.5)\n",
    "\n",
    "# fit the model on only training set (X1, y1)\n",
    "model.fit(X1, y1)\n",
    "\n",
    "# evaluate on only the test set (X2, y2)\n",
    "y2_model = model.predict(X2)\n",
    "accuracy_score(y2, y2_model)"
   ]
  },
  {
   "cell_type": "markdown",
   "metadata": {},
   "source": [
    "We also still have a problem. We are not really using all of our data because 50% will be used to train and 50% to test, we will only really use 50%. To combat this, we will use ` cross-validation` where we will switch the train and test sets in two iterations. "
   ]
  },
  {
   "cell_type": "code",
   "execution_count": 9,
   "metadata": {},
   "outputs": [
    {
     "data": {
      "text/plain": [
       "(0.4807692307692308, 0.7115384615384616)"
      ]
     },
     "execution_count": 9,
     "metadata": {},
     "output_type": "execute_result"
    }
   ],
   "source": [
    "# predict using org. train/test\n",
    "y2_model = model.fit(X1, y1).predict(X2)\n",
    "# now swtich test to train\n",
    "y1_model = model.fit(X2, y2).predict(X1)\n",
    "# explore the accruacy of both\n",
    "accuracy_score(y1, y1_model), accuracy_score(y2, y2_model)"
   ]
  },
  {
   "cell_type": "markdown",
   "metadata": {},
   "source": [
    "This is called two-fold validation. We can do 5-fold cross-validation by using smaller holdouts and switching the train/test set multiple times. "
   ]
  },
  {
   "cell_type": "code",
   "execution_count": 10,
   "metadata": {},
   "outputs": [
    {
     "data": {
      "text/plain": [
       "array([0.59090909, 0.52380952, 0.57142857, 0.6       , 0.25      ])"
      ]
     },
     "execution_count": 10,
     "metadata": {},
     "output_type": "execute_result"
    }
   ],
   "source": [
    "from sklearn.model_selection import cross_val_score\n",
    "cross_val_score(model, X, y, cv=5)"
   ]
  },
  {
   "cell_type": "markdown",
   "metadata": {},
   "source": [
    "The most iterations possible is the total number of samples, where the model is trained on all but one holdout sample. This method is called leave-one-out cross validation."
   ]
  },
  {
   "cell_type": "code",
   "execution_count": 11,
   "metadata": {},
   "outputs": [
    {
     "data": {
      "text/plain": [
       "104"
      ]
     },
     "execution_count": 11,
     "metadata": {},
     "output_type": "execute_result"
    }
   ],
   "source": [
    "from sklearn.model_selection import LeaveOneOut\n",
    "loo = LeaveOneOut()\n",
    "loo.get_n_splits(X)\n",
    "scores = []\n",
    "for train_index, test_index in loo.split(X):\n",
    "    X_train, X_test = X[train_index], X[test_index]\n",
    "    y_train, y_test = y[train_index], y[test_index]\n",
    "    y_model = model.fit(X_train, y_train).predict(X_test)\n",
    "    scores.append(accuracy_score(y_test, y_model))\n",
    "len(scores)\n"
   ]
  },
  {
   "cell_type": "code",
   "execution_count": 12,
   "metadata": {},
   "outputs": [
    {
     "data": {
      "text/plain": [
       "0.5769230769230769"
      ]
     },
     "execution_count": 12,
     "metadata": {},
     "output_type": "execute_result"
    }
   ],
   "source": [
    "np.mean(scores)\n"
   ]
  },
  {
   "cell_type": "markdown",
   "metadata": {},
   "source": [
    "Now in our case we would like to ask a question with the way we create holdouts. Can we predict the person (based on skin microbiome samples) who touched the keyboard (based on keyboard microbiome samples)? So we will make our test set only skin samples (one sample for each digit) and the test set the keyboard samples."
   ]
  },
  {
   "cell_type": "code",
   "execution_count": 13,
   "metadata": {
    "scrolled": true
   },
   "outputs": [
    {
     "data": {
      "text/plain": [
       "0.7567567567567568"
      ]
     },
     "execution_count": 13,
     "metadata": {},
     "output_type": "execute_result"
    }
   ],
   "source": [
    "# get test set\n",
    "test_samples = mf[mf.body_habitat == 'keyboard'].index\n",
    "X_test = table.loc[:, test_samples].values.T\n",
    "y_test = mf.loc[test_samples, 'host_subject_id'].values\n",
    "# get train set\n",
    "train_samples = mf[mf.body_habitat == 'human skin'].index\n",
    "X_train = table.loc[:, train_samples].values.T\n",
    "y_train = mf.loc[train_samples, 'host_subject_id'].values\n",
    "# predict using train/test\n",
    "y_model = model.fit(X_train, y_train).predict(X_test)\n",
    "# explore the accruacy of the mdoel\n",
    "accuracy_score(y_test, y_model)\n"
   ]
  },
  {
   "attachments": {},
   "cell_type": "markdown",
   "metadata": {},
   "source": [
    "Now we can see that we can predict with ~76% accuracy the person who touched the keyboard through their microbiome!\n",
    "\n",
    "The next step in improving this is hyperparameter optimization. By optimization of hyperparameters we hope to gain a better model fit to the data and therefor prediction. However, we first need to address to core issues with the protocol we just explored being `overfitting` and `generalizability`. Overfitting is the act of altering our model or hyperparameters such that they fit our collected data perfectly but do not generalize to holdout data (or additional collected data).\n",
    "\n",
    "We will specify the different parameters to be tested with `param_grid`. In this example we will allow several increasing values of `n_neighbors` and two distances `p` (l1 or l2 distance). \n",
    "\n"
   ]
  },
  {
   "cell_type": "code",
   "execution_count": 14,
   "metadata": {},
   "outputs": [
    {
     "data": {
      "text/plain": [
       "{'n_neighbors': 10, 'p': 1}"
      ]
     },
     "execution_count": 14,
     "metadata": {},
     "output_type": "execute_result"
    }
   ],
   "source": [
    "from sklearn.model_selection import GridSearchCV\n",
    "from sklearn.model_selection import PredefinedSplit\n",
    "from sklearn.metrics import make_scorer\n",
    "\n",
    "# data to fit\n",
    "X = table.values.T\n",
    "y = mf['host_subject_id'].values\n",
    "\n",
    "# Create a list where train data human skin indices are -1\n",
    "# and not human skin(keyboard) validation data indices are 0\n",
    "split_index = [-1 if x else 0\n",
    "               for x in mf.body_habitat == 'human skin']\n",
    "\n",
    "# Use the list to create PredefinedSplit\n",
    "pds = PredefinedSplit(test_fold = split_index)\n",
    "\n",
    "# grid to search\n",
    "param_grid = {'n_neighbors': [5, 10, 15, 20, 25],\n",
    "              'p': [1, 2]}\n",
    "\n",
    "# Use PredefinedSplit in GridSearchCV\n",
    "clf = GridSearchCV(estimator = KNeighborsClassifier(),\n",
    "                   cv=pds,\n",
    "                   scoring=make_scorer(accuracy_score),\n",
    "                   param_grid=param_grid)\n",
    "\n",
    "# Fit with all data\n",
    "clf.fit(X, y);\n",
    "# see the best model\n",
    "clf.best_params_\n"
   ]
  },
  {
   "cell_type": "markdown",
   "metadata": {},
   "source": [
    "We can see across the allowed parameters the best hyperparameters are `n_neighbors = 10` and a l1 distance (`p=1`). We can now extract the best model and test it with out split:\n"
   ]
  },
  {
   "cell_type": "code",
   "execution_count": 15,
   "metadata": {},
   "outputs": [
    {
     "data": {
      "text/plain": [
       "0.7972972972972973"
      ]
     },
     "execution_count": 15,
     "metadata": {},
     "output_type": "execute_result"
    }
   ],
   "source": [
    "# extract the \"best\" model\n",
    "model = clf.best_estimator_\n",
    "# predict using train/test\n",
    "y_model = model.fit(X_train, y_train).predict(X_test)\n",
    "# explore the accruacy of the mdoel\n",
    "accuracy_score(y_test, y_model)\n"
   ]
  },
  {
   "attachments": {},
   "cell_type": "markdown",
   "metadata": {},
   "source": [
    "We increased the accuracy by ~3% which is great. The grid search provides many more options, including the ability to specify many other ways to score other than accuracy, parallelized computation, randomized searches, different model comparison, and much more. \n",
    "\n",
    "We can next explore this concept by joining our previous results from the unsupervised learning by using the supervised learning on the first two axis from our ordination. First we will repeat our unsupervised plot from the last section:\n"
   ]
  },
  {
   "cell_type": "code",
   "execution_count": 16,
   "metadata": {},
   "outputs": [
    {
     "name": "stdout",
     "output_type": "stream",
     "text": [
      "Explained Variance \n",
      "[0.23789315 0.25636637 0.50574049]\n"
     ]
    },
    {
     "data": {
      "text/html": [
       "<div>\n",
       "<style scoped>\n",
       "    .dataframe tbody tr th:only-of-type {\n",
       "        vertical-align: middle;\n",
       "    }\n",
       "\n",
       "    .dataframe tbody tr th {\n",
       "        vertical-align: top;\n",
       "    }\n",
       "\n",
       "    .dataframe thead th {\n",
       "        text-align: right;\n",
       "    }\n",
       "</style>\n",
       "<table border=\"1\" class=\"dataframe\">\n",
       "  <thead>\n",
       "    <tr style=\"text-align: right;\">\n",
       "      <th></th>\n",
       "      <th>PC1</th>\n",
       "      <th>PC2</th>\n",
       "    </tr>\n",
       "  </thead>\n",
       "  <tbody>\n",
       "    <tr>\n",
       "      <th>232.M3Rinl217</th>\n",
       "      <td>-0.079711</td>\n",
       "      <td>-0.081546</td>\n",
       "    </tr>\n",
       "    <tr>\n",
       "      <th>232.M2Fkey217</th>\n",
       "      <td>0.158617</td>\n",
       "      <td>-0.014393</td>\n",
       "    </tr>\n",
       "    <tr>\n",
       "      <th>232.M2Pkey217</th>\n",
       "      <td>0.080204</td>\n",
       "      <td>0.015098</td>\n",
       "    </tr>\n",
       "  </tbody>\n",
       "</table>\n",
       "</div>"
      ],
      "text/plain": [
       "                    PC1       PC2\n",
       "232.M3Rinl217 -0.079711 -0.081546\n",
       "232.M2Fkey217  0.158617 -0.014393\n",
       "232.M2Pkey217  0.080204  0.015098"
      ]
     },
     "execution_count": 16,
     "metadata": {},
     "output_type": "execute_result"
    }
   ],
   "source": [
    "from scipy.sparse.linalg import svds\n",
    "from skbio.stats.composition import clr\n",
    "\n",
    "\n",
    "U, s, V = svds(clr(table + 1), k=3)\n",
    "explained_variance_ = s * (1 / s.sum())\n",
    "\n",
    "print('Explained Variance \\n%s' % explained_variance_[:4])\n",
    "\n",
    "PCAdf = pd.DataFrame(V.T[:,::-1][:,:2], table.columns, ['PC1','PC2'])\n",
    "PCAdf.head(3)"
   ]
  },
  {
   "cell_type": "code",
   "execution_count": 17,
   "metadata": {},
   "outputs": [],
   "source": [
    "%matplotlib inline\n",
    "import numpy as np\n",
    "import matplotlib.pyplot as plt\n",
    "import seaborn as sns; sns.set()"
   ]
  },
  {
   "cell_type": "code",
   "execution_count": 18,
   "metadata": {},
   "outputs": [
    {
     "data": {
      "image/png": "[encoded data removed]",
      "text/plain": [
       "<Figure size 720x360 with 1 Axes>"
      ]
     },
     "metadata": {
      "needs_background": "light"
     },
     "output_type": "display_data"
    }
   ],
   "source": [
    "PCAdf_plot = pd.concat([PCAdf, mf], axis=1, sort=False)\n",
    "\n",
    "fig, ax = plt.subplots(1,1, figsize=(10,5))\n",
    "\n",
    "sns.scatterplot(x='PC1',y='PC2', hue='host_subject_id',\n",
    "                style='body_habitat', data=PCAdf_plot, ax=ax)\n",
    "# add a legend\n",
    "handles, labels = ax.get_legend_handles_labels()\n",
    "legend = ax.legend(handles[:], labels[:],\n",
    "                    prop={'size':12}, loc=2, \n",
    "                    bbox_to_anchor=(1.1, 1.0),\n",
    "                    fancybox=True, framealpha=0.8,ncol=2\n",
    "                    , markerscale=1.5, facecolor=\"white\")\n",
    "\n",
    "plt.show()\n"
   ]
  },
  {
   "cell_type": "markdown",
   "metadata": {},
   "source": [
    "Now we will run our classification supervised learning on the PC1 & PC2 axis above. \n"
   ]
  },
  {
   "cell_type": "code",
   "execution_count": 19,
   "metadata": {},
   "outputs": [
    {
     "data": {
      "text/plain": [
       "0.8513513513513513"
      ]
     },
     "execution_count": 19,
     "metadata": {},
     "output_type": "execute_result"
    }
   ],
   "source": [
    "# specify the model (default)\n",
    "model = KNeighborsClassifier()\n",
    "# get test set\n",
    "test_samples = mf[mf.body_habitat == 'keyboard'].index\n",
    "X_test = PCAdf.loc[test_samples, :].values\n",
    "y_test = mf.loc[test_samples, 'host_subject_id'].values\n",
    "# get train set\n",
    "train_samples = mf[mf.body_habitat == 'human skin'].index\n",
    "X_train = PCAdf.loc[train_samples, :].values\n",
    "y_train = mf.loc[train_samples, 'host_subject_id'].values\n",
    "# predict using train/test\n",
    "y_model = model.fit(X_train, y_train).predict(X_test)\n",
    "# explore the accruacy of the mdoel\n",
    "accuracy_score(y_test, y_model)\n"
   ]
  },
  {
   "cell_type": "markdown",
   "metadata": {},
   "source": [
    "Wow, by reducing the dimensionality with unsupervised learning we actually get better classification accuracy. We can also try the grid search.\n"
   ]
  },
  {
   "cell_type": "code",
   "execution_count": 24,
   "metadata": {},
   "outputs": [
    {
     "data": {
      "text/plain": [
       "{'n_neighbors': 5, 'p': 1}"
      ]
     },
     "execution_count": 24,
     "metadata": {},
     "output_type": "execute_result"
    }
   ],
   "source": [
    "# data to fit\n",
    "X = PCAdf.reindex(mf.index).values\n",
    "y = mf['host_subject_id'].values\n",
    "\n",
    "# Create a list where train data human skin indices are -1\n",
    "# and not human skin(keyboard) validation data indices are 0\n",
    "split_index = [-1 if x else 0\n",
    "               for x in mf.body_habitat == 'human skin']\n",
    "\n",
    "# Use the list to create PredefinedSplit\n",
    "pds = PredefinedSplit(test_fold = split_index)\n",
    "\n",
    "# grid to search\n",
    "param_grid = {'n_neighbors': [5, 10, 15, 20, 30],\n",
    "              'p': [1, 2]}\n",
    "\n",
    "# Use PredefinedSplit in GridSearchCV\n",
    "clf = GridSearchCV(estimator = KNeighborsClassifier(),\n",
    "                   cv=pds,\n",
    "                   scoring=make_scorer(accuracy_score),\n",
    "                   param_grid=param_grid)\n",
    "\n",
    "# Fit with all data\n",
    "clf.fit(X, y);\n",
    "# see the best model\n",
    "clf.best_params_"
   ]
  },
  {
   "cell_type": "code",
   "execution_count": 25,
   "metadata": {},
   "outputs": [
    {
     "data": {
      "text/plain": [
       "0.8513513513513513"
      ]
     },
     "execution_count": 25,
     "metadata": {},
     "output_type": "execute_result"
    }
   ],
   "source": [
    "# extract the \"best\" model\n",
    "model = clf.best_estimator_\n",
    "# predict using train/test\n",
    "y_model = model.fit(X_train, y_train).predict(X_test)\n",
    "# explore the accruacy of the mdoel\n",
    "accuracy_score(y_test, y_model)\n"
   ]
  },
  {
   "cell_type": "markdown",
   "metadata": {},
   "source": [
    "In this case the grid search does not improve the accuracy because the `best_params_` happen to be the default for the classification. \n",
    "\n",
    "\n",
    "Now we can explore what happens as we change parameters in the model - in the classification boundary in PC1/PC2.\n"
   ]
  },
  {
   "cell_type": "code",
   "execution_count": 22,
   "metadata": {},
   "outputs": [],
   "source": [
    "# load data\n",
    "X = PCAdf.reindex(mf.index).values\n",
    "y = mf['host_subject_id'].values\n",
    "\n",
    "# encode str to int\n",
    "encode_ = {'M2':0,'M3':1,'M9':2}\n",
    "y = [encode_[i] for i in y]\n",
    "\n",
    "# Training classifiers\n",
    "n_neighbors_search = [1, 5, 10, 20, 30]\n",
    "clfs = [KNeighborsClassifier(n_neighbors=i)\n",
    "        for i in n_neighbors_search]\n",
    "# fit them all\n",
    "clfs = [clf.fit(X, y) for clf in clfs]\n"
   ]
  },
  {
   "cell_type": "code",
   "execution_count": 30,
   "metadata": {},
   "outputs": [
    {
     "data": {
      "image/png": "[encoded data removed]",
      "text/plain": [
       "<Figure size 1440x288 with 5 Axes>"
      ]
     },
     "metadata": {
      "needs_background": "light"
     },
     "output_type": "display_data"
    }
   ],
   "source": [
    "from sklearn.preprocessing import MinMaxScaler\n",
    "\n",
    "colors = {1:'#377eb8',2:'#ff7f00',3:'#4daf4a'}\n",
    " \n",
    "# Plotting decision regions\n",
    "scaler = MinMaxScaler((-1,1))\n",
    "X_plot = scaler.fit_transform(X)\n",
    "X_plot = pd.concat([pd.DataFrame(X_plot, mf.index), mf], axis=1)\n",
    "X_plot = X_plot[X_plot.body_habitat == 'keyboard']\n",
    "\n",
    "x_min, x_max = X[:, 0].min() - 1, X[:, 0].max() + 1\n",
    "y_min, y_max = X[:, 1].min() - 1, X[:, 1].max() + 1\n",
    "xx, yy = np.meshgrid(np.arange(x_min, x_max, 0.1),\n",
    "                     np.arange(y_min, y_max, 0.1))\n",
    "\n",
    "f, axarr = plt.subplots(1, len(clfs), sharex='col', sharey='row', figsize=(20, 4))\n",
    "\n",
    "for ax, clf, tt in zip(axarr.flatten(),\n",
    "                        clfs,\n",
    "                        ['KNN (k=%i)' % (i)\n",
    "                         for i in n_neighbors_search]):\n",
    "\n",
    "    Z = clf.predict(np.c_[xx.ravel(), yy.ravel()])\n",
    "    Z = Z.reshape(xx.shape)\n",
    "    ax.contourf(xx, yy, Z,\n",
    "                [-1,0,1,2,3],\n",
    "                alpha=0.4,\n",
    "                colors=['#377eb8',\n",
    "                        '#ff7f00',\n",
    "                        '#4daf4a'])\n",
    "    sns.scatterplot(x=0,y=1, hue='host_subject_id',\n",
    "                    style='body_habitat',\n",
    "                    data=X_plot, ax=ax)\n",
    "    ax.legend_.remove()\n",
    "    ax.set_title(tt, fontsize=22)\n",
    "    ax.set_ylim(-1,1)\n",
    "    ax.set_xlim(-1,1)\n",
    "    ax.set_ylabel('PC2')\n",
    "    ax.set_xlabel('PC1')\n",
    "\n",
    "# add a legend\n",
    "handles, labels = ax.get_legend_handles_labels()\n",
    "legend = ax.legend(handles[1:4], labels[1:4],\n",
    "                    prop={'size':25}, loc=2, \n",
    "                    bbox_to_anchor=(-3.0, -0.20),\n",
    "                    fancybox=True, framealpha=0.8,ncol=10\n",
    "                    , markerscale=2.5, facecolor=\"white\")\n",
    "\n",
    "plt.show()\n",
    "\n"
   ]
  },
  {
   "attachments": {},
   "cell_type": "markdown",
   "metadata": {},
   "source": [
    "In the shaded region we can see the boundary where the classifier chooses a subject. From this we can see that as wee increase the number of `n_neighbors` the boundary is more smooth but we begin to overfit on some of the blue samples.  By combining our unsupervised and supervised analysis we gain some ability to visually inspect out classification."
   ]
  }
 ],
 "metadata": {
  "kernelspec": {
   "display_name": "Python 3",
   "language": "python",
   "name": "python3"
  },
  "language_info": {
   "codemirror_mode": {
    "name": "ipython",
    "version": 3
   },
   "file_extension": ".py",
   "mimetype": "text/x-python",
   "name": "python",
   "nbconvert_exporter": "python",
   "pygments_lexer": "ipython3",
   "version": "3.6.7"
  }
 },
 "nbformat": 4,
 "nbformat_minor": 2
}
