{
 "cells": [
  {
   "cell_type": "markdown",
   "metadata": {},
   "source": [
    "# Machine Learning 101\n",
    "BISB Bootcamp 2020\n",
    "\n",
    "Author: Cameron Martino, cmartino at eng dot ucsd dot edu\n",
    "\n",
    "24 September 2020\n",
    "\n",
    "## Workshop Goals\n",
    "\n",
    "The goals of this workshop is to learn basic supervised and unsupervised machine learning in the context of bioinformatics. \n",
    "\n",
    "The notebooks are ordered numerically and expect that the pervious notebook is read prior to the start of the next (e.g. 1.0 before 2.0).\n",
    "xxx\n",
    "* [Introduction to Machine Learning](1.0-introduction-to-machine-learning.ipynb)\n",
    "\n",
    "This notebook explores the basic terminology and goals of machine learning. \n",
    "\n",
    "* [Intro to Count Data](2.0-count-data-intro.ipynb)\n",
    "\n",
    "This notebook introduces normalizations and transformations common in bioinformatic based machine learning.\n",
    "\n",
    "* [Unsupervised Learning](3.0-general-unsupervised-learning.ipynb)\n",
    "\n",
    "This notebook introduces unsupervised learning concepts and an use case example in real world 16S microbiome data.\n",
    "\n",
    "\n",
    "* [Supervised Learning](4.0-general-supervised-learning-proceedure.ipynb)\n",
    "\n",
    "This notebook introduces supervised learning concepts and continues the real world microbiome example introduced in 3.0. \n",
    "\n",
    "# Notebook dependencies \n",
    "\n",
    "pandas >=0.25.2\n",
    "matplotlib >=3.1.0\n",
    "seaborn >=0.9.0\n",
    "scikit-learn >=0.21.2\n",
    "scikit-bio >=0.5.5\n",
    "numpy >=1.17.3\n",
    "scipy >=1.3.1\n",
    "biom-format >=2.1.7"
   ]
  }
 ],
 "metadata": {
  "kernelspec": {
   "display_name": "Python 3",
   "language": "python",
   "name": "python3"
  },
  "language_info": {
   "codemirror_mode": {
    "name": "ipython",
    "version": 3
   },
   "file_extension": ".py",
   "mimetype": "text/x-python",
   "name": "python",
   "nbconvert_exporter": "python",
   "pygments_lexer": "ipython3",
   "version": "3.6.7"
  }
 },
 "nbformat": 4,
 "nbformat_minor": 2
}
