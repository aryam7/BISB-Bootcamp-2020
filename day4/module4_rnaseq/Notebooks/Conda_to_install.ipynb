{
  "cells": [
    {
      "cell_type": "markdown",
      "source": [
        "# Using conda to download useful packages\n",
        "\n",
        "## Conda and pip to install programs\n",
        "\n",
        "Conda is really nice because it automates all the installations and downloads for us, rather than having to download the source code and install each one manually. Conda is the preferred installation method. There are many packages available in the default conda-forge channel for conda but not all. Some things that are not available in conda-forge are available in the bioconda channel. Finally if it isn't available in either, you can try pip. As a general rule of thumb, try conda first, then bioconda, then pip. If it is not available with any of those, then you have to download the sourcecode and follow the specific installation instructions provided in the README document for the software. You can also turn to google with those specific keywords (conda, pip) to figure out how to install packages. \n",
        "\n",
        "```\n",
        "$ conda install package_name\n",
        "    \n",
        "$ conda install -c bioconda package_name\n",
        "    \n",
        "$ pip install package_name\n",
        "```\n",
        "    \n",
        "We are going to use the following programs so install them all from the bioconda channel:\n",
        "\n",
        "```\n",
        "$ conda install -c bioconda STAR\n",
        "   \n",
        "$ conda install -c bioconda samtools\n",
        "```   \n",
        "   \n",
        "For all of these, use the defaults on what will be automatically upgraded (yes to all).\n",
        "\n",
        "You can check if it installed properly by searching for the executable command with which:\n",
        "\n",
        "```\n",
        "$ which STAR\n",
        "\n",
        "$ which samtools\n",
        "```   \n",
        "   \n",
        "#### NOTE: \n",
        "If later on you get error messages that a specific package name can not be found when trying to run a program - use one of these methods to install that package and then try to run your program again*\n",
        "\n",
        "    "
      ],
      "metadata": {}
    },
    {
      "cell_type": "markdown",
      "source": [],
      "metadata": {}
    }
  ],
  "metadata": {
    "kernel_info": {
      "name": "python3"
    },
    "language_info": {
      "name": "python",
      "version": "3.6.7",
      "mimetype": "text/x-python",
      "codemirror_mode": {
        "name": "ipython",
        "version": 3
      },
      "pygments_lexer": "ipython3",
      "nbconvert_exporter": "python",
      "file_extension": ".py"
    },
    "kernelspec": {
      "name": "python3",
      "language": "python",
      "display_name": "Python 3"
    },
    "nteract": {
      "version": "0.15.0"
    }
  },
  "nbformat": 4,
  "nbformat_minor": 0
}