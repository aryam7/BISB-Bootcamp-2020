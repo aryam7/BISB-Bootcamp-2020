{
  "cells": [
    {
      "cell_type": "markdown",
      "source": [
        "# Installing conda"
      ],
      "metadata": {}
    },
    {
      "cell_type": "markdown",
      "source": [
        "### Download the conda Python/R package manager via Miniconda. \n",
        "\n",
        "- The link below is from the Miniconda downloads [page](https://docs.conda.io/en/latest/miniconda.html). \n",
        "- TSCC runs on linux, so we will download the python 3.7 linux version (make sure to switch to the linux tab on the downloads page). \n",
        "- Right click on the download button and choose \"Copy Link Address\". \n",
        "- Move to your home directory on TSCC and paste the link address after a `wget` command. (wget = web get)."
      ],
      "metadata": {}
    },
    {
      "cell_type": "markdown",
      "source": [
        "Now download and install Miniconda in your home directory. \n",
        "\n",
        "```\n",
        "cd ~\n",
        "```"
      ],
      "metadata": {}
    },
    {
      "cell_type": "code",
      "source": [
        "wget https://repo.anaconda.com/miniconda/Miniconda3-latest-Linux-x86_64.sh\n",
        "bash Miniconda3-latest-Linux-x86_64.sh"
      ],
      "outputs": [],
      "execution_count": null,
      "metadata": {}
    },
    {
      "cell_type": "markdown",
      "source": [
        "It will ask you a bunch of questions. Make sure that you use the defaults for all of them (press enter for all). \n",
        "\n",
        "Start pressing ENTER through all the license agreements. Type 'yes' when it asks if you agree to everything. \n",
        " \n",
        "    \n",
        "One of the important questions it will ask during installation is if you want to add this to the PATH variable in your ~/.bashrc. You will get a prompt that looks like this:\n",
        "\n",
        "    Miniconda3 will now be installed into this location:\n",
        "    /home/ucsd-train40/miniconda3\n",
        "\n",
        "      - Press ENTER to confirm the location\n",
        "      - Press CTRL-C to abort the installation\n",
        "      - Or specify a different location below\n",
        "\n",
        "    [/home/ucsd-train40/miniconda3] >>>\n",
        "    \n",
        "    \n",
        "    Press ENTER to confirm the location.\n",
        "\n",
        "**Check that path was properly appended to the bashrc**\n",
        "\n",
        "Check that the anaconda bin was added to your path by looking at your bashrc file:\n",
        "\n",
        "    less ~/.bashrc\n",
        "    \n",
        "There should be a line in there that looks something like this located BELOW the line \"#User specific aliases and functions\":\n",
        "    \n",
        "    export PATH=/home/ucsd-train40/miniconda3/bin:$PATH\n",
        "\n",
        "\n",
        "#### NOTE:  \n",
        "You can choose whether to prepend or append the directory to your $PATH variable.  \n",
        "\n",
        "    export PATH=$PATH:/home/ucsd-train40/miniconda3/bin \n",
        "    \n",
        "would put this directory at front of your $PATH variable, whereas\n",
        "\n",
        "    export PATH=/home/ucsd-train40/miniconda3/bin:$PATH \n",
        "    \n",
        "would put this directory at the end of your $PATH variable.\n",
        "\n",
        "**The priority of directories to search for executables depends on its order in your $PATH variable, so this can be useful if you have multiple versions of programs.**  \n",
        "\n",
        "\n",
        "\n",
        "If this is in there, then success! To activate the changes, source your .bashrc\n",
        "\n",
        "    source ~/.bashrc\n",
        "    \n",
        "If it is not in your ~/.bashrc, you need to put it in there. Do so by copying the following line of code into your .bashrc file:\n",
        "\n",
        "    export PATH=/home/ucsd-train##/miniconda3/bin:$PATH\n",
        "    \n",
        "Remember to change the ## into your number. Edit your ~/.bashrc with vi and paste the line below where it says #User specific aliases and functions. \n",
        "\n",
        "    vi ~/.bashrc\n",
        "    i \n",
        "\n",
        "**Use the arrow keys to move around the file and paste the following line BELOW \"#User specific aliases and functions\":** \n",
        "\n",
        "export PATH=/home/ucsd-train40/miniconda3/bin:$PATH\n",
        "\n",
        "    esc\n",
        "    :wq\n",
        "    \n",
        "    source ~/.bashrc\n",
        "    \n",
        "The file is automatically sourced when you login to TSCC, but since we did not log out and back in since installing anaconda, we need to manually run the source. \n",
        "\n",
        "Check that it is working properly by searching for python:\n",
        "\n",
        "    which python\n",
        "    \n",
        "The output should look something like:\n",
        "\n",
        "    ~/miniconda3/bin/python\n",
        "    \n",
        "What python version are you running?\n",
        "\n",
        "    python --version\n",
        "    \n",
        "  "
      ],
      "metadata": {}
    },
    {
      "cell_type": "markdown",
      "source": [
        "Now install the following packages that we will use in our analyses:"
      ],
      "metadata": {}
    },
    {
      "cell_type": "code",
      "source": [
        "conda install -c anaconda numpy pandas jupyter\n",
        "\n",
        "conda install -c bioconda STAR fastqc subread\n",
        "\n",
        "conda install -c conda-forge -c bioconda samtools bzip2"
      ],
      "outputs": [],
      "execution_count": null,
      "metadata": {}
    }
  ],
  "metadata": {
    "kernelspec": {
      "name": "python3",
      "language": "python",
      "display_name": "Python 3"
    },
    "language_info": {
      "name": "python",
      "version": "3.6.7",
      "mimetype": "text/x-python",
      "codemirror_mode": {
        "name": "ipython",
        "version": 3
      },
      "pygments_lexer": "ipython3",
      "nbconvert_exporter": "python",
      "file_extension": ".py"
    },
    "kernel_info": {
      "name": "python3"
    },
    "nteract": {
      "version": "0.15.0"
    }
  },
  "nbformat": 4,
  "nbformat_minor": 2
}