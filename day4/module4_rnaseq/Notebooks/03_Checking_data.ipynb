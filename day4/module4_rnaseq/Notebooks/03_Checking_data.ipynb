{
 "cells": [
  {
   "cell_type": "markdown",
   "metadata": {},
   "source": [
    "Before we do this, let's clone the GitHub repository into our directory:\n",
    "\n",
    "```\n",
    "git clone https://github.com/biom262/cmm262-2020.git\n",
    "```"
   ]
  },
  {
   "cell_type": "markdown",
   "metadata": {},
   "source": [
    "# Checking (quality of) sequencing data "
   ]
  },
  {
   "cell_type": "markdown",
   "metadata": {},
   "source": [
    "After downloading your sequencing data it is a good idea to briefly look at the files and check the sequencing quality. To take a look at the files themselves we can run the following command:"
   ]
  },
  {
   "cell_type": "code",
   "execution_count": null,
   "metadata": {
    "collapsed": false,
    "inputHidden": false,
    "jupyter": {
     "outputs_hidden": false
    },
    "outputHidden": false
   },
   "outputs": [],
   "source": [
    "cd ~/cmm262-2020/Module_2/Data/\n",
    "cat TARDBP_shRNA_HepG2_Rep1_R1.fastq.gz"
   ]
  },
  {
   "cell_type": "markdown",
   "metadata": {},
   "source": [
    "Hmm the above didn't work, can you think of why?"
   ]
  },
  {
   "cell_type": "code",
   "execution_count": null,
   "metadata": {},
   "outputs": [],
   "source": [
    "zcat TARDBP_shRNA_HepG2_Rep1_R1.fastq.gz"
   ]
  },
  {
   "cell_type": "markdown",
   "metadata": {},
   "source": [
    "When working with gzipped files (most fastq files are), use `zcat` to view the file."
   ]
  },
  {
   "cell_type": "markdown",
   "metadata": {},
   "source": [
    "You will now see the standard file format for sequencing data. A FASTQ file normally uses four lines per sequence.\n",
    "\n",
    "- Line 1 begins with a '@' character and is followed by a sequence identifier and an optional description (like a FASTA title line).\n",
    "- Line 2 is the raw sequence letters.\n",
    "- Line 3 begins with a '+' character and is optionally followed by the same sequence identifier (and any description) again.\n",
    "- Line 4 encodes the quality values for the sequence in Line 2, and must contain the same number of symbols as letters in the sequence.\n",
    "\n",
    "Since the file looks ok we can check its sequencing quality"
   ]
  },
  {
   "cell_type": "markdown",
   "metadata": {},
   "source": [
    "For sequencing quality 'fastqc' is a convienent program which quickly gives a useful overview of how well the sequencing run went. In our case we will look at one of the downloaded files from the TARDBP shRNA experiment from ENCODE.\n",
    "\n",
    "Since we are not using TSCC - let's use the example found here: \n",
    "```\n",
    "~/cmm262-2020/Module_2/Data/TARDBP_shRNA_HepG2_Rep1_R1_fastqc.html\n",
    "```"
   ]
  },
  {
   "cell_type": "markdown",
   "metadata": {},
   "source": [
    "Once fastqc is downloaded you can implement like this: \n",
    "```\n",
    "fastqc TARDBP_shRNA_HepG2_Rep1_R1.fastq.gz -o ~/fastqc_output \n",
    "```"
   ]
  },
  {
   "cell_type": "markdown",
   "metadata": {},
   "source": [
    "This will take a few minutes. The progress will continously be updated in the open terminal. After completion move the files to your local computer and examine the files."
   ]
  }
 ],
 "metadata": {
  "kernel_info": {
   "name": "python3"
  },
  "kernelspec": {
   "display_name": "Python 3",
   "language": "python",
   "name": "python3"
  },
  "language_info": {
   "codemirror_mode": {
    "name": "ipython",
    "version": 3
   },
   "file_extension": ".py",
   "mimetype": "text/x-python",
   "name": "python",
   "nbconvert_exporter": "python",
   "pygments_lexer": "ipython3",
   "version": "3.7.3"
  },
  "nteract": {
   "version": "0.15.0"
  }
 },
 "nbformat": 4,
 "nbformat_minor": 4
}
