{
 "cells": [
  {
   "cell_type": "markdown",
   "metadata": {},
   "source": [
    "# In this notebook, we will sort and index bam files for downstream analyses"
   ]
  },
  {
   "cell_type": "markdown",
   "metadata": {},
   "source": [
    "**Introduction to samtools**\n",
    "\n",
    "We will next use samtools to work with out aligned sequencing data, which is currently in SAM (Sequence Alignment/Map) format. Samtools is a nice tool to manipulate alignments stored in both SAM and BAM (binary version of SAM) files. Since BAM files are binary, they can only be read by the computer. Samtools is a great tool that lets us view the contents of BAM files and perform various manipulations on them. \n",
    "\n",
    "Check out the samtools [documentation](http://www.htslib.org/doc/samtools.html).\n",
    "\n",
    "Some of these commands might not mean much right now so let's take a look at our aligned .sam files"
   ]
  },
  {
   "cell_type": "raw",
   "metadata": {},
   "source": [
    "less yeast_example_Aligned.out.sam"
   ]
  },
  {
   "cell_type": "markdown",
   "metadata": {},
   "source": [
    "You will notice that the format is all over the place. You can structure the file a bit more by using:"
   ]
  },
  {
   "cell_type": "raw",
   "metadata": {},
   "source": [
    "less -S less yeast_example_Aligned.out.sam"
   ]
  },
  {
   "cell_type": "markdown",
   "metadata": {},
   "source": [
    "This file is not easy to interpret. This is because a lot of information has to be fitted within this file. There is a full .sam file documentation which you can find [here](http://samtools.github.io/hts-specs/SAMv1.pdf). However, there is a lot of information has to be conveyed and not all is useful. Here a few pointers:"
   ]
  },
  {
   "cell_type": "markdown",
   "metadata": {},
   "source": [
    "The header lines: \n",
    "\n",
    "@SQ: Reference sequence dictionary. Gives information about the sequence alignments to the reference genome. \n",
    "\n",
    "@PG: The command used for the alignment \n",
    "\n",
    "Column 1: read name \n",
    "\n",
    "Column 2: bitwise flag. Most importantly '4' means unmapped \n",
    "\n",
    "Column 3: Technically reference sequence name (from header section). Essentially the chromosome to which it was mapped. \n",
    "\n",
    "Column 4: leftmost mapping position \n",
    "\n",
    "Column 5: mapping quality, 255 means quality not available \n",
    "\n",
    "Column 6: CIGAR, specifies how the mapping took place. S (soft clipped), M (mapped), N (skipped region from reference) \n",
    "\n",
    "Column 7-9: info about other read pair \n",
    "\n",
    "Column 10: nucleotide sequence \n",
    "\n",
    "Column 11: base quality Column \n",
    "\n",
    "12+: additional information, nM (number of mismatches)"
   ]
  },
  {
   "cell_type": "markdown",
   "metadata": {},
   "source": [
    "\n",
    "### Q:\n",
    "Remember we downloaded samtools at the beginning of class. How do you check if it downloaded and what version you are running?\n",
    "    \n",
    "\n",
    "Now we need to use samtools to sort and index BAM files for downstream analysis. First, work with your partner to figure out how you would sort a BAM/SAM file and save it to a new file with the extension .sorted.bam\n",
    "\n",
    "\n",
    "```\n",
    "samtools sort -o example.sam -O BAM  -o example.sorted.bam\n",
    "```\n",
    "  \n",
    "\n",
    "*Q: What was the file format of output of out alignment? Will this work (and if so, how do you know)*\n",
    "\n",
    "\n",
    "We also need a bai index of the sorted bam file that we just created. Again, work with your partner to determine what that command would look like.\n",
    "\n",
    "\n",
    "    samtools index example.sorted.bam\n",
    "    "
   ]
  },
  {
   "cell_type": "markdown",
   "metadata": {},
   "source": [
    " "
   ]
  },
  {
   "cell_type": "markdown",
   "metadata": {},
   "source": [
    "**Looking at bam files with samtools**\n",
    "\n",
    "On the resulting BAM files, try out some of the samtools commands:\n",
    "\n",
    "    samtools view interesting_file.bam (or intersting_file.sam)\n",
    "    \n",
    "This will print all the alignments in the provided alignment file in SAM format. This leads to A LOT of text being dispayed in the screen at once. Use control-c (or cmd-c) to end the command. How would I be able to use samtools to viewe my BAM file of interest but only display minimal text at one time? \n",
    "    \n",
    "    samtools flagstat insteresting_file.bam\n",
    "    \n",
    "This will calculate and give you quality control (QC) statistics for your alignment file.\n",
    "\n",
    "Aa an example:"
   ]
  },
  {
   "cell_type": "markdown",
   "metadata": {},
   "source": [
    "70395066 + 3443258 in total (QC-passed reads + QC-failed reads)\n",
    "\n",
    "2960624 + 181960 secondary\n",
    "\n",
    "0 + 0 supplementary\n",
    "\n",
    "0 + 0 duplicates\n",
    "\n",
    "70395066 + 3443258 mapped (100.00% : 100.00%)\n",
    "\n",
    "67434442 + 3261298 paired in sequencing\n",
    "\n",
    "33717221 + 1630649 read1\n",
    "\n",
    "33717221 + 1630649 read2\n",
    "\n",
    "67434442 + 3261298 properly paired (100.00% : 100.00%)\n",
    "\n",
    "67434442 + 3261298 with itself and mate mapped\n",
    "\n",
    "0 + 0 singletons (0.00% : 0.00%)\n",
    "\n",
    "0 + 0 with mate mapped to a different chr\n",
    "\n",
    "0 + 0 with mate mapped to a different chr (mapQ>=5)\n"
   ]
  },
  {
   "cell_type": "raw",
   "metadata": {},
   "source": [
    "Line 1: information about all the reads\n",
    "\n",
    "Line 2-4: Gives summary of bit set from column 2 in the sam file.\n",
    "\n",
    "Line 5: how many reads mapped"
   ]
  },
  {
   "cell_type": "markdown",
   "metadata": {},
   "source": [
    "*What else can samtools do? Read the documentation to find out what other tools are available to you through samtools.*\n",
    "\n",
    "We will use the resulting sorted BAM files to run featureCounts, which will summarize our reads and map them back to genomic features (in our case, genes) so we can perform differential gene expression analysis."
   ]
  },
  {
   "cell_type": "code",
   "execution_count": null,
   "metadata": {
    "collapsed": true,
    "jupyter": {
     "outputs_hidden": true
    }
   },
   "outputs": [],
   "source": []
  }
 ],
 "metadata": {
  "kernel_info": {
   "name": "python3"
  },
  "kernelspec": {
   "display_name": "Python 3",
   "language": "python",
   "name": "python3"
  },
  "language_info": {
   "codemirror_mode": {
    "name": "ipython",
    "version": 3
   },
   "file_extension": ".py",
   "mimetype": "text/x-python",
   "name": "python",
   "nbconvert_exporter": "python",
   "pygments_lexer": "ipython3",
   "version": "3.7.3"
  },
  "nteract": {
   "version": "0.15.0"
  }
 },
 "nbformat": 4,
 "nbformat_minor": 4
}
